{
  "nbformat": 4,
  "nbformat_minor": 0,
  "metadata": {
    "kernelspec": {
      "display_name": "Python 3",
      "language": "python",
      "name": "python3"
    },
    "language_info": {
      "codemirror_mode": {
        "name": "ipython",
        "version": 3
      },
      "file_extension": ".py",
      "mimetype": "text/x-python",
      "name": "python",
      "nbconvert_exporter": "python",
      "pygments_lexer": "ipython3",
      "version": "3.7.7"
    },
    "colab": {
      "name": "Recommendation.ipynb",
      "provenance": [],
      "collapsed_sections": [],
      "toc_visible": true
    }
  },
  "cells": [
    {
      "cell_type": "markdown",
      "metadata": {
        "id": "VPzkQfCW7LX8"
      },
      "source": [
        "## **Sentiment Analysis, Model building and Prediction**\r\n",
        "\r\n",
        "---\r\n",
        "\r\n",
        "\r\n",
        "\r\n",
        "In this notebook we performed Sentiment Analysis of tweets for extracted shows for each user and then deep learning models are created. MLP models and Single layer models are created and results are evaluated. Recommendations are then made based on predicted sentiment scores for a user."
      ]
    },
    {
      "cell_type": "code",
      "metadata": {
        "colab": {
          "base_uri": "https://localhost:8080/"
        },
        "id": "175Z5pDAKiP4",
        "outputId": "84607d1a-fcce-4f71-9416-4d116ac59025"
      },
      "source": [
        "# Install all libraries required to run the file\n",
        "!pip install vaderSentiment\n",
        "!pip install textblob\n",
        "!pip install numpy\n",
        "!pip install matplotlib\n",
        "!pip install seaborn\n",
        "!pip install nltk\n",
        "!pip install sklearn\n",
        "!pip install keras"
      ],
      "execution_count": null,
      "outputs": [
        {
          "output_type": "stream",
          "text": [
            "Collecting vaderSentiment\n",
            "\u001b[?25l  Downloading https://files.pythonhosted.org/packages/76/fc/310e16254683c1ed35eeb97386986d6c00bc29df17ce280aed64d55537e9/vaderSentiment-3.3.2-py2.py3-none-any.whl (125kB)\n",
            "\r\u001b[K     |██▋                             | 10kB 19.6MB/s eta 0:00:01\r\u001b[K     |█████▏                          | 20kB 10.8MB/s eta 0:00:01\r\u001b[K     |███████▉                        | 30kB 8.5MB/s eta 0:00:01\r\u001b[K     |██████████▍                     | 40kB 7.4MB/s eta 0:00:01\r\u001b[K     |█████████████                   | 51kB 4.1MB/s eta 0:00:01\r\u001b[K     |███████████████▋                | 61kB 4.6MB/s eta 0:00:01\r\u001b[K     |██████████████████▏             | 71kB 4.7MB/s eta 0:00:01\r\u001b[K     |████████████████████▉           | 81kB 5.0MB/s eta 0:00:01\r\u001b[K     |███████████████████████▍        | 92kB 5.3MB/s eta 0:00:01\r\u001b[K     |██████████████████████████      | 102kB 5.4MB/s eta 0:00:01\r\u001b[K     |████████████████████████████▋   | 112kB 5.4MB/s eta 0:00:01\r\u001b[K     |███████████████████████████████▏| 122kB 5.4MB/s eta 0:00:01\r\u001b[K     |████████████████████████████████| 133kB 5.4MB/s \n",
            "\u001b[?25hRequirement already satisfied: requests in /usr/local/lib/python3.6/dist-packages (from vaderSentiment) (2.23.0)\n",
            "Requirement already satisfied: urllib3!=1.25.0,!=1.25.1,<1.26,>=1.21.1 in /usr/local/lib/python3.6/dist-packages (from requests->vaderSentiment) (1.24.3)\n",
            "Requirement already satisfied: idna<3,>=2.5 in /usr/local/lib/python3.6/dist-packages (from requests->vaderSentiment) (2.10)\n",
            "Requirement already satisfied: chardet<4,>=3.0.2 in /usr/local/lib/python3.6/dist-packages (from requests->vaderSentiment) (3.0.4)\n",
            "Requirement already satisfied: certifi>=2017.4.17 in /usr/local/lib/python3.6/dist-packages (from requests->vaderSentiment) (2020.12.5)\n",
            "Installing collected packages: vaderSentiment\n",
            "Successfully installed vaderSentiment-3.3.2\n",
            "Requirement already satisfied: textblob in /usr/local/lib/python3.6/dist-packages (0.15.3)\n",
            "Requirement already satisfied: nltk>=3.1 in /usr/local/lib/python3.6/dist-packages (from textblob) (3.2.5)\n",
            "Requirement already satisfied: six in /usr/local/lib/python3.6/dist-packages (from nltk>=3.1->textblob) (1.15.0)\n",
            "Requirement already satisfied: numpy in /usr/local/lib/python3.6/dist-packages (1.19.4)\n",
            "Requirement already satisfied: matplotlib in /usr/local/lib/python3.6/dist-packages (3.2.2)\n",
            "Requirement already satisfied: numpy>=1.11 in /usr/local/lib/python3.6/dist-packages (from matplotlib) (1.19.4)\n",
            "Requirement already satisfied: python-dateutil>=2.1 in /usr/local/lib/python3.6/dist-packages (from matplotlib) (2.8.1)\n",
            "Requirement already satisfied: cycler>=0.10 in /usr/local/lib/python3.6/dist-packages (from matplotlib) (0.10.0)\n",
            "Requirement already satisfied: pyparsing!=2.0.4,!=2.1.2,!=2.1.6,>=2.0.1 in /usr/local/lib/python3.6/dist-packages (from matplotlib) (2.4.7)\n",
            "Requirement already satisfied: kiwisolver>=1.0.1 in /usr/local/lib/python3.6/dist-packages (from matplotlib) (1.3.1)\n",
            "Requirement already satisfied: six>=1.5 in /usr/local/lib/python3.6/dist-packages (from python-dateutil>=2.1->matplotlib) (1.15.0)\n",
            "Requirement already satisfied: seaborn in /usr/local/lib/python3.6/dist-packages (0.11.0)\n",
            "Requirement already satisfied: pandas>=0.23 in /usr/local/lib/python3.6/dist-packages (from seaborn) (1.1.5)\n",
            "Requirement already satisfied: matplotlib>=2.2 in /usr/local/lib/python3.6/dist-packages (from seaborn) (3.2.2)\n",
            "Requirement already satisfied: numpy>=1.15 in /usr/local/lib/python3.6/dist-packages (from seaborn) (1.19.4)\n",
            "Requirement already satisfied: scipy>=1.0 in /usr/local/lib/python3.6/dist-packages (from seaborn) (1.4.1)\n",
            "Requirement already satisfied: pytz>=2017.2 in /usr/local/lib/python3.6/dist-packages (from pandas>=0.23->seaborn) (2018.9)\n",
            "Requirement already satisfied: python-dateutil>=2.7.3 in /usr/local/lib/python3.6/dist-packages (from pandas>=0.23->seaborn) (2.8.1)\n",
            "Requirement already satisfied: kiwisolver>=1.0.1 in /usr/local/lib/python3.6/dist-packages (from matplotlib>=2.2->seaborn) (1.3.1)\n",
            "Requirement already satisfied: pyparsing!=2.0.4,!=2.1.2,!=2.1.6,>=2.0.1 in /usr/local/lib/python3.6/dist-packages (from matplotlib>=2.2->seaborn) (2.4.7)\n",
            "Requirement already satisfied: cycler>=0.10 in /usr/local/lib/python3.6/dist-packages (from matplotlib>=2.2->seaborn) (0.10.0)\n",
            "Requirement already satisfied: six>=1.5 in /usr/local/lib/python3.6/dist-packages (from python-dateutil>=2.7.3->pandas>=0.23->seaborn) (1.15.0)\n",
            "Requirement already satisfied: nltk in /usr/local/lib/python3.6/dist-packages (3.2.5)\n",
            "Requirement already satisfied: six in /usr/local/lib/python3.6/dist-packages (from nltk) (1.15.0)\n",
            "Requirement already satisfied: sklearn in /usr/local/lib/python3.6/dist-packages (0.0)\n",
            "Requirement already satisfied: scikit-learn in /usr/local/lib/python3.6/dist-packages (from sklearn) (0.22.2.post1)\n",
            "Requirement already satisfied: joblib>=0.11 in /usr/local/lib/python3.6/dist-packages (from scikit-learn->sklearn) (1.0.0)\n",
            "Requirement already satisfied: numpy>=1.11.0 in /usr/local/lib/python3.6/dist-packages (from scikit-learn->sklearn) (1.19.4)\n",
            "Requirement already satisfied: scipy>=0.17.0 in /usr/local/lib/python3.6/dist-packages (from scikit-learn->sklearn) (1.4.1)\n",
            "Requirement already satisfied: keras in /usr/local/lib/python3.6/dist-packages (2.4.3)\n",
            "Requirement already satisfied: scipy>=0.14 in /usr/local/lib/python3.6/dist-packages (from keras) (1.4.1)\n",
            "Requirement already satisfied: h5py in /usr/local/lib/python3.6/dist-packages (from keras) (2.10.0)\n",
            "Requirement already satisfied: numpy>=1.9.1 in /usr/local/lib/python3.6/dist-packages (from keras) (1.19.4)\n",
            "Requirement already satisfied: pyyaml in /usr/local/lib/python3.6/dist-packages (from keras) (3.13)\n",
            "Requirement already satisfied: six in /usr/local/lib/python3.6/dist-packages (from h5py->keras) (1.15.0)\n"
          ],
          "name": "stdout"
        }
      ]
    },
    {
      "cell_type": "code",
      "metadata": {
        "id": "7wqAW8eYKTES"
      },
      "source": [
        "# Import libraries required to run the file\n",
        "import re \n",
        "import pandas as pd \n",
        "pd.set_option(\"display.max_colwidth\", 200)\n",
        "import numpy as np \n",
        "import matplotlib.pyplot as plt \n",
        "import seaborn as sns\n",
        "import string\n",
        "import nltk\n",
        "from sklearn.model_selection import train_test_split\n",
        "from textblob import TextBlob\n",
        "from vaderSentiment.vaderSentiment import SentimentIntensityAnalyzer\n",
        "from sklearn.preprocessing import MinMaxScaler\n",
        "from sklearn.cluster import KMeans\n",
        "import csv\n",
        "import plotly\n",
        "import re"
      ],
      "execution_count": null,
      "outputs": []
    },
    {
      "cell_type": "markdown",
      "metadata": {
        "id": "ZrJWlZZg8O_O"
      },
      "source": [
        "After pre-processing stage a final dataframe was created with user ids, extracted shownames and corresponding tweets which was then saved to a csv file \"mytweetmodel\". Read the csv file here and perform sentiment analysis.\r\n"
      ]
    },
    {
      "cell_type": "code",
      "metadata": {
        "colab": {
          "base_uri": "https://localhost:8080/",
          "height": 375
        },
        "id": "3UjQt_GeKTES",
        "outputId": "4e3210bc-ce70-4cca-ede1-392c952fceb8"
      },
      "source": [
        "#Read the pre-processed data\n",
        "df_tweets = pd.read_csv('mytweetmodel_.csv')\n",
        "df_tweets.head()"
      ],
      "execution_count": null,
      "outputs": [
        {
          "output_type": "execute_result",
          "data": {
            "text/html": [
              "<div>\n",
              "<style scoped>\n",
              "    .dataframe tbody tr th:only-of-type {\n",
              "        vertical-align: middle;\n",
              "    }\n",
              "\n",
              "    .dataframe tbody tr th {\n",
              "        vertical-align: top;\n",
              "    }\n",
              "\n",
              "    .dataframe thead th {\n",
              "        text-align: right;\n",
              "    }\n",
              "</style>\n",
              "<table border=\"1\" class=\"dataframe\">\n",
              "  <thead>\n",
              "    <tr style=\"text-align: right;\">\n",
              "      <th></th>\n",
              "      <th>user_id</th>\n",
              "      <th>title</th>\n",
              "      <th>text</th>\n",
              "      <th>Genre</th>\n",
              "      <th>show_id</th>\n",
              "      <th>created</th>\n",
              "    </tr>\n",
              "  </thead>\n",
              "  <tbody>\n",
              "    <tr>\n",
              "      <th>0</th>\n",
              "      <td>1026509053147664384</td>\n",
              "      <td>Love</td>\n",
              "      <td>i love Dave Chappelle.</td>\n",
              "      <td>Romance</td>\n",
              "      <td>81033200</td>\n",
              "      <td>2020-12-15 08:09:27</td>\n",
              "    </tr>\n",
              "    <tr>\n",
              "      <th>1</th>\n",
              "      <td>1031993857876086785</td>\n",
              "      <td>After</td>\n",
              "      <td>After reading \"Santa's Stuck\" by Rhonda Gowler Greene, Mrs. Ortiz's fourth graders had to do their own drawing. The… https://t.co/O2LHXoP7W3</td>\n",
              "      <td>Romance</td>\n",
              "      <td>80244311</td>\n",
              "      <td>2020-12-18 18:31:19</td>\n",
              "    </tr>\n",
              "    <tr>\n",
              "      <th>2</th>\n",
              "      <td>1087549809551204352</td>\n",
              "      <td>Love</td>\n",
              "      <td>✨Love like there’s no tomorrow✨</td>\n",
              "      <td>Romance</td>\n",
              "      <td>81033200</td>\n",
              "      <td>2020-11-28 05:19:44</td>\n",
              "    </tr>\n",
              "    <tr>\n",
              "      <th>3</th>\n",
              "      <td>1121629253135556609</td>\n",
              "      <td>Still</td>\n",
              "      <td>🤔 I still count myself as new to the social work profession and have yet to read any of Brene Brown’s books..... wa… https://t.co/9D7FTz63ew</td>\n",
              "      <td>Horror</td>\n",
              "      <td>80999985</td>\n",
              "      <td>2020-10-04 06:36:22</td>\n",
              "    </tr>\n",
              "    <tr>\n",
              "      <th>4</th>\n",
              "      <td>1288184693201002500</td>\n",
              "      <td>Outlander</td>\n",
              "      <td>@vicky_gilmour @Outlander_STARZ Yes, I think between 30-35 is a good  “in our heads” age to stick with! Still young… https://t.co/kfpd4WDpFe</td>\n",
              "      <td>Romance</td>\n",
              "      <td>70285581</td>\n",
              "      <td>2020-10-14 21:30:57</td>\n",
              "    </tr>\n",
              "  </tbody>\n",
              "</table>\n",
              "</div>"
            ],
            "text/plain": [
              "               user_id      title  ...   show_id              created\n",
              "0  1026509053147664384       Love  ...  81033200  2020-12-15 08:09:27\n",
              "1  1031993857876086785      After  ...  80244311  2020-12-18 18:31:19\n",
              "2  1087549809551204352       Love  ...  81033200  2020-11-28 05:19:44\n",
              "3  1121629253135556609      Still  ...  80999985  2020-10-04 06:36:22\n",
              "4  1288184693201002500  Outlander  ...  70285581  2020-10-14 21:30:57\n",
              "\n",
              "[5 rows x 6 columns]"
            ]
          },
          "metadata": {
            "tags": []
          },
          "execution_count": 5
        }
      ]
    },
    {
      "cell_type": "code",
      "metadata": {
        "colab": {
          "base_uri": "https://localhost:8080/"
        },
        "id": "JFaQKDrLKTET",
        "outputId": "d651f2ba-9bed-406d-d53d-c6e944723b33"
      },
      "source": [
        "# Variable count\n",
        "df_tweets.count()"
      ],
      "execution_count": null,
      "outputs": [
        {
          "output_type": "execute_result",
          "data": {
            "text/plain": [
              "user_id    6796\n",
              "title      6796\n",
              "text       6796\n",
              "Genre      6796\n",
              "show_id    6796\n",
              "created    6796\n",
              "dtype: int64"
            ]
          },
          "metadata": {
            "tags": []
          },
          "execution_count": 6
        }
      ]
    },
    {
      "cell_type": "code",
      "metadata": {
        "colab": {
          "base_uri": "https://localhost:8080/"
        },
        "id": "cG85jjN6KTET",
        "outputId": "92127c3e-58f6-4788-f5b1-9a15359cb29c"
      },
      "source": [
        "#Dropping duplicates\n",
        "df_user_tweet = df_tweets.drop_duplicates().reset_index(drop=True)\n",
        "df_user_tweet.count()"
      ],
      "execution_count": null,
      "outputs": [
        {
          "output_type": "execute_result",
          "data": {
            "text/plain": [
              "user_id    5437\n",
              "title      5437\n",
              "text       5437\n",
              "Genre      5437\n",
              "show_id    5437\n",
              "created    5437\n",
              "dtype: int64"
            ]
          },
          "metadata": {
            "tags": []
          },
          "execution_count": 7
        }
      ]
    },
    {
      "cell_type": "code",
      "metadata": {
        "colab": {
          "base_uri": "https://localhost:8080/",
          "height": 331
        },
        "id": "IYpFVRQT89Bd",
        "outputId": "daebc83c-774c-449d-b0f9-931e2e198331"
      },
      "source": [
        "# Data after preprocessing for each genre\r\n",
        "import matplotlib\r\n",
        "\r\n",
        "show_data = df_tweets.groupby('Genre').count().plot(kind='bar', title = 'Netflix Show data extracted from tweets')\r\n"
      ],
      "execution_count": null,
      "outputs": [
        {
          "output_type": "display_data",
          "data": {
            "image/png": "[encoded data removed]",
            "text/plain": [
              "<Figure size 432x288 with 1 Axes>"
            ]
          },
          "metadata": {
            "tags": [],
            "needs_background": "light"
          }
        }
      ]
    },
    {
      "cell_type": "markdown",
      "metadata": {
        "id": "kAV8UTgv8mtd"
      },
      "source": [
        "For sentiment Analysis, first method we used was TextBlob. The sentiment function of textblob returns two properties: polarity and subjectivity. Polarity lies in the range [-1, 1] where 1 is postive statement and -1 is negative statement. Subjectivity lies in the range [0, 1] which gives information if its a public opinion or actual information."
      ]
    },
    {
      "cell_type": "code",
      "metadata": {
        "colab": {
          "base_uri": "https://localhost:8080/",
          "height": 861
        },
        "id": "URTYQX-0KTET",
        "outputId": "73e25048-db12-4901-c8a8-47321c40d4a7"
      },
      "source": [
        "#Sentiment analysis for each user using TextBlob method\n",
        "\n",
        "def sentiment_func(text):\n",
        "    try:\n",
        "        return TextBlob(text).sentiment\n",
        "    except:\n",
        "        return None\n",
        "    \n",
        "df_user_tweet['pol_sub'] = df_user_tweet['text'].apply(sentiment_func)\n",
        "df_user_tweet.head(10)"
      ],
      "execution_count": null,
      "outputs": [
        {
          "output_type": "execute_result",
          "data": {
            "text/html": [
              "<div>\n",
              "<style scoped>\n",
              "    .dataframe tbody tr th:only-of-type {\n",
              "        vertical-align: middle;\n",
              "    }\n",
              "\n",
              "    .dataframe tbody tr th {\n",
              "        vertical-align: top;\n",
              "    }\n",
              "\n",
              "    .dataframe thead th {\n",
              "        text-align: right;\n",
              "    }\n",
              "</style>\n",
              "<table border=\"1\" class=\"dataframe\">\n",
              "  <thead>\n",
              "    <tr style=\"text-align: right;\">\n",
              "      <th></th>\n",
              "      <th>user_id</th>\n",
              "      <th>title</th>\n",
              "      <th>text</th>\n",
              "      <th>Genre</th>\n",
              "      <th>show_id</th>\n",
              "      <th>created</th>\n",
              "      <th>pol_sub</th>\n",
              "    </tr>\n",
              "  </thead>\n",
              "  <tbody>\n",
              "    <tr>\n",
              "      <th>0</th>\n",
              "      <td>1026509053147664384</td>\n",
              "      <td>Love</td>\n",
              "      <td>i love Dave Chappelle.</td>\n",
              "      <td>Romance</td>\n",
              "      <td>81033200</td>\n",
              "      <td>2020-12-15 08:09:27</td>\n",
              "      <td>(0.5, 0.6)</td>\n",
              "    </tr>\n",
              "    <tr>\n",
              "      <th>1</th>\n",
              "      <td>1031993857876086785</td>\n",
              "      <td>After</td>\n",
              "      <td>After reading \"Santa's Stuck\" by Rhonda Gowler Greene, Mrs. Ortiz's fourth graders had to do their own drawing. The… https://t.co/O2LHXoP7W3</td>\n",
              "      <td>Romance</td>\n",
              "      <td>80244311</td>\n",
              "      <td>2020-12-18 18:31:19</td>\n",
              "      <td>(0.3, 0.5)</td>\n",
              "    </tr>\n",
              "    <tr>\n",
              "      <th>2</th>\n",
              "      <td>1087549809551204352</td>\n",
              "      <td>Love</td>\n",
              "      <td>✨Love like there’s no tomorrow✨</td>\n",
              "      <td>Romance</td>\n",
              "      <td>81033200</td>\n",
              "      <td>2020-11-28 05:19:44</td>\n",
              "      <td>(0.0, 0.0)</td>\n",
              "    </tr>\n",
              "    <tr>\n",
              "      <th>3</th>\n",
              "      <td>1121629253135556609</td>\n",
              "      <td>Still</td>\n",
              "      <td>🤔 I still count myself as new to the social work profession and have yet to read any of Brene Brown’s books..... wa… https://t.co/9D7FTz63ew</td>\n",
              "      <td>Horror</td>\n",
              "      <td>80999985</td>\n",
              "      <td>2020-10-04 06:36:22</td>\n",
              "      <td>(0.08484848484848484, 0.2606060606060606)</td>\n",
              "    </tr>\n",
              "    <tr>\n",
              "      <th>4</th>\n",
              "      <td>1288184693201002500</td>\n",
              "      <td>Outlander</td>\n",
              "      <td>@vicky_gilmour @Outlander_STARZ Yes, I think between 30-35 is a good  “in our heads” age to stick with! Still young… https://t.co/kfpd4WDpFe</td>\n",
              "      <td>Romance</td>\n",
              "      <td>70285581</td>\n",
              "      <td>2020-10-14 21:30:57</td>\n",
              "      <td>(0.875, 0.6000000000000001)</td>\n",
              "    </tr>\n",
              "    <tr>\n",
              "      <th>5</th>\n",
              "      <td>1306964901483618305</td>\n",
              "      <td>GoodMorningCall</td>\n",
              "      <td>Goodmorning!! Today is the day!! 🥰 Let's start our day w/a smile,, and let's stream to our heart's content! 😊❤… https://t.co/e9brSqGu1t</td>\n",
              "      <td>Romance</td>\n",
              "      <td>80092878</td>\n",
              "      <td>2020-11-30 01:04:39</td>\n",
              "      <td>(0.375, 0.1)</td>\n",
              "    </tr>\n",
              "    <tr>\n",
              "      <th>6</th>\n",
              "      <td>1327467636964417538</td>\n",
              "      <td>Still</td>\n",
              "      <td>I still haven’t watched Frozen or Black panther 😭</td>\n",
              "      <td>Horror</td>\n",
              "      <td>80999985</td>\n",
              "      <td>2020-12-01 14:53:08</td>\n",
              "      <td>(-0.16666666666666666, 0.43333333333333335)</td>\n",
              "    </tr>\n",
              "    <tr>\n",
              "      <th>7</th>\n",
              "      <td>2310872064</td>\n",
              "      <td>SomethingintheRain</td>\n",
              "      <td>#SomethingToSay ironic how candice patton wants to take all the racist bullying so future black female actresses wo… https://t.co/h2oJX5dQPF</td>\n",
              "      <td>Romance</td>\n",
              "      <td>80990935</td>\n",
              "      <td>2020-11-29 22:14:59</td>\n",
              "      <td>(0.046666666666666676, 0.34500000000000003)</td>\n",
              "    </tr>\n",
              "    <tr>\n",
              "      <th>8</th>\n",
              "      <td>30398906</td>\n",
              "      <td>Thriller</td>\n",
              "      <td>iLOVE THE QUALITY 😍🖤 This Photo \\n#THRILLER • #KINGOFPOP✨ #MICHAELJACKSON⚡️@michaeljackson #MJJ #MJ #MOONWALKER… https://t.co/iAKgh7m4Iu</td>\n",
              "      <td>Horror</td>\n",
              "      <td>81024557</td>\n",
              "      <td>2020-10-09 21:02:46</td>\n",
              "      <td>(0.0, 0.0)</td>\n",
              "    </tr>\n",
              "    <tr>\n",
              "      <th>9</th>\n",
              "      <td>3175485668</td>\n",
              "      <td>Remember</td>\n",
              "      <td>I remember one day a teacher from he asked us to write a motto to put on our desks/books to give us motivation. Wha… https://t.co/UawDv8h1dT</td>\n",
              "      <td>Action</td>\n",
              "      <td>80022605</td>\n",
              "      <td>2020-12-18 15:23:26</td>\n",
              "      <td>(0.0, 0.0)</td>\n",
              "    </tr>\n",
              "  </tbody>\n",
              "</table>\n",
              "</div>"
            ],
            "text/plain": [
              "               user_id  ...                                      pol_sub\n",
              "0  1026509053147664384  ...                                   (0.5, 0.6)\n",
              "1  1031993857876086785  ...                                   (0.3, 0.5)\n",
              "2  1087549809551204352  ...                                   (0.0, 0.0)\n",
              "3  1121629253135556609  ...    (0.08484848484848484, 0.2606060606060606)\n",
              "4  1288184693201002500  ...                  (0.875, 0.6000000000000001)\n",
              "5  1306964901483618305  ...                                 (0.375, 0.1)\n",
              "6  1327467636964417538  ...  (-0.16666666666666666, 0.43333333333333335)\n",
              "7           2310872064  ...  (0.046666666666666676, 0.34500000000000003)\n",
              "8             30398906  ...                                   (0.0, 0.0)\n",
              "9           3175485668  ...                                   (0.0, 0.0)\n",
              "\n",
              "[10 rows x 7 columns]"
            ]
          },
          "metadata": {
            "tags": []
          },
          "execution_count": 9
        }
      ]
    },
    {
      "cell_type": "code",
      "metadata": {
        "id": "NQyWOaIlKTEU"
      },
      "source": [
        "# Clean the tweets\n",
        "\n",
        "def  clean_text(df, text_field, new_text_field_name):\n",
        "    df[new_text_field_name] = df[text_field].str.lower()\n",
        "    df[new_text_field_name] = df[new_text_field_name].apply(lambda elem: re.sub(r\"(@[A-Za-z0-9]+)|([^0-9A-Za-z \\t])|(\\w+:\\/\\/\\S+)|^rt|http.+?\", \"\", elem))  \n",
        "    # remove numbers\n",
        "    df[new_text_field_name] = df[new_text_field_name].apply(lambda elem: re.sub(r\"\\d+\", \"\", elem))\n",
        "    \n",
        "    return df"
      ],
      "execution_count": null,
      "outputs": []
    },
    {
      "cell_type": "code",
      "metadata": {
        "colab": {
          "base_uri": "https://localhost:8080/",
          "height": 794
        },
        "id": "PbUK3pxoKTEU",
        "outputId": "e107847f-bda3-43a2-9d60-cb7b70069ba4"
      },
      "source": [
        "# Cleaning the data using clean_text function\n",
        "\n",
        "data_clean = clean_text(df_user_tweet, 'text', 'text_clean')\n",
        "data_clean.head()"
      ],
      "execution_count": null,
      "outputs": [
        {
          "output_type": "execute_result",
          "data": {
            "text/html": [
              "<div>\n",
              "<style scoped>\n",
              "    .dataframe tbody tr th:only-of-type {\n",
              "        vertical-align: middle;\n",
              "    }\n",
              "\n",
              "    .dataframe tbody tr th {\n",
              "        vertical-align: top;\n",
              "    }\n",
              "\n",
              "    .dataframe thead th {\n",
              "        text-align: right;\n",
              "    }\n",
              "</style>\n",
              "<table border=\"1\" class=\"dataframe\">\n",
              "  <thead>\n",
              "    <tr style=\"text-align: right;\">\n",
              "      <th></th>\n",
              "      <th>user_id</th>\n",
              "      <th>title</th>\n",
              "      <th>text</th>\n",
              "      <th>Genre</th>\n",
              "      <th>show_id</th>\n",
              "      <th>created</th>\n",
              "      <th>pol_sub</th>\n",
              "      <th>text_clean</th>\n",
              "    </tr>\n",
              "  </thead>\n",
              "  <tbody>\n",
              "    <tr>\n",
              "      <th>0</th>\n",
              "      <td>1026509053147664384</td>\n",
              "      <td>Love</td>\n",
              "      <td>i love Dave Chappelle.</td>\n",
              "      <td>Romance</td>\n",
              "      <td>81033200</td>\n",
              "      <td>2020-12-15 08:09:27</td>\n",
              "      <td>(0.5, 0.6)</td>\n",
              "      <td>i love dave chappelle</td>\n",
              "    </tr>\n",
              "    <tr>\n",
              "      <th>1</th>\n",
              "      <td>1031993857876086785</td>\n",
              "      <td>After</td>\n",
              "      <td>After reading \"Santa's Stuck\" by Rhonda Gowler Greene, Mrs. Ortiz's fourth graders had to do their own drawing. The… https://t.co/O2LHXoP7W3</td>\n",
              "      <td>Romance</td>\n",
              "      <td>80244311</td>\n",
              "      <td>2020-12-18 18:31:19</td>\n",
              "      <td>(0.3, 0.5)</td>\n",
              "      <td>after reading santas stuck by rhonda gowler greene mrs ortizs fourth graders had to do their own drawing the</td>\n",
              "    </tr>\n",
              "    <tr>\n",
              "      <th>2</th>\n",
              "      <td>1087549809551204352</td>\n",
              "      <td>Love</td>\n",
              "      <td>✨Love like there’s no tomorrow✨</td>\n",
              "      <td>Romance</td>\n",
              "      <td>81033200</td>\n",
              "      <td>2020-11-28 05:19:44</td>\n",
              "      <td>(0.0, 0.0)</td>\n",
              "      <td>love like theres no tomorrow</td>\n",
              "    </tr>\n",
              "    <tr>\n",
              "      <th>3</th>\n",
              "      <td>1121629253135556609</td>\n",
              "      <td>Still</td>\n",
              "      <td>🤔 I still count myself as new to the social work profession and have yet to read any of Brene Brown’s books..... wa… https://t.co/9D7FTz63ew</td>\n",
              "      <td>Horror</td>\n",
              "      <td>80999985</td>\n",
              "      <td>2020-10-04 06:36:22</td>\n",
              "      <td>(0.08484848484848484, 0.2606060606060606)</td>\n",
              "      <td>i still count myself as new to the social work profession and have yet to read any of brene browns books wa</td>\n",
              "    </tr>\n",
              "    <tr>\n",
              "      <th>4</th>\n",
              "      <td>1288184693201002500</td>\n",
              "      <td>Outlander</td>\n",
              "      <td>@vicky_gilmour @Outlander_STARZ Yes, I think between 30-35 is a good  “in our heads” age to stick with! Still young… https://t.co/kfpd4WDpFe</td>\n",
              "      <td>Romance</td>\n",
              "      <td>70285581</td>\n",
              "      <td>2020-10-14 21:30:57</td>\n",
              "      <td>(0.875, 0.6000000000000001)</td>\n",
              "      <td>gilmour starz yes i think between  is a good  in our heads age to stick with still young</td>\n",
              "    </tr>\n",
              "  </tbody>\n",
              "</table>\n",
              "</div>"
            ],
            "text/plain": [
              "               user_id  ...                                                                                                     text_clean\n",
              "0  1026509053147664384  ...                                                                                          i love dave chappelle\n",
              "1  1031993857876086785  ...  after reading santas stuck by rhonda gowler greene mrs ortizs fourth graders had to do their own drawing the \n",
              "2  1087549809551204352  ...                                                                                   love like theres no tomorrow\n",
              "3  1121629253135556609  ...   i still count myself as new to the social work profession and have yet to read any of brene browns books wa \n",
              "4  1288184693201002500  ...                      gilmour starz yes i think between  is a good  in our heads age to stick with still young \n",
              "\n",
              "[5 rows x 8 columns]"
            ]
          },
          "metadata": {
            "tags": []
          },
          "execution_count": 11
        }
      ]
    },
    {
      "cell_type": "markdown",
      "metadata": {
        "id": "RDaK73YG-b7U"
      },
      "source": [
        "Sentiment Analysis using VADER method: this method analyses the text and assign a compound score as well as positive, negative and neutral scores. we classified the text with postive, negative and neutral scores based on a threshold of compound score of 0.05. If compound score > = 0.05 then postive score is assigned, if its <= -0.05 then negative score is assigned. Otherwise neutral score is assigned."
      ]
    },
    {
      "cell_type": "code",
      "metadata": {
        "id": "l3_7BKjqKTEU"
      },
      "source": [
        "#Sentiment Analysis: assign sentiment scores for each user based on the tweet using vader sentiment\n",
        "\n",
        "analyzer = SentimentIntensityAnalyzer()\n",
        "\n",
        "scores = []\n",
        "# Declare variables for scores\n",
        "compound_list = []\n",
        "positive_list = []\n",
        "negative_list = []\n",
        "neutral_list = []\n",
        "\n",
        "for i in range(data_clean['text_clean'].shape[0]):\n",
        "    compound = analyzer.polarity_scores(data_clean['text_clean'][i])[\"compound\"]\n",
        "    pos = analyzer.polarity_scores(data_clean['text_clean'][i])[\"pos\"]\n",
        "    neu = analyzer.polarity_scores(data_clean['text_clean'][i])[\"neu\"]\n",
        "    neg = analyzer.polarity_scores(data_clean['text_clean'][i])[\"neg\"]\n",
        "    \n",
        "    if compound >= 0.05:\n",
        "        scores.append({\"Sentiment_score\" : pos})\n",
        "        \n",
        "    elif compound <= -0.05:\n",
        "        scores.append({\"Sentiment_score\" : neg})\n",
        "        \n",
        "    else:\n",
        "        scores.append({\"Sentiment_score\" : neu})"
      ],
      "execution_count": null,
      "outputs": []
    },
    {
      "cell_type": "code",
      "metadata": {
        "colab": {
          "base_uri": "https://localhost:8080/",
          "height": 794
        },
        "id": "j0MsBh_sKTEU",
        "outputId": "d6e7c8f8-02ee-473e-9260-29ae05f7265b"
      },
      "source": [
        "#Sentiment data with tweets\n",
        "\n",
        "sentiments_score = pd.DataFrame.from_dict(scores)\n",
        "data_clean = data_clean.join(sentiments_score)\n",
        "data_clean.head()\n",
        "\n"
      ],
      "execution_count": null,
      "outputs": [
        {
          "output_type": "execute_result",
          "data": {
            "text/html": [
              "<div>\n",
              "<style scoped>\n",
              "    .dataframe tbody tr th:only-of-type {\n",
              "        vertical-align: middle;\n",
              "    }\n",
              "\n",
              "    .dataframe tbody tr th {\n",
              "        vertical-align: top;\n",
              "    }\n",
              "\n",
              "    .dataframe thead th {\n",
              "        text-align: right;\n",
              "    }\n",
              "</style>\n",
              "<table border=\"1\" class=\"dataframe\">\n",
              "  <thead>\n",
              "    <tr style=\"text-align: right;\">\n",
              "      <th></th>\n",
              "      <th>user_id</th>\n",
              "      <th>title</th>\n",
              "      <th>text</th>\n",
              "      <th>Genre</th>\n",
              "      <th>show_id</th>\n",
              "      <th>created</th>\n",
              "      <th>pol_sub</th>\n",
              "      <th>text_clean</th>\n",
              "      <th>Sentiment_score</th>\n",
              "    </tr>\n",
              "  </thead>\n",
              "  <tbody>\n",
              "    <tr>\n",
              "      <th>0</th>\n",
              "      <td>1026509053147664384</td>\n",
              "      <td>Love</td>\n",
              "      <td>i love Dave Chappelle.</td>\n",
              "      <td>Romance</td>\n",
              "      <td>81033200</td>\n",
              "      <td>2020-12-15 08:09:27</td>\n",
              "      <td>(0.5, 0.6)</td>\n",
              "      <td>i love dave chappelle</td>\n",
              "      <td>0.583</td>\n",
              "    </tr>\n",
              "    <tr>\n",
              "      <th>1</th>\n",
              "      <td>1031993857876086785</td>\n",
              "      <td>After</td>\n",
              "      <td>After reading \"Santa's Stuck\" by Rhonda Gowler Greene, Mrs. Ortiz's fourth graders had to do their own drawing. The… https://t.co/O2LHXoP7W3</td>\n",
              "      <td>Romance</td>\n",
              "      <td>80244311</td>\n",
              "      <td>2020-12-18 18:31:19</td>\n",
              "      <td>(0.3, 0.5)</td>\n",
              "      <td>after reading santas stuck by rhonda gowler greene mrs ortizs fourth graders had to do their own drawing the</td>\n",
              "      <td>0.100</td>\n",
              "    </tr>\n",
              "    <tr>\n",
              "      <th>2</th>\n",
              "      <td>1087549809551204352</td>\n",
              "      <td>Love</td>\n",
              "      <td>✨Love like there’s no tomorrow✨</td>\n",
              "      <td>Romance</td>\n",
              "      <td>81033200</td>\n",
              "      <td>2020-11-28 05:19:44</td>\n",
              "      <td>(0.0, 0.0)</td>\n",
              "      <td>love like theres no tomorrow</td>\n",
              "      <td>0.615</td>\n",
              "    </tr>\n",
              "    <tr>\n",
              "      <th>3</th>\n",
              "      <td>1121629253135556609</td>\n",
              "      <td>Still</td>\n",
              "      <td>🤔 I still count myself as new to the social work profession and have yet to read any of Brene Brown’s books..... wa… https://t.co/9D7FTz63ew</td>\n",
              "      <td>Horror</td>\n",
              "      <td>80999985</td>\n",
              "      <td>2020-10-04 06:36:22</td>\n",
              "      <td>(0.08484848484848484, 0.2606060606060606)</td>\n",
              "      <td>i still count myself as new to the social work profession and have yet to read any of brene browns books wa</td>\n",
              "      <td>1.000</td>\n",
              "    </tr>\n",
              "    <tr>\n",
              "      <th>4</th>\n",
              "      <td>1288184693201002500</td>\n",
              "      <td>Outlander</td>\n",
              "      <td>@vicky_gilmour @Outlander_STARZ Yes, I think between 30-35 is a good  “in our heads” age to stick with! Still young… https://t.co/kfpd4WDpFe</td>\n",
              "      <td>Romance</td>\n",
              "      <td>70285581</td>\n",
              "      <td>2020-10-14 21:30:57</td>\n",
              "      <td>(0.875, 0.6000000000000001)</td>\n",
              "      <td>gilmour starz yes i think between  is a good  in our heads age to stick with still young</td>\n",
              "      <td>0.259</td>\n",
              "    </tr>\n",
              "  </tbody>\n",
              "</table>\n",
              "</div>"
            ],
            "text/plain": [
              "               user_id  ... Sentiment_score\n",
              "0  1026509053147664384  ...           0.583\n",
              "1  1031993857876086785  ...           0.100\n",
              "2  1087549809551204352  ...           0.615\n",
              "3  1121629253135556609  ...           1.000\n",
              "4  1288184693201002500  ...           0.259\n",
              "\n",
              "[5 rows x 9 columns]"
            ]
          },
          "metadata": {
            "tags": []
          },
          "execution_count": 13
        }
      ]
    },
    {
      "cell_type": "markdown",
      "metadata": {
        "id": "w9hloJ_uRFF8"
      },
      "source": [
        "File containing IMDB scores of all titles is read into a dataframe and titles for which IMDB rating is \"Not found\" is made Null and then imputed with mean of IMDB ratings. Ratings are then rounded off to 1 decimal point."
      ]
    },
    {
      "cell_type": "code",
      "metadata": {
        "colab": {
          "base_uri": "https://localhost:8080/",
          "height": 202
        },
        "id": "odBDL0rJKTEV",
        "outputId": "56185523-1a66-46e5-cc59-2377c35295df"
      },
      "source": [
        "# Read the IMDB file created in the preprocessing section\n",
        "\n",
        "netflix_ratings = pd.read_csv('mynetflixcsv (1).csv')\n",
        "netflix_ratings.rename({'IMDB_title': 'title'}, axis=1, inplace=True)\n",
        "netflix_ratings.rename({'rating': 'IMDB_rating'}, axis=1, inplace=True)\n",
        "netflix_ratings.head()"
      ],
      "execution_count": null,
      "outputs": [
        {
          "output_type": "execute_result",
          "data": {
            "text/html": [
              "<div>\n",
              "<style scoped>\n",
              "    .dataframe tbody tr th:only-of-type {\n",
              "        vertical-align: middle;\n",
              "    }\n",
              "\n",
              "    .dataframe tbody tr th {\n",
              "        vertical-align: top;\n",
              "    }\n",
              "\n",
              "    .dataframe thead th {\n",
              "        text-align: right;\n",
              "    }\n",
              "</style>\n",
              "<table border=\"1\" class=\"dataframe\">\n",
              "  <thead>\n",
              "    <tr style=\"text-align: right;\">\n",
              "      <th></th>\n",
              "      <th>title</th>\n",
              "      <th>IMDB_rating</th>\n",
              "    </tr>\n",
              "  </thead>\n",
              "  <tbody>\n",
              "    <tr>\n",
              "      <th>0</th>\n",
              "      <td>Jandino: Whatever it Takes</td>\n",
              "      <td>5.2</td>\n",
              "    </tr>\n",
              "    <tr>\n",
              "      <th>1</th>\n",
              "      <td>Marc Maron: Too Real</td>\n",
              "      <td>7.2</td>\n",
              "    </tr>\n",
              "    <tr>\n",
              "      <th>2</th>\n",
              "      <td>Mo Gilligan: Momentum</td>\n",
              "      <td>6.3</td>\n",
              "    </tr>\n",
              "    <tr>\n",
              "      <th>3</th>\n",
              "      <td>Def Comedy Jam 25</td>\n",
              "      <td>6.6</td>\n",
              "    </tr>\n",
              "    <tr>\n",
              "      <th>4</th>\n",
              "      <td>Jeff Dunham: Beside Himself</td>\n",
              "      <td>6.8</td>\n",
              "    </tr>\n",
              "  </tbody>\n",
              "</table>\n",
              "</div>"
            ],
            "text/plain": [
              "                         title IMDB_rating\n",
              "0   Jandino: Whatever it Takes         5.2\n",
              "1         Marc Maron: Too Real         7.2\n",
              "2        Mo Gilligan: Momentum         6.3\n",
              "3            Def Comedy Jam 25         6.6\n",
              "4  Jeff Dunham: Beside Himself         6.8"
            ]
          },
          "metadata": {
            "tags": []
          },
          "execution_count": 14
        }
      ]
    },
    {
      "cell_type": "code",
      "metadata": {
        "colab": {
          "base_uri": "https://localhost:8080/"
        },
        "id": "EbfKXV_tKTEV",
        "outputId": "663800f6-f574-4fd9-faaf-714f9db8565d"
      },
      "source": [
        "netflix_ratings.dtypes"
      ],
      "execution_count": null,
      "outputs": [
        {
          "output_type": "execute_result",
          "data": {
            "text/plain": [
              "title          object\n",
              "IMDB_rating    object\n",
              "dtype: object"
            ]
          },
          "metadata": {
            "tags": []
          },
          "execution_count": 15
        }
      ]
    },
    {
      "cell_type": "code",
      "metadata": {
        "colab": {
          "base_uri": "https://localhost:8080/",
          "height": 415
        },
        "id": "UcuS2qc9KTEW",
        "outputId": "dc2a042c-ab1b-4986-90b7-18d0d8c1862e"
      },
      "source": [
        "# Filter df rows which have no IMDB rating (columns value = Not)\r\n",
        "\r\n",
        "netflix_ratings[netflix_ratings['IMDB_rating'] == 'Not']"
      ],
      "execution_count": null,
      "outputs": [
        {
          "output_type": "execute_result",
          "data": {
            "text/html": [
              "<div>\n",
              "<style scoped>\n",
              "    .dataframe tbody tr th:only-of-type {\n",
              "        vertical-align: middle;\n",
              "    }\n",
              "\n",
              "    .dataframe tbody tr th {\n",
              "        vertical-align: top;\n",
              "    }\n",
              "\n",
              "    .dataframe thead th {\n",
              "        text-align: right;\n",
              "    }\n",
              "</style>\n",
              "<table border=\"1\" class=\"dataframe\">\n",
              "  <thead>\n",
              "    <tr style=\"text-align: right;\">\n",
              "      <th></th>\n",
              "      <th>title</th>\n",
              "      <th>IMDB_rating</th>\n",
              "    </tr>\n",
              "  </thead>\n",
              "  <tbody>\n",
              "    <tr>\n",
              "      <th>86</th>\n",
              "      <td>Dave Chappelle</td>\n",
              "      <td>Not</td>\n",
              "    </tr>\n",
              "    <tr>\n",
              "      <th>118</th>\n",
              "      <td>Tig</td>\n",
              "      <td>Not</td>\n",
              "    </tr>\n",
              "    <tr>\n",
              "      <th>160</th>\n",
              "      <td>Bill Hicks: One Night Stand</td>\n",
              "      <td>Not</td>\n",
              "    </tr>\n",
              "    <tr>\n",
              "      <th>173</th>\n",
              "      <td>Dave Chappelle: Equanimity &amp; The Bird Revelation</td>\n",
              "      <td>Not</td>\n",
              "    </tr>\n",
              "    <tr>\n",
              "      <th>191</th>\n",
              "      <td>Jim Jefferies : BARE</td>\n",
              "      <td>Not</td>\n",
              "    </tr>\n",
              "    <tr>\n",
              "      <th>...</th>\n",
              "      <td>...</td>\n",
              "      <td>...</td>\n",
              "    </tr>\n",
              "    <tr>\n",
              "      <th>1432</th>\n",
              "      <td>Soul Robbers</td>\n",
              "      <td>Not</td>\n",
              "    </tr>\n",
              "    <tr>\n",
              "      <th>1444</th>\n",
              "      <td>Pari</td>\n",
              "      <td>Not</td>\n",
              "    </tr>\n",
              "    <tr>\n",
              "      <th>1502</th>\n",
              "      <td>Game Over (Hindi Version)</td>\n",
              "      <td>Not</td>\n",
              "    </tr>\n",
              "    <tr>\n",
              "      <th>1503</th>\n",
              "      <td>Game Over (Tamil Version)</td>\n",
              "      <td>Not</td>\n",
              "    </tr>\n",
              "    <tr>\n",
              "      <th>1504</th>\n",
              "      <td>Game Over (Telugu Version)</td>\n",
              "      <td>Not</td>\n",
              "    </tr>\n",
              "  </tbody>\n",
              "</table>\n",
              "<p>73 rows × 2 columns</p>\n",
              "</div>"
            ],
            "text/plain": [
              "                                                 title IMDB_rating\n",
              "86                                      Dave Chappelle         Not\n",
              "118                                                Tig         Not\n",
              "160                        Bill Hicks: One Night Stand         Not\n",
              "173   Dave Chappelle: Equanimity & The Bird Revelation         Not\n",
              "191                               Jim Jefferies : BARE         Not\n",
              "...                                                ...         ...\n",
              "1432                                      Soul Robbers         Not\n",
              "1444                                              Pari         Not\n",
              "1502                         Game Over (Hindi Version)         Not\n",
              "1503                         Game Over (Tamil Version)         Not\n",
              "1504                        Game Over (Telugu Version)         Not\n",
              "\n",
              "[73 rows x 2 columns]"
            ]
          },
          "metadata": {
            "tags": []
          },
          "execution_count": 16
        }
      ]
    },
    {
      "cell_type": "code",
      "metadata": {
        "id": "NQlLZNd0KTEW"
      },
      "source": [
        "# Replace the 'Not' value with NaN\n",
        "\n",
        "netflix_ratings.replace(to_replace={'IMDB_rating': {'Not': np.nan}},\n",
        "           inplace=True)"
      ],
      "execution_count": null,
      "outputs": []
    },
    {
      "cell_type": "code",
      "metadata": {
        "colab": {
          "base_uri": "https://localhost:8080/",
          "height": 415
        },
        "id": "0IlXEly1KTEW",
        "outputId": "8c1d417d-43ab-40dc-c006-cd61c6b3a6e5"
      },
      "source": [
        "netflix_ratings.head(90)"
      ],
      "execution_count": null,
      "outputs": [
        {
          "output_type": "execute_result",
          "data": {
            "text/html": [
              "<div>\n",
              "<style scoped>\n",
              "    .dataframe tbody tr th:only-of-type {\n",
              "        vertical-align: middle;\n",
              "    }\n",
              "\n",
              "    .dataframe tbody tr th {\n",
              "        vertical-align: top;\n",
              "    }\n",
              "\n",
              "    .dataframe thead th {\n",
              "        text-align: right;\n",
              "    }\n",
              "</style>\n",
              "<table border=\"1\" class=\"dataframe\">\n",
              "  <thead>\n",
              "    <tr style=\"text-align: right;\">\n",
              "      <th></th>\n",
              "      <th>title</th>\n",
              "      <th>IMDB_rating</th>\n",
              "    </tr>\n",
              "  </thead>\n",
              "  <tbody>\n",
              "    <tr>\n",
              "      <th>0</th>\n",
              "      <td>Jandino: Whatever it Takes</td>\n",
              "      <td>5.2</td>\n",
              "    </tr>\n",
              "    <tr>\n",
              "      <th>1</th>\n",
              "      <td>Marc Maron: Too Real</td>\n",
              "      <td>7.2</td>\n",
              "    </tr>\n",
              "    <tr>\n",
              "      <th>2</th>\n",
              "      <td>Mo Gilligan: Momentum</td>\n",
              "      <td>6.3</td>\n",
              "    </tr>\n",
              "    <tr>\n",
              "      <th>3</th>\n",
              "      <td>Def Comedy Jam 25</td>\n",
              "      <td>6.6</td>\n",
              "    </tr>\n",
              "    <tr>\n",
              "      <th>4</th>\n",
              "      <td>Jeff Dunham: Beside Himself</td>\n",
              "      <td>6.8</td>\n",
              "    </tr>\n",
              "    <tr>\n",
              "      <th>...</th>\n",
              "      <td>...</td>\n",
              "      <td>...</td>\n",
              "    </tr>\n",
              "    <tr>\n",
              "      <th>85</th>\n",
              "      <td>Nate Bargatze: The Tennessee Kid</td>\n",
              "      <td>7.6</td>\n",
              "    </tr>\n",
              "    <tr>\n",
              "      <th>86</th>\n",
              "      <td>Dave Chappelle</td>\n",
              "      <td>NaN</td>\n",
              "    </tr>\n",
              "    <tr>\n",
              "      <th>87</th>\n",
              "      <td>Amy Schumer Growing</td>\n",
              "      <td>5.2</td>\n",
              "    </tr>\n",
              "    <tr>\n",
              "      <th>88</th>\n",
              "      <td>Jimmy Carr: Funny Business</td>\n",
              "      <td>7.2</td>\n",
              "    </tr>\n",
              "    <tr>\n",
              "      <th>89</th>\n",
              "      <td>Jeff Dunham: Arguing with Myself</td>\n",
              "      <td>8.0</td>\n",
              "    </tr>\n",
              "  </tbody>\n",
              "</table>\n",
              "<p>90 rows × 2 columns</p>\n",
              "</div>"
            ],
            "text/plain": [
              "                               title IMDB_rating\n",
              "0         Jandino: Whatever it Takes         5.2\n",
              "1               Marc Maron: Too Real         7.2\n",
              "2              Mo Gilligan: Momentum         6.3\n",
              "3                  Def Comedy Jam 25         6.6\n",
              "4        Jeff Dunham: Beside Himself         6.8\n",
              "..                               ...         ...\n",
              "85  Nate Bargatze: The Tennessee Kid         7.6\n",
              "86                    Dave Chappelle         NaN\n",
              "87               Amy Schumer Growing         5.2\n",
              "88        Jimmy Carr: Funny Business         7.2\n",
              "89  Jeff Dunham: Arguing with Myself         8.0\n",
              "\n",
              "[90 rows x 2 columns]"
            ]
          },
          "metadata": {
            "tags": []
          },
          "execution_count": 18
        }
      ]
    },
    {
      "cell_type": "code",
      "metadata": {
        "colab": {
          "base_uri": "https://localhost:8080/",
          "height": 415
        },
        "id": "w-xmkUnJKTEW",
        "outputId": "13f48973-c995-4041-eb61-2dacf3b0fc16"
      },
      "source": [
        "#Impute the NaN values with total mean of the IMDB ratings\n",
        "\n",
        "netflix_ratings['IMDB_rating'] = pd.to_numeric(netflix_ratings['IMDB_rating'])\n",
        "netflix_ratings['IMDB_rating'].fillna(netflix_ratings['IMDB_rating'].mean(), inplace=True)\n",
        "netflix_ratings.head(90)"
      ],
      "execution_count": null,
      "outputs": [
        {
          "output_type": "execute_result",
          "data": {
            "text/html": [
              "<div>\n",
              "<style scoped>\n",
              "    .dataframe tbody tr th:only-of-type {\n",
              "        vertical-align: middle;\n",
              "    }\n",
              "\n",
              "    .dataframe tbody tr th {\n",
              "        vertical-align: top;\n",
              "    }\n",
              "\n",
              "    .dataframe thead th {\n",
              "        text-align: right;\n",
              "    }\n",
              "</style>\n",
              "<table border=\"1\" class=\"dataframe\">\n",
              "  <thead>\n",
              "    <tr style=\"text-align: right;\">\n",
              "      <th></th>\n",
              "      <th>title</th>\n",
              "      <th>IMDB_rating</th>\n",
              "    </tr>\n",
              "  </thead>\n",
              "  <tbody>\n",
              "    <tr>\n",
              "      <th>0</th>\n",
              "      <td>Jandino: Whatever it Takes</td>\n",
              "      <td>5.20000</td>\n",
              "    </tr>\n",
              "    <tr>\n",
              "      <th>1</th>\n",
              "      <td>Marc Maron: Too Real</td>\n",
              "      <td>7.20000</td>\n",
              "    </tr>\n",
              "    <tr>\n",
              "      <th>2</th>\n",
              "      <td>Mo Gilligan: Momentum</td>\n",
              "      <td>6.30000</td>\n",
              "    </tr>\n",
              "    <tr>\n",
              "      <th>3</th>\n",
              "      <td>Def Comedy Jam 25</td>\n",
              "      <td>6.60000</td>\n",
              "    </tr>\n",
              "    <tr>\n",
              "      <th>4</th>\n",
              "      <td>Jeff Dunham: Beside Himself</td>\n",
              "      <td>6.80000</td>\n",
              "    </tr>\n",
              "    <tr>\n",
              "      <th>...</th>\n",
              "      <td>...</td>\n",
              "      <td>...</td>\n",
              "    </tr>\n",
              "    <tr>\n",
              "      <th>85</th>\n",
              "      <td>Nate Bargatze: The Tennessee Kid</td>\n",
              "      <td>7.60000</td>\n",
              "    </tr>\n",
              "    <tr>\n",
              "      <th>86</th>\n",
              "      <td>Dave Chappelle</td>\n",
              "      <td>6.40171</td>\n",
              "    </tr>\n",
              "    <tr>\n",
              "      <th>87</th>\n",
              "      <td>Amy Schumer Growing</td>\n",
              "      <td>5.20000</td>\n",
              "    </tr>\n",
              "    <tr>\n",
              "      <th>88</th>\n",
              "      <td>Jimmy Carr: Funny Business</td>\n",
              "      <td>7.20000</td>\n",
              "    </tr>\n",
              "    <tr>\n",
              "      <th>89</th>\n",
              "      <td>Jeff Dunham: Arguing with Myself</td>\n",
              "      <td>8.00000</td>\n",
              "    </tr>\n",
              "  </tbody>\n",
              "</table>\n",
              "<p>90 rows × 2 columns</p>\n",
              "</div>"
            ],
            "text/plain": [
              "                               title  IMDB_rating\n",
              "0         Jandino: Whatever it Takes      5.20000\n",
              "1               Marc Maron: Too Real      7.20000\n",
              "2              Mo Gilligan: Momentum      6.30000\n",
              "3                  Def Comedy Jam 25      6.60000\n",
              "4        Jeff Dunham: Beside Himself      6.80000\n",
              "..                               ...          ...\n",
              "85  Nate Bargatze: The Tennessee Kid      7.60000\n",
              "86                    Dave Chappelle      6.40171\n",
              "87               Amy Schumer Growing      5.20000\n",
              "88        Jimmy Carr: Funny Business      7.20000\n",
              "89  Jeff Dunham: Arguing with Myself      8.00000\n",
              "\n",
              "[90 rows x 2 columns]"
            ]
          },
          "metadata": {
            "tags": []
          },
          "execution_count": 19
        }
      ]
    },
    {
      "cell_type": "code",
      "metadata": {
        "colab": {
          "base_uri": "https://localhost:8080/",
          "height": 415
        },
        "id": "qDBWHFWgKTEX",
        "outputId": "698f87ef-41f1-4d7a-f064-299aa0736ea4"
      },
      "source": [
        "#Round of the deimals of rating value\n",
        "\n",
        "netflix_ratings['IMDB_rating'] = netflix_ratings['IMDB_rating'].round(decimals=1)\n",
        "netflix_ratings.head(90)"
      ],
      "execution_count": null,
      "outputs": [
        {
          "output_type": "execute_result",
          "data": {
            "text/html": [
              "<div>\n",
              "<style scoped>\n",
              "    .dataframe tbody tr th:only-of-type {\n",
              "        vertical-align: middle;\n",
              "    }\n",
              "\n",
              "    .dataframe tbody tr th {\n",
              "        vertical-align: top;\n",
              "    }\n",
              "\n",
              "    .dataframe thead th {\n",
              "        text-align: right;\n",
              "    }\n",
              "</style>\n",
              "<table border=\"1\" class=\"dataframe\">\n",
              "  <thead>\n",
              "    <tr style=\"text-align: right;\">\n",
              "      <th></th>\n",
              "      <th>title</th>\n",
              "      <th>IMDB_rating</th>\n",
              "    </tr>\n",
              "  </thead>\n",
              "  <tbody>\n",
              "    <tr>\n",
              "      <th>0</th>\n",
              "      <td>Jandino: Whatever it Takes</td>\n",
              "      <td>5.2</td>\n",
              "    </tr>\n",
              "    <tr>\n",
              "      <th>1</th>\n",
              "      <td>Marc Maron: Too Real</td>\n",
              "      <td>7.2</td>\n",
              "    </tr>\n",
              "    <tr>\n",
              "      <th>2</th>\n",
              "      <td>Mo Gilligan: Momentum</td>\n",
              "      <td>6.3</td>\n",
              "    </tr>\n",
              "    <tr>\n",
              "      <th>3</th>\n",
              "      <td>Def Comedy Jam 25</td>\n",
              "      <td>6.6</td>\n",
              "    </tr>\n",
              "    <tr>\n",
              "      <th>4</th>\n",
              "      <td>Jeff Dunham: Beside Himself</td>\n",
              "      <td>6.8</td>\n",
              "    </tr>\n",
              "    <tr>\n",
              "      <th>...</th>\n",
              "      <td>...</td>\n",
              "      <td>...</td>\n",
              "    </tr>\n",
              "    <tr>\n",
              "      <th>85</th>\n",
              "      <td>Nate Bargatze: The Tennessee Kid</td>\n",
              "      <td>7.6</td>\n",
              "    </tr>\n",
              "    <tr>\n",
              "      <th>86</th>\n",
              "      <td>Dave Chappelle</td>\n",
              "      <td>6.4</td>\n",
              "    </tr>\n",
              "    <tr>\n",
              "      <th>87</th>\n",
              "      <td>Amy Schumer Growing</td>\n",
              "      <td>5.2</td>\n",
              "    </tr>\n",
              "    <tr>\n",
              "      <th>88</th>\n",
              "      <td>Jimmy Carr: Funny Business</td>\n",
              "      <td>7.2</td>\n",
              "    </tr>\n",
              "    <tr>\n",
              "      <th>89</th>\n",
              "      <td>Jeff Dunham: Arguing with Myself</td>\n",
              "      <td>8.0</td>\n",
              "    </tr>\n",
              "  </tbody>\n",
              "</table>\n",
              "<p>90 rows × 2 columns</p>\n",
              "</div>"
            ],
            "text/plain": [
              "                               title  IMDB_rating\n",
              "0         Jandino: Whatever it Takes          5.2\n",
              "1               Marc Maron: Too Real          7.2\n",
              "2              Mo Gilligan: Momentum          6.3\n",
              "3                  Def Comedy Jam 25          6.6\n",
              "4        Jeff Dunham: Beside Himself          6.8\n",
              "..                               ...          ...\n",
              "85  Nate Bargatze: The Tennessee Kid          7.6\n",
              "86                    Dave Chappelle          6.4\n",
              "87               Amy Schumer Growing          5.2\n",
              "88        Jimmy Carr: Funny Business          7.2\n",
              "89  Jeff Dunham: Arguing with Myself          8.0\n",
              "\n",
              "[90 rows x 2 columns]"
            ]
          },
          "metadata": {
            "tags": []
          },
          "execution_count": 20
        }
      ]
    },
    {
      "cell_type": "markdown",
      "metadata": {
        "id": "KAl-1IX7Rutu"
      },
      "source": [
        "Dataframe with IMDB values and dataframe with sentiment scores are joined on title in order to merge IMDB ratings to the final dataframe"
      ]
    },
    {
      "cell_type": "code",
      "metadata": {
        "colab": {
          "base_uri": "https://localhost:8080/",
          "height": 707
        },
        "id": "GZ8fqsuaKTEX",
        "outputId": "2caa81fe-00a9-4bfa-ebeb-91fa8a307ba2"
      },
      "source": [
        "# Join the IMDB values with the sentiment score dataframe\n",
        "\n",
        "final_data_sentiment = data_clean[[\"title\", \"Sentiment_score\"]]\n",
        "final_data_ratings = netflix_ratings[[\"title\", \"IMDB_rating\"]]\n",
        "netflix_userrating_inner = pd.merge(data_clean, final_data_ratings, on='title', how='inner')\n",
        "netflix_userrating_inner.head()"
      ],
      "execution_count": null,
      "outputs": [
        {
          "output_type": "execute_result",
          "data": {
            "text/html": [
              "<div>\n",
              "<style scoped>\n",
              "    .dataframe tbody tr th:only-of-type {\n",
              "        vertical-align: middle;\n",
              "    }\n",
              "\n",
              "    .dataframe tbody tr th {\n",
              "        vertical-align: top;\n",
              "    }\n",
              "\n",
              "    .dataframe thead th {\n",
              "        text-align: right;\n",
              "    }\n",
              "</style>\n",
              "<table border=\"1\" class=\"dataframe\">\n",
              "  <thead>\n",
              "    <tr style=\"text-align: right;\">\n",
              "      <th></th>\n",
              "      <th>user_id</th>\n",
              "      <th>title</th>\n",
              "      <th>text</th>\n",
              "      <th>Genre</th>\n",
              "      <th>show_id</th>\n",
              "      <th>created</th>\n",
              "      <th>pol_sub</th>\n",
              "      <th>text_clean</th>\n",
              "      <th>Sentiment_score</th>\n",
              "      <th>IMDB_rating</th>\n",
              "    </tr>\n",
              "  </thead>\n",
              "  <tbody>\n",
              "    <tr>\n",
              "      <th>0</th>\n",
              "      <td>1026509053147664384</td>\n",
              "      <td>Love</td>\n",
              "      <td>i love Dave Chappelle.</td>\n",
              "      <td>Romance</td>\n",
              "      <td>81033200</td>\n",
              "      <td>2020-12-15 08:09:27</td>\n",
              "      <td>(0.5, 0.6)</td>\n",
              "      <td>i love dave chappelle</td>\n",
              "      <td>0.583</td>\n",
              "      <td>6.1</td>\n",
              "    </tr>\n",
              "    <tr>\n",
              "      <th>1</th>\n",
              "      <td>1087549809551204352</td>\n",
              "      <td>Love</td>\n",
              "      <td>✨Love like there’s no tomorrow✨</td>\n",
              "      <td>Romance</td>\n",
              "      <td>81033200</td>\n",
              "      <td>2020-11-28 05:19:44</td>\n",
              "      <td>(0.0, 0.0)</td>\n",
              "      <td>love like theres no tomorrow</td>\n",
              "      <td>0.615</td>\n",
              "      <td>6.1</td>\n",
              "    </tr>\n",
              "    <tr>\n",
              "      <th>2</th>\n",
              "      <td>2434220706</td>\n",
              "      <td>Love</td>\n",
              "      <td>I LOVE Dave Chappelle. The man is a global treasure. Miss me with the “he walked away from ___ amount of money” you… https://t.co/xtmQQfHiMD</td>\n",
              "      <td>Romance</td>\n",
              "      <td>81033200</td>\n",
              "      <td>2020-11-28 14:22:43</td>\n",
              "      <td>(0.25, 0.3)</td>\n",
              "      <td>i love dave chappelle the man is a global treasure miss me with the he walked away from  amount of money you</td>\n",
              "      <td>0.237</td>\n",
              "      <td>6.1</td>\n",
              "    </tr>\n",
              "    <tr>\n",
              "      <th>3</th>\n",
              "      <td>1245164638964080642</td>\n",
              "      <td>Love</td>\n",
              "      <td>I love how @TXT_members cover 2nd Gen songs, it always feels closer to heart. No one does it like txt. Hug by TVXQ… https://t.co/P9GoXHCxp7</td>\n",
              "      <td>Romance</td>\n",
              "      <td>81033200</td>\n",
              "      <td>2020-12-18 13:05:40</td>\n",
              "      <td>(0.25, 0.3)</td>\n",
              "      <td>i love how members cover nd gen songs it always feels closer to heart no one does it like txt hug by tvxq</td>\n",
              "      <td>0.409</td>\n",
              "      <td>6.1</td>\n",
              "    </tr>\n",
              "    <tr>\n",
              "      <th>4</th>\n",
              "      <td>1332494377718001666</td>\n",
              "      <td>Love</td>\n",
              "      <td>I love when people act too good to watch anime like grow up</td>\n",
              "      <td>Romance</td>\n",
              "      <td>81033200</td>\n",
              "      <td>2020-11-30 03:35:32</td>\n",
              "      <td>(0.6, 0.6000000000000001)</td>\n",
              "      <td>i love when people act too good to watch anime like grow up</td>\n",
              "      <td>0.490</td>\n",
              "      <td>6.1</td>\n",
              "    </tr>\n",
              "  </tbody>\n",
              "</table>\n",
              "</div>"
            ],
            "text/plain": [
              "               user_id title  ... Sentiment_score IMDB_rating\n",
              "0  1026509053147664384  Love  ...           0.583         6.1\n",
              "1  1087549809551204352  Love  ...           0.615         6.1\n",
              "2           2434220706  Love  ...           0.237         6.1\n",
              "3  1245164638964080642  Love  ...           0.409         6.1\n",
              "4  1332494377718001666  Love  ...           0.490         6.1\n",
              "\n",
              "[5 rows x 10 columns]"
            ]
          },
          "metadata": {
            "tags": []
          },
          "execution_count": 21
        }
      ]
    },
    {
      "cell_type": "code",
      "metadata": {
        "colab": {
          "base_uri": "https://localhost:8080/",
          "height": 202
        },
        "id": "gCDoqRgjKTEX",
        "outputId": "a5f7b423-f865-4850-ae95-e19e9fd7dab6"
      },
      "source": [
        "# Filter only required columns\n",
        "netflix_rating_sentiment = netflix_userrating_inner[['user_id', 'title', 'Genre', 'Sentiment_score', 'IMDB_rating']]\n",
        "netflix_rating_sentiment.head()"
      ],
      "execution_count": null,
      "outputs": [
        {
          "output_type": "execute_result",
          "data": {
            "text/html": [
              "<div>\n",
              "<style scoped>\n",
              "    .dataframe tbody tr th:only-of-type {\n",
              "        vertical-align: middle;\n",
              "    }\n",
              "\n",
              "    .dataframe tbody tr th {\n",
              "        vertical-align: top;\n",
              "    }\n",
              "\n",
              "    .dataframe thead th {\n",
              "        text-align: right;\n",
              "    }\n",
              "</style>\n",
              "<table border=\"1\" class=\"dataframe\">\n",
              "  <thead>\n",
              "    <tr style=\"text-align: right;\">\n",
              "      <th></th>\n",
              "      <th>user_id</th>\n",
              "      <th>title</th>\n",
              "      <th>Genre</th>\n",
              "      <th>Sentiment_score</th>\n",
              "      <th>IMDB_rating</th>\n",
              "    </tr>\n",
              "  </thead>\n",
              "  <tbody>\n",
              "    <tr>\n",
              "      <th>0</th>\n",
              "      <td>1026509053147664384</td>\n",
              "      <td>Love</td>\n",
              "      <td>Romance</td>\n",
              "      <td>0.583</td>\n",
              "      <td>6.1</td>\n",
              "    </tr>\n",
              "    <tr>\n",
              "      <th>1</th>\n",
              "      <td>1087549809551204352</td>\n",
              "      <td>Love</td>\n",
              "      <td>Romance</td>\n",
              "      <td>0.615</td>\n",
              "      <td>6.1</td>\n",
              "    </tr>\n",
              "    <tr>\n",
              "      <th>2</th>\n",
              "      <td>2434220706</td>\n",
              "      <td>Love</td>\n",
              "      <td>Romance</td>\n",
              "      <td>0.237</td>\n",
              "      <td>6.1</td>\n",
              "    </tr>\n",
              "    <tr>\n",
              "      <th>3</th>\n",
              "      <td>1245164638964080642</td>\n",
              "      <td>Love</td>\n",
              "      <td>Romance</td>\n",
              "      <td>0.409</td>\n",
              "      <td>6.1</td>\n",
              "    </tr>\n",
              "    <tr>\n",
              "      <th>4</th>\n",
              "      <td>1332494377718001666</td>\n",
              "      <td>Love</td>\n",
              "      <td>Romance</td>\n",
              "      <td>0.490</td>\n",
              "      <td>6.1</td>\n",
              "    </tr>\n",
              "  </tbody>\n",
              "</table>\n",
              "</div>"
            ],
            "text/plain": [
              "               user_id title    Genre  Sentiment_score  IMDB_rating\n",
              "0  1026509053147664384  Love  Romance            0.583          6.1\n",
              "1  1087549809551204352  Love  Romance            0.615          6.1\n",
              "2           2434220706  Love  Romance            0.237          6.1\n",
              "3  1245164638964080642  Love  Romance            0.409          6.1\n",
              "4  1332494377718001666  Love  Romance            0.490          6.1"
            ]
          },
          "metadata": {
            "tags": []
          },
          "execution_count": 22
        }
      ]
    },
    {
      "cell_type": "markdown",
      "metadata": {
        "id": "pcEUbpYuSJ7l"
      },
      "source": [
        "CSV file with all Netflix titles is read into a dataframe and then merged with final datafarme on title to include show ids."
      ]
    },
    {
      "cell_type": "code",
      "metadata": {
        "id": "PjSizc2GKTEX"
      },
      "source": [
        "# Read the actual show title files inorder to retrieve the show ids\n",
        "\n",
        "df_shows = pd.read_csv('Netflix_updated.csv')\n",
        "df_show_id = df_shows[['show_id','title']]\n"
      ],
      "execution_count": null,
      "outputs": []
    },
    {
      "cell_type": "code",
      "metadata": {
        "colab": {
          "base_uri": "https://localhost:8080/",
          "height": 202
        },
        "id": "QhaP7lr9KTEX",
        "outputId": "75197e97-d7ff-43cb-b49b-a571667f6837"
      },
      "source": [
        "# Join the above file on title to create a dataframe with showid, userid, sentiment score, IMDB rating, Genre, title\n",
        "\n",
        "df_final_showdata =  pd.merge(df_show_id, netflix_rating_sentiment, on='title', how='inner')\n",
        "df_final_showdata.head()"
      ],
      "execution_count": null,
      "outputs": [
        {
          "output_type": "execute_result",
          "data": {
            "text/html": [
              "<div>\n",
              "<style scoped>\n",
              "    .dataframe tbody tr th:only-of-type {\n",
              "        vertical-align: middle;\n",
              "    }\n",
              "\n",
              "    .dataframe tbody tr th {\n",
              "        vertical-align: top;\n",
              "    }\n",
              "\n",
              "    .dataframe thead th {\n",
              "        text-align: right;\n",
              "    }\n",
              "</style>\n",
              "<table border=\"1\" class=\"dataframe\">\n",
              "  <thead>\n",
              "    <tr style=\"text-align: right;\">\n",
              "      <th></th>\n",
              "      <th>show_id</th>\n",
              "      <th>title</th>\n",
              "      <th>user_id</th>\n",
              "      <th>Genre</th>\n",
              "      <th>Sentiment_score</th>\n",
              "      <th>IMDB_rating</th>\n",
              "    </tr>\n",
              "  </thead>\n",
              "  <tbody>\n",
              "    <tr>\n",
              "      <th>0</th>\n",
              "      <td>80049872</td>\n",
              "      <td>Chelsea</td>\n",
              "      <td>547940165</td>\n",
              "      <td>Comedy</td>\n",
              "      <td>1.000</td>\n",
              "      <td>6.4</td>\n",
              "    </tr>\n",
              "    <tr>\n",
              "      <th>1</th>\n",
              "      <td>80049872</td>\n",
              "      <td>Chelsea</td>\n",
              "      <td>19917894</td>\n",
              "      <td>Comedy</td>\n",
              "      <td>1.000</td>\n",
              "      <td>6.4</td>\n",
              "    </tr>\n",
              "    <tr>\n",
              "      <th>2</th>\n",
              "      <td>80049872</td>\n",
              "      <td>Chelsea</td>\n",
              "      <td>802353711573909504</td>\n",
              "      <td>Comedy</td>\n",
              "      <td>0.227</td>\n",
              "      <td>6.4</td>\n",
              "    </tr>\n",
              "    <tr>\n",
              "      <th>3</th>\n",
              "      <td>80049872</td>\n",
              "      <td>Chelsea</td>\n",
              "      <td>852973970026516480</td>\n",
              "      <td>Comedy</td>\n",
              "      <td>1.000</td>\n",
              "      <td>6.4</td>\n",
              "    </tr>\n",
              "    <tr>\n",
              "      <th>4</th>\n",
              "      <td>80049872</td>\n",
              "      <td>Chelsea</td>\n",
              "      <td>852973970026516480</td>\n",
              "      <td>Comedy</td>\n",
              "      <td>1.000</td>\n",
              "      <td>6.4</td>\n",
              "    </tr>\n",
              "  </tbody>\n",
              "</table>\n",
              "</div>"
            ],
            "text/plain": [
              "    show_id    title             user_id   Genre  Sentiment_score  IMDB_rating\n",
              "0  80049872  Chelsea           547940165  Comedy            1.000          6.4\n",
              "1  80049872  Chelsea            19917894  Comedy            1.000          6.4\n",
              "2  80049872  Chelsea  802353711573909504  Comedy            0.227          6.4\n",
              "3  80049872  Chelsea  852973970026516480  Comedy            1.000          6.4\n",
              "4  80049872  Chelsea  852973970026516480  Comedy            1.000          6.4"
            ]
          },
          "metadata": {
            "tags": []
          },
          "execution_count": 24
        }
      ]
    },
    {
      "cell_type": "code",
      "metadata": {
        "colab": {
          "base_uri": "https://localhost:8080/",
          "height": 202
        },
        "id": "C4frljfBKTEX",
        "outputId": "75caaa16-aeaa-4193-e164-47f6f9749cde"
      },
      "source": [
        "# Copy the dataframe and drop duplicates if any\n",
        "df_model_data = df_final_showdata\n",
        "df_model_data = df_model_data.drop_duplicates().reset_index(drop=True)\n",
        "df_model_data.head()"
      ],
      "execution_count": null,
      "outputs": [
        {
          "output_type": "execute_result",
          "data": {
            "text/html": [
              "<div>\n",
              "<style scoped>\n",
              "    .dataframe tbody tr th:only-of-type {\n",
              "        vertical-align: middle;\n",
              "    }\n",
              "\n",
              "    .dataframe tbody tr th {\n",
              "        vertical-align: top;\n",
              "    }\n",
              "\n",
              "    .dataframe thead th {\n",
              "        text-align: right;\n",
              "    }\n",
              "</style>\n",
              "<table border=\"1\" class=\"dataframe\">\n",
              "  <thead>\n",
              "    <tr style=\"text-align: right;\">\n",
              "      <th></th>\n",
              "      <th>show_id</th>\n",
              "      <th>title</th>\n",
              "      <th>user_id</th>\n",
              "      <th>Genre</th>\n",
              "      <th>Sentiment_score</th>\n",
              "      <th>IMDB_rating</th>\n",
              "    </tr>\n",
              "  </thead>\n",
              "  <tbody>\n",
              "    <tr>\n",
              "      <th>0</th>\n",
              "      <td>80049872</td>\n",
              "      <td>Chelsea</td>\n",
              "      <td>547940165</td>\n",
              "      <td>Comedy</td>\n",
              "      <td>1.000</td>\n",
              "      <td>6.4</td>\n",
              "    </tr>\n",
              "    <tr>\n",
              "      <th>1</th>\n",
              "      <td>80049872</td>\n",
              "      <td>Chelsea</td>\n",
              "      <td>19917894</td>\n",
              "      <td>Comedy</td>\n",
              "      <td>1.000</td>\n",
              "      <td>6.4</td>\n",
              "    </tr>\n",
              "    <tr>\n",
              "      <th>2</th>\n",
              "      <td>80049872</td>\n",
              "      <td>Chelsea</td>\n",
              "      <td>802353711573909504</td>\n",
              "      <td>Comedy</td>\n",
              "      <td>0.227</td>\n",
              "      <td>6.4</td>\n",
              "    </tr>\n",
              "    <tr>\n",
              "      <th>3</th>\n",
              "      <td>80049872</td>\n",
              "      <td>Chelsea</td>\n",
              "      <td>852973970026516480</td>\n",
              "      <td>Comedy</td>\n",
              "      <td>1.000</td>\n",
              "      <td>6.4</td>\n",
              "    </tr>\n",
              "    <tr>\n",
              "      <th>4</th>\n",
              "      <td>80049872</td>\n",
              "      <td>Chelsea</td>\n",
              "      <td>852973970026516480</td>\n",
              "      <td>Comedy</td>\n",
              "      <td>0.259</td>\n",
              "      <td>6.4</td>\n",
              "    </tr>\n",
              "  </tbody>\n",
              "</table>\n",
              "</div>"
            ],
            "text/plain": [
              "    show_id    title             user_id   Genre  Sentiment_score  IMDB_rating\n",
              "0  80049872  Chelsea           547940165  Comedy            1.000          6.4\n",
              "1  80049872  Chelsea            19917894  Comedy            1.000          6.4\n",
              "2  80049872  Chelsea  802353711573909504  Comedy            0.227          6.4\n",
              "3  80049872  Chelsea  852973970026516480  Comedy            1.000          6.4\n",
              "4  80049872  Chelsea  852973970026516480  Comedy            0.259          6.4"
            ]
          },
          "metadata": {
            "tags": []
          },
          "execution_count": 25
        }
      ]
    },
    {
      "cell_type": "markdown",
      "metadata": {
        "id": "_ABDernQS7x9"
      },
      "source": [
        "Dataframe is sorted based on sentiment score and duplicate records are removed keeping only the highest sentiment score."
      ]
    },
    {
      "cell_type": "code",
      "metadata": {
        "id": "74b23hj6KTEY"
      },
      "source": [
        "# Removing duplicates for the model data\n",
        "df_model_data = df_model_data.sort_values('Sentiment_score').drop_duplicates(subset=['show_id', 'title', 'user_id', 'Genre', 'IMDB_rating', ], keep='last').reset_index(drop=True)\n"
      ],
      "execution_count": null,
      "outputs": []
    },
    {
      "cell_type": "code",
      "metadata": {
        "colab": {
          "base_uri": "https://localhost:8080/",
          "height": 415
        },
        "id": "GtoJIGa5KTEY",
        "outputId": "276400c4-433f-46de-fd00-23b2612cdf76"
      },
      "source": [
        "# Movie details for the model after cleaning the data and removing duplicates\n",
        "\n",
        "df_model_d = df_model_data[['title', 'Sentiment_score', 'IMDB_rating']].drop_duplicates()\n",
        "df_model_d = df_model_d.sort_values('Sentiment_score').drop_duplicates(subset=['title', 'IMDB_rating'], keep='last').reset_index(drop=True)\n",
        "df_model_d.dropna()\n",
        "df_model_d"
      ],
      "execution_count": null,
      "outputs": [
        {
          "output_type": "execute_result",
          "data": {
            "text/html": [
              "<div>\n",
              "<style scoped>\n",
              "    .dataframe tbody tr th:only-of-type {\n",
              "        vertical-align: middle;\n",
              "    }\n",
              "\n",
              "    .dataframe tbody tr th {\n",
              "        vertical-align: top;\n",
              "    }\n",
              "\n",
              "    .dataframe thead th {\n",
              "        text-align: right;\n",
              "    }\n",
              "</style>\n",
              "<table border=\"1\" class=\"dataframe\">\n",
              "  <thead>\n",
              "    <tr style=\"text-align: right;\">\n",
              "      <th></th>\n",
              "      <th>title</th>\n",
              "      <th>Sentiment_score</th>\n",
              "      <th>IMDB_rating</th>\n",
              "    </tr>\n",
              "  </thead>\n",
              "  <tbody>\n",
              "    <tr>\n",
              "      <th>0</th>\n",
              "      <td>Tango</td>\n",
              "      <td>0.082</td>\n",
              "      <td>7.1</td>\n",
              "    </tr>\n",
              "    <tr>\n",
              "      <th>1</th>\n",
              "      <td>Incomplete</td>\n",
              "      <td>0.133</td>\n",
              "      <td>5.4</td>\n",
              "    </tr>\n",
              "    <tr>\n",
              "      <th>2</th>\n",
              "      <td>Sabrina</td>\n",
              "      <td>0.139</td>\n",
              "      <td>6.6</td>\n",
              "    </tr>\n",
              "    <tr>\n",
              "      <th>3</th>\n",
              "      <td>Rocky</td>\n",
              "      <td>0.159</td>\n",
              "      <td>8.1</td>\n",
              "    </tr>\n",
              "    <tr>\n",
              "      <th>4</th>\n",
              "      <td>Delirium</td>\n",
              "      <td>0.166</td>\n",
              "      <td>5.7</td>\n",
              "    </tr>\n",
              "    <tr>\n",
              "      <th>...</th>\n",
              "      <td>...</td>\n",
              "      <td>...</td>\n",
              "      <td>...</td>\n",
              "    </tr>\n",
              "    <tr>\n",
              "      <th>76</th>\n",
              "      <td>Her</td>\n",
              "      <td>1.000</td>\n",
              "      <td>8.0</td>\n",
              "    </tr>\n",
              "    <tr>\n",
              "      <th>77</th>\n",
              "      <td>Three</td>\n",
              "      <td>1.000</td>\n",
              "      <td>7.4</td>\n",
              "    </tr>\n",
              "    <tr>\n",
              "      <th>78</th>\n",
              "      <td>Love</td>\n",
              "      <td>1.000</td>\n",
              "      <td>6.1</td>\n",
              "    </tr>\n",
              "    <tr>\n",
              "      <th>79</th>\n",
              "      <td>Boss</td>\n",
              "      <td>1.000</td>\n",
              "      <td>7.0</td>\n",
              "    </tr>\n",
              "    <tr>\n",
              "      <th>80</th>\n",
              "      <td>Malevolent</td>\n",
              "      <td>1.000</td>\n",
              "      <td>4.8</td>\n",
              "    </tr>\n",
              "  </tbody>\n",
              "</table>\n",
              "<p>81 rows × 3 columns</p>\n",
              "</div>"
            ],
            "text/plain": [
              "         title  Sentiment_score  IMDB_rating\n",
              "0        Tango            0.082          7.1\n",
              "1   Incomplete            0.133          5.4\n",
              "2      Sabrina            0.139          6.6\n",
              "3        Rocky            0.159          8.1\n",
              "4     Delirium            0.166          5.7\n",
              "..         ...              ...          ...\n",
              "76         Her            1.000          8.0\n",
              "77       Three            1.000          7.4\n",
              "78        Love            1.000          6.1\n",
              "79        Boss            1.000          7.0\n",
              "80  Malevolent            1.000          4.8\n",
              "\n",
              "[81 rows x 3 columns]"
            ]
          },
          "metadata": {
            "tags": []
          },
          "execution_count": 30
        }
      ]
    },
    {
      "cell_type": "markdown",
      "metadata": {
        "id": "l1iiJxjZTTov"
      },
      "source": [
        "Average sentiment score for each show is calaculated along with its count and visualized."
      ]
    },
    {
      "cell_type": "code",
      "metadata": {
        "colab": {
          "base_uri": "https://localhost:8080/",
          "height": 446
        },
        "id": "bU7iex_yKTEe",
        "outputId": "394478a4-f09c-42a4-d1a9-ed259dd4e922"
      },
      "source": [
        "# Mean Sentiment score for the whole movie dataset\n",
        "\n",
        "senti_mean = pd.DataFrame(df_model_data.groupby('title')['Sentiment_score'].mean())\n",
        "senti_mean['Mean_count'] = pd.DataFrame(df_model_data.groupby('title')['Sentiment_score'].count())\n",
        "\n",
        "senti_mean"
      ],
      "execution_count": null,
      "outputs": [
        {
          "output_type": "execute_result",
          "data": {
            "text/html": [
              "<div>\n",
              "<style scoped>\n",
              "    .dataframe tbody tr th:only-of-type {\n",
              "        vertical-align: middle;\n",
              "    }\n",
              "\n",
              "    .dataframe tbody tr th {\n",
              "        vertical-align: top;\n",
              "    }\n",
              "\n",
              "    .dataframe thead th {\n",
              "        text-align: right;\n",
              "    }\n",
              "</style>\n",
              "<table border=\"1\" class=\"dataframe\">\n",
              "  <thead>\n",
              "    <tr style=\"text-align: right;\">\n",
              "      <th></th>\n",
              "      <th>Sentiment_score</th>\n",
              "      <th>Mean_count</th>\n",
              "    </tr>\n",
              "    <tr>\n",
              "      <th>title</th>\n",
              "      <th></th>\n",
              "      <th></th>\n",
              "    </tr>\n",
              "  </thead>\n",
              "  <tbody>\n",
              "    <tr>\n",
              "      <th>After</th>\n",
              "      <td>0.413829</td>\n",
              "      <td>170</td>\n",
              "    </tr>\n",
              "    <tr>\n",
              "      <th>Amar</th>\n",
              "      <td>0.167000</td>\n",
              "      <td>1</td>\n",
              "    </tr>\n",
              "    <tr>\n",
              "      <th>Apostle</th>\n",
              "      <td>0.198000</td>\n",
              "      <td>2</td>\n",
              "    </tr>\n",
              "    <tr>\n",
              "      <th>Arrow</th>\n",
              "      <td>0.210000</td>\n",
              "      <td>1</td>\n",
              "    </tr>\n",
              "    <tr>\n",
              "      <th>Backcountry</th>\n",
              "      <td>0.267000</td>\n",
              "      <td>1</td>\n",
              "    </tr>\n",
              "    <tr>\n",
              "      <th>...</th>\n",
              "      <td>...</td>\n",
              "      <td>...</td>\n",
              "    </tr>\n",
              "    <tr>\n",
              "      <th>Troy</th>\n",
              "      <td>0.149000</td>\n",
              "      <td>2</td>\n",
              "    </tr>\n",
              "    <tr>\n",
              "      <th>Velvet</th>\n",
              "      <td>0.232000</td>\n",
              "      <td>1</td>\n",
              "    </tr>\n",
              "    <tr>\n",
              "      <th>Veronica</th>\n",
              "      <td>0.295800</td>\n",
              "      <td>5</td>\n",
              "    </tr>\n",
              "    <tr>\n",
              "      <th>War</th>\n",
              "      <td>0.667000</td>\n",
              "      <td>2</td>\n",
              "    </tr>\n",
              "    <tr>\n",
              "      <th>XXx</th>\n",
              "      <td>0.204000</td>\n",
              "      <td>1</td>\n",
              "    </tr>\n",
              "  </tbody>\n",
              "</table>\n",
              "<p>81 rows × 2 columns</p>\n",
              "</div>"
            ],
            "text/plain": [
              "             Sentiment_score  Mean_count\n",
              "title                                   \n",
              "After               0.413829         170\n",
              "Amar                0.167000           1\n",
              "Apostle             0.198000           2\n",
              "Arrow               0.210000           1\n",
              "Backcountry         0.267000           1\n",
              "...                      ...         ...\n",
              "Troy                0.149000           2\n",
              "Velvet              0.232000           1\n",
              "Veronica            0.295800           5\n",
              "War                 0.667000           2\n",
              "XXx                 0.204000           1\n",
              "\n",
              "[81 rows x 2 columns]"
            ]
          },
          "metadata": {
            "tags": []
          },
          "execution_count": 32
        }
      ]
    },
    {
      "cell_type": "code",
      "metadata": {
        "id": "5N5TG-HHKTEf"
      },
      "source": [
        "# Import libraries required for model\n",
        "\n",
        "from sklearn.model_selection import train_test_split\n",
        "from sklearn.preprocessing import LabelEncoder\n",
        "from keras.layers import Input, Embedding, Dot, Reshape, Dense\n",
        "from keras.models import Model\n",
        "from keras.models import Model\n",
        "from keras.layers import Input, Reshape, Dot\n",
        "from keras.layers.embeddings import Embedding\n",
        "from keras.optimizers import Adam\n",
        "from keras.regularizers import l2\n",
        "from keras.layers import Concatenate, Dense\n",
        "from tensorflow.keras.models import Sequential\n",
        "from tensorflow.keras.layers import Dense, Flatten, Dropout, Conv1D, Reshape, Concatenate\n",
        "import tensorflow as tf\n",
        "from tensorflow import keras\n"
      ],
      "execution_count": null,
      "outputs": []
    },
    {
      "cell_type": "markdown",
      "metadata": {
        "id": "f-xmeizbTzPC"
      },
      "source": [
        "All categorical variables such as show id, user id and genre are transformed into numerical values using Labelencoder"
      ]
    },
    {
      "cell_type": "code",
      "metadata": {
        "colab": {
          "base_uri": "https://localhost:8080/",
          "height": 386
        },
        "id": "eyL2oLncKTEf",
        "outputId": "fcb2473c-1d20-4293-c413-da765521bcb9"
      },
      "source": [
        "# Encode genre to numerical values\n",
        " \n",
        "genre_enc = LabelEncoder()\n",
        "\n",
        "df_model_data[\"genre_encoded\"] = genre_enc.fit_transform(df_model_data[\"Genre\"])\n",
        "n_genre = df_model_data['genre_encoded'].nunique()\n",
        "\n",
        "df_model_data[[\"genre_encoded\", \"Genre\"]].head(11)\n"
      ],
      "execution_count": null,
      "outputs": [
        {
          "output_type": "execute_result",
          "data": {
            "text/html": [
              "<div>\n",
              "<style scoped>\n",
              "    .dataframe tbody tr th:only-of-type {\n",
              "        vertical-align: middle;\n",
              "    }\n",
              "\n",
              "    .dataframe tbody tr th {\n",
              "        vertical-align: top;\n",
              "    }\n",
              "\n",
              "    .dataframe thead th {\n",
              "        text-align: right;\n",
              "    }\n",
              "</style>\n",
              "<table border=\"1\" class=\"dataframe\">\n",
              "  <thead>\n",
              "    <tr style=\"text-align: right;\">\n",
              "      <th></th>\n",
              "      <th>genre_encoded</th>\n",
              "      <th>Genre</th>\n",
              "    </tr>\n",
              "  </thead>\n",
              "  <tbody>\n",
              "    <tr>\n",
              "      <th>0</th>\n",
              "      <td>0</td>\n",
              "      <td>Action</td>\n",
              "    </tr>\n",
              "    <tr>\n",
              "      <th>1</th>\n",
              "      <td>0</td>\n",
              "      <td>Action</td>\n",
              "    </tr>\n",
              "    <tr>\n",
              "      <th>2</th>\n",
              "      <td>0</td>\n",
              "      <td>Action</td>\n",
              "    </tr>\n",
              "    <tr>\n",
              "      <th>3</th>\n",
              "      <td>0</td>\n",
              "      <td>Action</td>\n",
              "    </tr>\n",
              "    <tr>\n",
              "      <th>4</th>\n",
              "      <td>0</td>\n",
              "      <td>Action</td>\n",
              "    </tr>\n",
              "    <tr>\n",
              "      <th>5</th>\n",
              "      <td>0</td>\n",
              "      <td>Action</td>\n",
              "    </tr>\n",
              "    <tr>\n",
              "      <th>6</th>\n",
              "      <td>0</td>\n",
              "      <td>Action</td>\n",
              "    </tr>\n",
              "    <tr>\n",
              "      <th>7</th>\n",
              "      <td>0</td>\n",
              "      <td>Action</td>\n",
              "    </tr>\n",
              "    <tr>\n",
              "      <th>8</th>\n",
              "      <td>0</td>\n",
              "      <td>Action</td>\n",
              "    </tr>\n",
              "    <tr>\n",
              "      <th>9</th>\n",
              "      <td>0</td>\n",
              "      <td>Action</td>\n",
              "    </tr>\n",
              "    <tr>\n",
              "      <th>10</th>\n",
              "      <td>0</td>\n",
              "      <td>Action</td>\n",
              "    </tr>\n",
              "  </tbody>\n",
              "</table>\n",
              "</div>"
            ],
            "text/plain": [
              "    genre_encoded   Genre\n",
              "0               0  Action\n",
              "1               0  Action\n",
              "2               0  Action\n",
              "3               0  Action\n",
              "4               0  Action\n",
              "5               0  Action\n",
              "6               0  Action\n",
              "7               0  Action\n",
              "8               0  Action\n",
              "9               0  Action\n",
              "10              0  Action"
            ]
          },
          "metadata": {
            "tags": []
          },
          "execution_count": 35
        }
      ]
    },
    {
      "cell_type": "code",
      "metadata": {
        "id": "0HRh8QPjKTEf"
      },
      "source": [
        "#user encoding \n",
        "# creating instance of labelencoder\n",
        "\n",
        "user_enc = LabelEncoder()\n",
        "\n",
        "df_model_data['user'] = user_enc.fit_transform(df_model_data['user_id'].values)\n",
        "n_users = df_model_data['user_id'].nunique()\n"
      ],
      "execution_count": null,
      "outputs": []
    },
    {
      "cell_type": "code",
      "metadata": {
        "colab": {
          "base_uri": "https://localhost:8080/",
          "height": 415
        },
        "id": "XRyFjYRCZz37",
        "outputId": "7819c6ff-36d6-415b-94ab-5f789fa7545c"
      },
      "source": [
        "df_model_data"
      ],
      "execution_count": null,
      "outputs": [
        {
          "output_type": "execute_result",
          "data": {
            "text/html": [
              "<div>\n",
              "<style scoped>\n",
              "    .dataframe tbody tr th:only-of-type {\n",
              "        vertical-align: middle;\n",
              "    }\n",
              "\n",
              "    .dataframe tbody tr th {\n",
              "        vertical-align: top;\n",
              "    }\n",
              "\n",
              "    .dataframe thead th {\n",
              "        text-align: right;\n",
              "    }\n",
              "</style>\n",
              "<table border=\"1\" class=\"dataframe\">\n",
              "  <thead>\n",
              "    <tr style=\"text-align: right;\">\n",
              "      <th></th>\n",
              "      <th>show_id</th>\n",
              "      <th>title</th>\n",
              "      <th>user_id</th>\n",
              "      <th>Genre</th>\n",
              "      <th>Sentiment_score</th>\n",
              "      <th>IMDB_rating</th>\n",
              "      <th>genre_encoded</th>\n",
              "      <th>user</th>\n",
              "    </tr>\n",
              "  </thead>\n",
              "  <tbody>\n",
              "    <tr>\n",
              "      <th>0</th>\n",
              "      <td>20255837</td>\n",
              "      <td>Don</td>\n",
              "      <td>2164164273</td>\n",
              "      <td>Action</td>\n",
              "      <td>0.042</td>\n",
              "      <td>6.4</td>\n",
              "      <td>0</td>\n",
              "      <td>587</td>\n",
              "    </tr>\n",
              "    <tr>\n",
              "      <th>1</th>\n",
              "      <td>20255837</td>\n",
              "      <td>Don</td>\n",
              "      <td>1282325107537477632</td>\n",
              "      <td>Action</td>\n",
              "      <td>0.053</td>\n",
              "      <td>6.4</td>\n",
              "      <td>0</td>\n",
              "      <td>1245</td>\n",
              "    </tr>\n",
              "    <tr>\n",
              "      <th>2</th>\n",
              "      <td>20255837</td>\n",
              "      <td>Don</td>\n",
              "      <td>3354694874</td>\n",
              "      <td>Action</td>\n",
              "      <td>0.057</td>\n",
              "      <td>6.4</td>\n",
              "      <td>0</td>\n",
              "      <td>709</td>\n",
              "    </tr>\n",
              "    <tr>\n",
              "      <th>3</th>\n",
              "      <td>70066433</td>\n",
              "      <td>Next</td>\n",
              "      <td>20462084</td>\n",
              "      <td>Action</td>\n",
              "      <td>0.057</td>\n",
              "      <td>6.9</td>\n",
              "      <td>0</td>\n",
              "      <td>41</td>\n",
              "    </tr>\n",
              "    <tr>\n",
              "      <th>4</th>\n",
              "      <td>80022605</td>\n",
              "      <td>Remember</td>\n",
              "      <td>1240841347344580608</td>\n",
              "      <td>Action</td>\n",
              "      <td>0.058</td>\n",
              "      <td>7.5</td>\n",
              "      <td>0</td>\n",
              "      <td>1147</td>\n",
              "    </tr>\n",
              "    <tr>\n",
              "      <th>...</th>\n",
              "      <td>...</td>\n",
              "      <td>...</td>\n",
              "      <td>...</td>\n",
              "      <td>...</td>\n",
              "      <td>...</td>\n",
              "      <td>...</td>\n",
              "      <td>...</td>\n",
              "      <td>...</td>\n",
              "    </tr>\n",
              "    <tr>\n",
              "      <th>1414</th>\n",
              "      <td>80022605</td>\n",
              "      <td>Remember</td>\n",
              "      <td>24446195</td>\n",
              "      <td>Action</td>\n",
              "      <td>1.000</td>\n",
              "      <td>7.5</td>\n",
              "      <td>0</td>\n",
              "      <td>57</td>\n",
              "    </tr>\n",
              "    <tr>\n",
              "      <th>1415</th>\n",
              "      <td>81033200</td>\n",
              "      <td>Love</td>\n",
              "      <td>328605589</td>\n",
              "      <td>Romance</td>\n",
              "      <td>1.000</td>\n",
              "      <td>6.1</td>\n",
              "      <td>3</td>\n",
              "      <td>331</td>\n",
              "    </tr>\n",
              "    <tr>\n",
              "      <th>1416</th>\n",
              "      <td>80227516</td>\n",
              "      <td>Chosen</td>\n",
              "      <td>911822348591915008</td>\n",
              "      <td>Action</td>\n",
              "      <td>1.000</td>\n",
              "      <td>7.4</td>\n",
              "      <td>0</td>\n",
              "      <td>863</td>\n",
              "    </tr>\n",
              "    <tr>\n",
              "      <th>1417</th>\n",
              "      <td>80022605</td>\n",
              "      <td>Remember</td>\n",
              "      <td>1201746874589417473</td>\n",
              "      <td>Action</td>\n",
              "      <td>1.000</td>\n",
              "      <td>7.5</td>\n",
              "      <td>0</td>\n",
              "      <td>1098</td>\n",
              "    </tr>\n",
              "    <tr>\n",
              "      <th>1418</th>\n",
              "      <td>80049872</td>\n",
              "      <td>Chelsea</td>\n",
              "      <td>547940165</td>\n",
              "      <td>Comedy</td>\n",
              "      <td>1.000</td>\n",
              "      <td>6.4</td>\n",
              "      <td>1</td>\n",
              "      <td>456</td>\n",
              "    </tr>\n",
              "  </tbody>\n",
              "</table>\n",
              "<p>1419 rows × 8 columns</p>\n",
              "</div>"
            ],
            "text/plain": [
              "       show_id     title              user_id  ... IMDB_rating  genre_encoded  user\n",
              "0     20255837       Don           2164164273  ...         6.4              0   587\n",
              "1     20255837       Don  1282325107537477632  ...         6.4              0  1245\n",
              "2     20255837       Don           3354694874  ...         6.4              0   709\n",
              "3     70066433      Next             20462084  ...         6.9              0    41\n",
              "4     80022605  Remember  1240841347344580608  ...         7.5              0  1147\n",
              "...        ...       ...                  ...  ...         ...            ...   ...\n",
              "1414  80022605  Remember             24446195  ...         7.5              0    57\n",
              "1415  81033200      Love            328605589  ...         6.1              3   331\n",
              "1416  80227516    Chosen   911822348591915008  ...         7.4              0   863\n",
              "1417  80022605  Remember  1201746874589417473  ...         7.5              0  1098\n",
              "1418  80049872   Chelsea            547940165  ...         6.4              1   456\n",
              "\n",
              "[1419 rows x 8 columns]"
            ]
          },
          "metadata": {
            "tags": []
          },
          "execution_count": 37
        }
      ]
    },
    {
      "cell_type": "code",
      "metadata": {
        "id": "u2sXWbReKTEf"
      },
      "source": [
        "\n",
        "# show and movie data encoding \n",
        "item_enc = LabelEncoder()\n",
        "df_model_data['show'] = item_enc.fit_transform(df_model_data['show_id'].values)\n",
        "n_movies = df_model_data['show'].nunique()\n"
      ],
      "execution_count": null,
      "outputs": []
    },
    {
      "cell_type": "code",
      "metadata": {
        "colab": {
          "base_uri": "https://localhost:8080/",
          "height": 202
        },
        "id": "nT3Ywl9CKTEf",
        "outputId": "14f5b287-05bc-4e08-de4f-78824acc4528"
      },
      "source": [
        "df_data = df_model_data[['show', 'user', 'IMDB_rating', 'Sentiment_score', 'genre_encoded']]\n",
        "df_data.head()"
      ],
      "execution_count": null,
      "outputs": [
        {
          "output_type": "execute_result",
          "data": {
            "text/html": [
              "<div>\n",
              "<style scoped>\n",
              "    .dataframe tbody tr th:only-of-type {\n",
              "        vertical-align: middle;\n",
              "    }\n",
              "\n",
              "    .dataframe tbody tr th {\n",
              "        vertical-align: top;\n",
              "    }\n",
              "\n",
              "    .dataframe thead th {\n",
              "        text-align: right;\n",
              "    }\n",
              "</style>\n",
              "<table border=\"1\" class=\"dataframe\">\n",
              "  <thead>\n",
              "    <tr style=\"text-align: right;\">\n",
              "      <th></th>\n",
              "      <th>show</th>\n",
              "      <th>user</th>\n",
              "      <th>IMDB_rating</th>\n",
              "      <th>Sentiment_score</th>\n",
              "      <th>genre_encoded</th>\n",
              "    </tr>\n",
              "  </thead>\n",
              "  <tbody>\n",
              "    <tr>\n",
              "      <th>0</th>\n",
              "      <td>2</td>\n",
              "      <td>587</td>\n",
              "      <td>6.4</td>\n",
              "      <td>0.042</td>\n",
              "      <td>0</td>\n",
              "    </tr>\n",
              "    <tr>\n",
              "      <th>1</th>\n",
              "      <td>2</td>\n",
              "      <td>1245</td>\n",
              "      <td>6.4</td>\n",
              "      <td>0.053</td>\n",
              "      <td>0</td>\n",
              "    </tr>\n",
              "    <tr>\n",
              "      <th>2</th>\n",
              "      <td>2</td>\n",
              "      <td>709</td>\n",
              "      <td>6.4</td>\n",
              "      <td>0.057</td>\n",
              "      <td>0</td>\n",
              "    </tr>\n",
              "    <tr>\n",
              "      <th>3</th>\n",
              "      <td>12</td>\n",
              "      <td>41</td>\n",
              "      <td>6.9</td>\n",
              "      <td>0.057</td>\n",
              "      <td>0</td>\n",
              "    </tr>\n",
              "    <tr>\n",
              "      <th>4</th>\n",
              "      <td>33</td>\n",
              "      <td>1147</td>\n",
              "      <td>7.5</td>\n",
              "      <td>0.058</td>\n",
              "      <td>0</td>\n",
              "    </tr>\n",
              "  </tbody>\n",
              "</table>\n",
              "</div>"
            ],
            "text/plain": [
              "   show  user  IMDB_rating  Sentiment_score  genre_encoded\n",
              "0     2   587          6.4            0.042              0\n",
              "1     2  1245          6.4            0.053              0\n",
              "2     2   709          6.4            0.057              0\n",
              "3    12    41          6.9            0.057              0\n",
              "4    33  1147          7.5            0.058              0"
            ]
          },
          "metadata": {
            "tags": []
          },
          "execution_count": 39
        }
      ]
    },
    {
      "cell_type": "markdown",
      "metadata": {
        "id": "pSnw3DM6UE9r"
      },
      "source": [
        "The below graph shows the data distribution of shows ,\r\n",
        "sentiment score and corresponding IMDB rating. We can see that most of the shows sentiment score varies between 0.1 to 0.5 and it's IMDB rating is really high for shows. Surprisingly we can see that there are higher sentiment for few movies but the IMDB ratings are varying from low to high based on the data analysis. Here we are checking how user sentiments are varying with the rating data for no of shows. We can see that there are many secenarios.\r\n",
        "\r\n",
        "\r\n",
        "\r\n",
        "\r\n",
        "\r\n",
        "\r\n",
        "\r\n",
        "\r\n",
        "\r\n",
        "\r\n",
        "\r\n",
        "\r\n",
        "\r\n",
        "\r\n"
      ]
    },
    {
      "cell_type": "code",
      "metadata": {
        "colab": {
          "base_uri": "https://localhost:8080/",
          "height": 542
        },
        "id": "hD5VKQijFlN0",
        "outputId": "5d854416-d087-4812-99d4-beb9b0fe919f"
      },
      "source": [
        "#Parallel Coordinates plot \r\n",
        "\r\n",
        "df_data_1 = df_data[['show', 'Sentiment_score', 'IMDB_rating']].drop_duplicates()\r\n",
        "\r\n",
        "import plotly.express as px\r\n",
        "\r\n",
        "fig = px.parallel_coordinates(df_data_1, color=df_data_1['show'], labels={\"show_id\": \"show\",\r\n",
        "                \"Sentiment_score\": \"Sentiment_score\", \"IMDB_rating\": \"IMDB_rating\"},\r\n",
        "                             color_continuous_scale=px.colors.diverging.Tealrose,\r\n",
        "                             color_continuous_midpoint=2)\r\n",
        "fig.show()"
      ],
      "execution_count": null,
      "outputs": [
        {
          "output_type": "display_data",
          "data": {
            "text/html": [
              "<html>\n",
              "<head><meta charset=\"utf-8\" /></head>\n",
              "<body>\n",
              "    <div>\n",
              "            <script src=\"https://cdnjs.cloudflare.com/ajax/libs/mathjax/2.7.5/MathJax.js?config=TeX-AMS-MML_SVG\"></script><script type=\"text/javascript\">if (window.MathJax) {MathJax.Hub.Config({SVG: {font: \"STIX-Web\"}});}</script>\n",
              "                <script type=\"text/javascript\">window.PlotlyConfig = {MathJaxConfig: 'local'};</script>\n",
              "        <script src=\"https://cdn.plot.ly/plotly-latest.min.js\"></script>    \n",
              "            <div id=\"7f6add4c-7e32-412d-8fac-5097a446c5c2\" class=\"plotly-graph-div\" style=\"height:525px; width:100%;\"></div>\n",
              "            <script type=\"text/javascript\">\n",
              "                \n",
              "                    window.PLOTLYENV=window.PLOTLYENV || {};\n",
              "                    \n",
              "                if (document.getElementById(\"7f6add4c-7e32-412d-8fac-5097a446c5c2\")) {\n",
              "                    Plotly.newPlot(\n",
              "                        '7f6add4c-7e32-412d-8fac-5097a446c5c2',\n",
              "                        [{\"dimensions\": [{\"label\": \"show\", \"values\": [2, 2, 2, 12, 33, 54, 2, 2, 2, 33, 67, 67, 68, 2, 68, 2, 67, 2, 2, 77, 2, 67, 68, 65, 2, 67, 68, 25, 33, 15, 2, 2, 67, 33, 67, 2, 2, 2, 67, 33, 2, 67, 68, 68, 67, 43, 2, 68, 67, 12, 2, 45, 68, 33, 2, 67, 33, 2, 68, 2, 68, 33, 2, 68, 67, 12, 2, 2, 68, 74, 33, 33, 2, 67, 33, 74, 2, 33, 2, 67, 35, 68, 12, 2, 23, 2, 67, 2, 33, 74, 2, 67, 43, 33, 33, 2, 68, 74, 35, 33, 67, 68, 2, 67, 33, 54, 68, 67, 68, 33, 12, 2, 2, 2, 68, 73, 68, 67, 33, 2, 63, 2, 33, 67, 14, 6, 2, 33, 68, 67, 33, 68, 2, 68, 2, 33, 33, 2, 50, 67, 25, 75, 2, 51, 2, 33, 67, 68, 33, 67, 74, 2, 33, 68, 2, 12, 43, 12, 2, 33, 12, 2, 68, 2, 12, 23, 67, 72, 2, 68, 2, 74, 45, 67, 2, 33, 65, 67, 23, 33, 43, 41, 67, 33, 74, 33, 2, 68, 67, 2, 46, 2, 74, 2, 68, 67, 74, 68, 2, 2, 68, 33, 2, 67, 68, 74, 33, 25, 23, 33, 25, 41, 67, 74, 2, 67, 68, 68, 74, 64, 33, 74, 43, 25, 2, 29, 0, 67, 54, 74, 68, 33, 33, 74, 67, 2, 2, 33, 67, 68, 74, 43, 67, 12, 2, 74, 2, 74, 33, 68, 2, 27, 2, 37, 2, 43, 12, 65, 42, 2, 67, 2, 67, 68, 2, 2, 23, 74, 2, 67, 6, 25, 73, 23, 74, 33, 68, 2, 33, 68, 2, 33, 2, 2, 33, 68, 43, 33, 67, 2, 74, 74, 68, 2, 2, 25, 68, 67, 67, 68, 69, 68, 67, 68, 2, 12, 67, 2, 67, 33, 23, 27, 74, 2, 2, 19, 68, 68, 2, 67, 74, 74, 67, 68, 33, 64, 2, 74, 2, 56, 74, 2, 2, 74, 2, 74, 2, 67, 9, 2, 74, 39, 2, 74, 20, 33, 2, 68, 67, 4, 43, 56, 2, 67, 2, 33, 12, 74, 67, 73, 33, 2, 8, 68, 74, 35, 33, 74, 23, 67, 54, 45, 74, 22, 68, 2, 67, 75, 2, 33, 44, 68, 33, 74, 67, 2, 47, 68, 2, 74, 2, 2, 23, 67, 2, 68, 36, 23, 67, 75, 33, 2, 2, 33, 68, 33, 74, 68, 28, 74, 33, 68, 2, 33, 36, 68, 33, 74, 68, 68, 2, 67, 2, 74, 12, 2, 67, 2, 30, 68, 67, 2, 74, 68, 2, 67, 23, 68, 33, 2, 67, 74, 15, 43, 33, 74, 2, 67, 2, 33, 2, 74, 23, 2, 74, 2, 33, 74, 67, 74, 2, 67, 2, 74, 68, 2, 33, 33, 9, 2, 67, 74, 2, 23, 40, 2, 46, 67, 74, 2, 68, 74, 2, 67, 68, 2, 23, 2, 40, 74, 2, 67, 74, 2, 24, 2, 68, 35, 74, 67, 74, 2, 1, 2, 68, 19, 74, 33, 67, 33, 68, 2, 67, 74, 2, 67, 2, 33, 59, 68, 2, 74, 31, 68, 67, 68, 67, 2, 74, 33, 74, 2, 68, 2, 67, 74, 23, 67, 74, 67, 7, 2, 33, 68, 2, 12, 74, 2, 74, 66, 2, 48, 2, 52, 74, 61, 2, 67, 74, 74, 74, 19, 47, 67, 33, 79, 68, 74, 33, 74, 33, 2, 74, 67, 2, 65, 74, 54, 2, 35, 71, 2, 74, 68, 41, 74, 74, 33, 33, 2, 74, 67, 68, 74, 2, 2, 74, 74, 2, 2, 74, 68, 74, 16, 33, 2, 67, 80, 74, 2, 35, 74, 1, 67, 2, 2, 74, 67, 68, 2, 74, 2, 74, 9, 2, 67, 74, 33, 21, 74, 74, 67, 54, 19, 74, 23, 2, 33, 33, 74, 34, 74, 2, 78, 68, 49, 68, 74, 2, 74, 74, 68, 74, 67, 2, 38, 68, 74, 12, 2, 74, 67, 11, 2, 74, 12, 74, 2, 2, 36, 74, 74, 41, 74, 74, 74, 67, 68, 2, 74, 74, 2, 38, 2, 39, 25, 2, 74, 2, 2, 67, 2, 74, 2, 2, 74, 67, 68, 67, 68, 74, 74, 23, 2, 74, 2, 74, 74, 74, 67, 2, 68, 74, 74, 35, 2, 68, 33, 74, 74, 57, 71, 2, 74, 68, 25, 74, 35, 74, 33, 68, 74, 2, 9, 68, 2, 74, 2, 67, 74, 67, 38, 74, 67, 33, 23, 74, 67, 2, 74, 67, 74, 33, 79, 67, 2, 2, 70, 74, 74, 2, 74, 67, 2, 74, 74, 74, 74, 67, 74, 74, 2, 68, 74, 74, 10, 33, 67, 74, 68, 74, 2, 2, 74, 74, 74, 2, 74, 74, 74, 2, 74, 2, 74, 67, 74, 67, 9, 12, 2, 66, 74, 74, 74, 68, 2, 74, 49, 1, 74, 67, 2, 74, 2, 74, 74, 2, 74, 74, 35, 74, 68, 74, 74, 2, 74, 18, 74, 2, 33, 74, 2, 2, 2, 74, 74, 41, 2, 19, 2, 32, 74, 2, 2, 74, 2, 74, 74, 74, 35, 74, 74, 67, 2, 74, 74, 38, 2, 68, 2, 74, 2, 2, 74, 25, 67, 74, 68, 2, 2, 2, 74, 2, 8, 2, 33, 33, 2, 74, 68, 68, 2, 68, 67, 2, 33, 8, 74, 2, 35, 76, 33, 2, 60, 62, 11, 19, 50, 1, 54, 59, 20, 13, 23, 43, 74, 9, 25, 68, 63, 47, 17, 45, 53, 3, 58, 14, 5, 67, 26, 55, 65, 29, 36, 73, 12, 79, 64]}, {\"label\": \"Sentiment_score\", \"values\": [0.042, 0.053, 0.057, 0.057, 0.058, 0.062, 0.062, 0.063, 0.071, 0.073, 0.074, 0.075, 0.075, 0.077, 0.079, 0.08, 0.08, 0.081, 0.082, 0.082, 0.083, 0.083, 0.084, 0.085, 0.085, 0.085, 0.086, 0.086, 0.087, 0.087, 0.087, 0.09, 0.09, 0.091, 0.091, 0.091, 0.092, 0.093, 0.094, 0.094, 0.095, 0.095, 0.095, 0.096, 0.097, 0.097, 0.097, 0.097, 0.098, 0.098, 0.098, 0.098, 0.099, 0.099, 0.099, 0.1, 0.1, 0.1, 0.1, 0.101, 0.102, 0.102, 0.102, 0.103, 0.103, 0.103, 0.103, 0.104, 0.104, 0.104, 0.104, 0.105, 0.106, 0.106, 0.106, 0.106, 0.109, 0.11, 0.11, 0.111, 0.111, 0.111, 0.111, 0.112, 0.113, 0.113, 0.114, 0.115, 0.115, 0.115, 0.116, 0.116, 0.116, 0.116, 0.117, 0.117, 0.117, 0.117, 0.118, 0.118, 0.118, 0.118, 0.119, 0.119, 0.119, 0.119, 0.119, 0.12, 0.121, 0.121, 0.121, 0.121, 0.122, 0.123, 0.123, 0.123, 0.124, 0.124, 0.124, 0.124, 0.124, 0.125, 0.125, 0.125, 0.125, 0.125, 0.126, 0.126, 0.126, 0.127, 0.127, 0.127, 0.128, 0.128, 0.129, 0.129, 0.13, 0.13, 0.13, 0.131, 0.131, 0.132, 0.132, 0.133, 0.133, 0.133, 0.133, 0.134, 0.134, 0.134, 0.134, 0.134, 0.135, 0.135, 0.135, 0.135, 0.135, 0.136, 0.136, 0.136, 0.137, 0.137, 0.138, 0.138, 0.138, 0.138, 0.139, 0.139, 0.139, 0.14, 0.14, 0.14, 0.141, 0.141, 0.141, 0.142, 0.142, 0.142, 0.142, 0.143, 0.143, 0.144, 0.144, 0.144, 0.144, 0.145, 0.145, 0.145, 0.145, 0.146, 0.147, 0.147, 0.148, 0.148, 0.149, 0.149, 0.149, 0.15, 0.15, 0.151, 0.151, 0.151, 0.152, 0.152, 0.152, 0.152, 0.152, 0.152, 0.153, 0.153, 0.153, 0.153, 0.154, 0.154, 0.154, 0.155, 0.155, 0.156, 0.156, 0.156, 0.157, 0.157, 0.157, 0.158, 0.158, 0.159, 0.159, 0.159, 0.16, 0.16, 0.16, 0.16, 0.161, 0.161, 0.161, 0.161, 0.162, 0.162, 0.162, 0.162, 0.162, 0.162, 0.163, 0.163, 0.163, 0.164, 0.164, 0.165, 0.165, 0.165, 0.165, 0.166, 0.166, 0.166, 0.167, 0.167, 0.167, 0.167, 0.167, 0.168, 0.169, 0.17, 0.171, 0.171, 0.171, 0.172, 0.172, 0.172, 0.173, 0.173, 0.173, 0.173, 0.174, 0.174, 0.174, 0.174, 0.175, 0.175, 0.176, 0.176, 0.176, 0.177, 0.178, 0.179, 0.179, 0.18, 0.18, 0.18, 0.18, 0.18, 0.18, 0.181, 0.181, 0.181, 0.182, 0.182, 0.182, 0.182, 0.183, 0.183, 0.184, 0.184, 0.184, 0.185, 0.185, 0.185, 0.186, 0.187, 0.187, 0.188, 0.188, 0.188, 0.189, 0.19, 0.191, 0.191, 0.191, 0.192, 0.192, 0.192, 0.192, 0.193, 0.194, 0.194, 0.194, 0.194, 0.194, 0.195, 0.195, 0.196, 0.196, 0.196, 0.197, 0.197, 0.198, 0.198, 0.199, 0.199, 0.2, 0.2, 0.2, 0.201, 0.201, 0.202, 0.202, 0.202, 0.203, 0.203, 0.204, 0.204, 0.204, 0.205, 0.205, 0.206, 0.206, 0.206, 0.206, 0.207, 0.207, 0.207, 0.207, 0.208, 0.208, 0.208, 0.208, 0.208, 0.209, 0.209, 0.209, 0.209, 0.209, 0.209, 0.21, 0.21, 0.211, 0.211, 0.212, 0.213, 0.213, 0.214, 0.214, 0.214, 0.215, 0.215, 0.216, 0.216, 0.216, 0.217, 0.218, 0.219, 0.219, 0.22, 0.22, 0.22, 0.221, 0.221, 0.221, 0.221, 0.222, 0.222, 0.222, 0.222, 0.223, 0.223, 0.223, 0.224, 0.224, 0.224, 0.225, 0.225, 0.225, 0.225, 0.226, 0.226, 0.227, 0.227, 0.228, 0.228, 0.228, 0.229, 0.229, 0.229, 0.23, 0.231, 0.231, 0.231, 0.231, 0.232, 0.232, 0.232, 0.233, 0.234, 0.234, 0.234, 0.235, 0.235, 0.235, 0.235, 0.235, 0.236, 0.236, 0.237, 0.237, 0.239, 0.239, 0.239, 0.239, 0.24, 0.24, 0.241, 0.241, 0.241, 0.242, 0.242, 0.242, 0.243, 0.243, 0.243, 0.243, 0.244, 0.244, 0.245, 0.245, 0.245, 0.245, 0.246, 0.246, 0.247, 0.247, 0.247, 0.247, 0.247, 0.248, 0.248, 0.248, 0.249, 0.249, 0.25, 0.251, 0.251, 0.251, 0.252, 0.252, 0.253, 0.253, 0.254, 0.254, 0.255, 0.256, 0.256, 0.257, 0.257, 0.257, 0.258, 0.259, 0.259, 0.259, 0.259, 0.259, 0.261, 0.261, 0.261, 0.261, 0.262, 0.262, 0.262, 0.262, 0.262, 0.263, 0.263, 0.263, 0.264, 0.265, 0.265, 0.265, 0.266, 0.266, 0.266, 0.266, 0.266, 0.267, 0.267, 0.267, 0.268, 0.268, 0.269, 0.269, 0.27, 0.27, 0.27, 0.271, 0.271, 0.272, 0.272, 0.272, 0.274, 0.274, 0.274, 0.276, 0.276, 0.276, 0.276, 0.276, 0.277, 0.277, 0.277, 0.277, 0.278, 0.279, 0.279, 0.28, 0.28, 0.281, 0.281, 0.281, 0.281, 0.282, 0.282, 0.283, 0.285, 0.286, 0.286, 0.286, 0.286, 0.286, 0.288, 0.288, 0.289, 0.289, 0.29, 0.291, 0.292, 0.292, 0.293, 0.293, 0.293, 0.293, 0.293, 0.294, 0.294, 0.294, 0.295, 0.295, 0.296, 0.296, 0.296, 0.297, 0.297, 0.298, 0.3, 0.3, 0.301, 0.301, 0.301, 0.301, 0.302, 0.302, 0.304, 0.304, 0.305, 0.305, 0.306, 0.306, 0.306, 0.307, 0.307, 0.307, 0.307, 0.307, 0.308, 0.308, 0.309, 0.309, 0.31, 0.31, 0.311, 0.312, 0.312, 0.312, 0.312, 0.313, 0.314, 0.314, 0.314, 0.315, 0.315, 0.315, 0.316, 0.316, 0.317, 0.318, 0.318, 0.318, 0.319, 0.319, 0.319, 0.319, 0.319, 0.32, 0.32, 0.32, 0.321, 0.321, 0.321, 0.322, 0.323, 0.325, 0.325, 0.326, 0.327, 0.328, 0.328, 0.329, 0.329, 0.329, 0.33, 0.331, 0.331, 0.332, 0.333, 0.333, 0.333, 0.334, 0.334, 0.335, 0.335, 0.336, 0.337, 0.338, 0.338, 0.338, 0.34, 0.341, 0.342, 0.343, 0.344, 0.344, 0.345, 0.345, 0.345, 0.346, 0.346, 0.346, 0.347, 0.348, 0.348, 0.349, 0.35, 0.35, 0.351, 0.351, 0.352, 0.353, 0.353, 0.354, 0.355, 0.355, 0.355, 0.356, 0.357, 0.357, 0.359, 0.359, 0.359, 0.36, 0.361, 0.361, 0.362, 0.363, 0.364, 0.365, 0.366, 0.366, 0.367, 0.367, 0.367, 0.367, 0.368, 0.368, 0.369, 0.369, 0.369, 0.37, 0.371, 0.371, 0.375, 0.375, 0.375, 0.376, 0.378, 0.378, 0.38, 0.38, 0.381, 0.381, 0.382, 0.382, 0.383, 0.384, 0.384, 0.385, 0.385, 0.385, 0.386, 0.387, 0.388, 0.389, 0.39, 0.39, 0.39, 0.392, 0.393, 0.394, 0.395, 0.396, 0.397, 0.399, 0.4, 0.4, 0.401, 0.404, 0.404, 0.405, 0.406, 0.407, 0.409, 0.41, 0.412, 0.414, 0.414, 0.415, 0.416, 0.416, 0.417, 0.418, 0.419, 0.419, 0.42, 0.422, 0.423, 0.423, 0.424, 0.425, 0.426, 0.428, 0.429, 0.432, 0.433, 0.434, 0.435, 0.438, 0.438, 0.439, 0.439, 0.44, 0.441, 0.444, 0.444, 0.448, 0.448, 0.454, 0.454, 0.455, 0.457, 0.457, 0.458, 0.462, 0.465, 0.465, 0.469, 0.474, 0.477, 0.482, 0.482, 0.483, 0.49, 0.492, 0.498, 0.502, 0.507, 0.509, 0.51, 0.511, 0.512, 0.512, 0.513, 0.514, 0.515, 0.516, 0.517, 0.517, 0.519, 0.531, 0.534, 0.538, 0.542, 0.545, 0.551, 0.552, 0.558, 0.559, 0.563, 0.575, 0.576, 0.583, 0.593, 0.602, 0.61, 0.615, 0.615, 0.625, 0.626, 0.63, 0.631, 0.641, 0.642, 0.651, 0.653, 0.657, 0.66, 0.677, 0.688, 0.69, 0.7, 0.7, 0.703, 0.704, 0.708, 0.717, 0.724, 0.725, 0.733, 0.741, 0.749, 0.751, 0.755, 0.761, 0.775, 0.777, 0.788, 0.791, 0.793, 0.804, 0.811, 0.813, 0.818, 0.828, 0.841, 0.905, 1.0, 1.0, 1.0, 1.0, 1.0, 1.0, 1.0, 1.0, 1.0, 1.0, 1.0, 1.0, 1.0, 1.0, 1.0, 1.0, 1.0, 1.0, 1.0, 1.0, 1.0, 1.0, 1.0, 1.0, 1.0, 1.0, 1.0, 1.0, 1.0, 1.0, 1.0, 1.0, 1.0, 1.0, 1.0, 1.0, 1.0, 1.0, 1.0]}, {\"label\": \"IMDB_rating\", \"values\": [6.4, 6.4, 6.4, 6.9, 7.5, 5.7, 6.4, 6.4, 6.4, 7.5, 5.3, 5.3, 6.6, 6.4, 6.6, 6.4, 5.3, 6.4, 6.4, 7.1, 6.4, 5.3, 6.6, 5.8, 6.4, 5.3, 6.6, 7.0, 7.5, 4.1, 6.4, 6.4, 5.3, 7.5, 5.3, 6.4, 6.4, 6.4, 5.3, 7.5, 6.4, 5.3, 6.6, 6.6, 5.3, 7.4, 6.4, 6.6, 5.3, 6.9, 6.4, 7.8, 6.6, 7.5, 6.4, 5.3, 7.5, 6.4, 6.6, 6.4, 6.6, 7.5, 6.4, 6.6, 5.3, 6.9, 6.4, 6.4, 6.6, 6.1, 7.5, 7.5, 6.4, 5.3, 7.5, 6.1, 6.4, 7.5, 6.4, 5.3, 6.1, 6.6, 6.9, 6.4, 8.0, 6.4, 5.3, 6.4, 7.5, 6.1, 6.4, 5.3, 7.4, 7.5, 7.5, 6.4, 6.6, 6.1, 6.1, 7.5, 5.3, 6.6, 6.4, 5.3, 7.5, 5.7, 6.6, 5.3, 6.6, 7.5, 6.9, 6.4, 6.4, 6.4, 6.6, 8.7, 6.6, 5.3, 7.5, 6.4, 6.4, 6.4, 7.5, 5.3, 7.1, 7.2, 6.4, 7.5, 6.6, 5.3, 7.5, 6.6, 6.4, 6.6, 6.4, 7.5, 7.5, 6.4, 7.2, 5.3, 7.0, 7.1, 6.4, 5.4, 6.4, 7.5, 5.3, 6.6, 7.5, 5.3, 6.1, 6.4, 7.5, 6.6, 6.4, 6.9, 7.4, 6.9, 6.4, 7.5, 6.9, 6.4, 6.6, 6.4, 6.9, 8.0, 5.3, 6.6, 6.4, 6.6, 6.4, 6.1, 7.8, 5.3, 6.4, 7.5, 5.8, 5.3, 8.0, 7.5, 7.4, 6.2, 5.3, 7.5, 6.1, 7.5, 6.4, 6.6, 5.3, 6.4, 6.3, 6.4, 6.1, 6.4, 6.6, 5.3, 6.1, 6.6, 6.4, 6.4, 6.6, 7.5, 6.4, 5.3, 6.6, 6.1, 7.5, 7.0, 8.0, 7.5, 7.0, 6.2, 5.3, 6.1, 6.4, 5.3, 6.6, 6.6, 6.1, 4.8, 7.5, 6.1, 7.4, 7.0, 6.4, 6.3, 8.1, 5.3, 5.7, 6.1, 6.6, 7.5, 7.5, 6.1, 5.3, 6.4, 6.4, 7.5, 5.3, 6.6, 6.1, 7.4, 5.3, 6.9, 6.4, 6.1, 6.4, 6.1, 7.5, 6.6, 6.4, 8.0, 6.4, 5.7, 6.4, 7.4, 6.9, 5.8, 5.2, 6.4, 5.3, 6.4, 5.3, 6.6, 6.4, 6.4, 8.0, 6.1, 6.4, 5.3, 7.2, 7.0, 8.7, 8.0, 6.1, 7.5, 6.6, 6.4, 7.5, 6.6, 6.4, 7.5, 6.4, 6.4, 7.5, 6.6, 7.4, 7.5, 5.3, 6.4, 6.1, 6.1, 6.6, 6.4, 6.4, 7.0, 6.6, 5.3, 5.3, 6.6, 5.6, 6.6, 5.3, 6.6, 6.4, 6.9, 5.3, 6.4, 5.3, 7.5, 8.0, 8.0, 6.1, 6.4, 6.4, 7.5, 6.6, 6.6, 6.4, 5.3, 6.1, 6.1, 5.3, 6.6, 7.5, 4.8, 6.4, 6.1, 6.4, 6.5, 6.1, 6.4, 6.4, 6.1, 6.4, 6.1, 6.4, 5.3, 8.4, 6.4, 6.1, 5.2, 6.4, 6.1, 5.6, 7.5, 6.4, 6.6, 5.3, 5.9, 7.4, 6.5, 6.4, 5.3, 6.4, 7.5, 6.9, 6.1, 5.3, 8.7, 7.5, 6.4, 5.7, 6.6, 6.1, 6.1, 7.5, 6.1, 8.0, 5.3, 5.7, 7.8, 6.1, 7.5, 6.6, 6.4, 5.3, 7.1, 6.4, 7.5, 6.4, 6.6, 7.5, 6.1, 5.3, 6.4, 6.4, 6.6, 6.4, 6.1, 6.4, 6.4, 8.0, 5.3, 6.4, 6.6, 6.4, 8.0, 5.3, 7.1, 7.5, 6.4, 6.4, 7.5, 6.6, 7.5, 6.1, 6.6, 6.0, 6.1, 7.5, 6.6, 6.4, 7.5, 6.4, 6.6, 7.5, 6.1, 6.6, 6.6, 6.4, 5.3, 6.4, 6.1, 6.9, 6.4, 5.3, 6.4, 8.1, 6.6, 5.3, 6.4, 6.1, 6.6, 6.4, 5.3, 8.0, 6.6, 7.5, 6.4, 5.3, 6.1, 4.1, 7.4, 7.5, 6.1, 6.4, 5.3, 6.4, 7.5, 6.4, 6.1, 8.0, 6.4, 6.1, 6.4, 7.5, 6.1, 5.3, 6.1, 6.4, 5.3, 6.4, 6.1, 6.6, 6.4, 7.5, 7.5, 8.4, 6.4, 5.3, 6.1, 6.4, 8.0, 6.7, 6.4, 6.3, 5.3, 6.1, 6.4, 6.6, 6.1, 6.4, 5.3, 6.6, 6.4, 8.0, 6.4, 6.7, 6.1, 6.4, 5.3, 6.1, 6.4, 8.4, 6.4, 6.6, 6.1, 6.1, 5.3, 6.1, 6.4, 6.4, 6.4, 6.6, 7.5, 6.1, 7.5, 5.3, 7.5, 6.6, 6.4, 5.3, 6.1, 6.4, 5.3, 6.4, 7.5, 6.3, 6.6, 6.4, 6.1, 6.0, 6.6, 5.3, 6.6, 5.3, 6.4, 6.1, 7.5, 6.1, 6.4, 6.6, 6.4, 5.3, 6.1, 8.0, 5.3, 6.1, 5.3, 6.3, 6.4, 7.5, 6.6, 6.4, 6.9, 6.1, 6.4, 6.1, 5.4, 6.4, 4.5, 6.4, 6.4, 6.1, 5.9, 6.4, 5.3, 6.1, 6.1, 6.1, 7.5, 6.4, 5.3, 7.5, 6.9, 6.6, 6.1, 7.5, 6.1, 7.5, 6.4, 6.1, 5.3, 6.4, 5.8, 6.1, 5.7, 6.4, 6.1, 5.4, 6.4, 6.1, 6.6, 6.2, 6.1, 6.1, 7.5, 7.5, 6.4, 6.1, 5.3, 6.6, 6.1, 6.4, 6.4, 6.1, 6.1, 6.4, 6.4, 6.1, 6.6, 6.1, 6.4, 7.5, 6.4, 5.3, 7.2, 6.1, 6.4, 6.1, 6.1, 6.4, 5.3, 6.4, 6.4, 6.1, 5.3, 6.6, 6.4, 6.1, 6.4, 6.1, 8.4, 6.4, 5.3, 6.1, 7.5, 6.3, 6.1, 6.1, 5.3, 5.7, 7.5, 6.1, 8.0, 6.4, 7.5, 7.5, 6.1, 7.9, 6.1, 6.4, 5.4, 6.6, 6.3, 6.6, 6.1, 6.4, 6.1, 6.1, 6.6, 6.1, 5.3, 6.4, 6.6, 6.6, 6.1, 6.9, 6.4, 6.1, 5.3, 6.2, 6.4, 6.1, 6.9, 6.1, 6.4, 6.4, 6.4, 6.1, 6.1, 6.2, 6.1, 6.1, 6.1, 5.3, 6.6, 6.4, 6.1, 6.1, 6.4, 6.6, 6.4, 5.2, 7.0, 6.4, 6.1, 6.4, 6.4, 5.3, 6.4, 6.1, 6.4, 6.4, 6.1, 5.3, 6.6, 5.3, 6.6, 6.1, 6.1, 8.0, 6.4, 6.1, 6.4, 6.1, 6.1, 6.1, 5.3, 6.4, 6.6, 6.1, 6.1, 6.1, 6.4, 6.6, 7.5, 6.1, 6.1, 5.0, 5.4, 6.4, 6.1, 6.6, 7.0, 6.1, 6.1, 6.1, 7.5, 6.6, 6.1, 6.4, 8.4, 6.6, 6.4, 6.1, 6.4, 5.3, 6.1, 5.3, 6.6, 6.1, 5.3, 7.5, 8.0, 6.1, 5.3, 6.4, 6.1, 5.3, 6.1, 7.5, 6.9, 5.3, 6.4, 6.4, 4.6, 6.1, 6.1, 6.4, 6.1, 5.3, 6.4, 6.1, 6.1, 6.1, 6.1, 5.3, 6.1, 6.1, 6.4, 6.6, 6.1, 6.1, 5.7, 7.5, 5.3, 6.1, 6.6, 6.1, 6.4, 6.4, 6.1, 6.1, 6.1, 6.4, 6.1, 6.1, 6.1, 6.4, 6.1, 6.4, 6.1, 5.3, 6.1, 5.3, 8.4, 6.9, 6.4, 5.4, 6.1, 6.1, 6.1, 6.6, 6.4, 6.1, 6.3, 6.4, 6.1, 5.3, 6.4, 6.1, 6.4, 6.1, 6.1, 6.4, 6.1, 6.1, 6.1, 6.1, 6.6, 6.1, 6.1, 6.4, 6.1, 7.8, 6.1, 6.4, 7.5, 6.1, 6.4, 6.4, 6.4, 6.1, 6.1, 6.2, 6.4, 7.5, 6.4, 7.8, 6.1, 6.4, 6.4, 6.1, 6.4, 6.1, 6.1, 6.1, 6.1, 6.1, 6.1, 5.3, 6.4, 6.1, 6.1, 6.6, 6.4, 6.6, 6.4, 6.1, 6.4, 6.4, 6.1, 7.0, 5.3, 6.1, 6.6, 6.4, 6.4, 6.4, 6.1, 6.4, 5.7, 6.4, 7.5, 7.5, 6.4, 6.1, 6.6, 6.6, 6.4, 6.6, 5.3, 6.4, 7.5, 5.7, 6.1, 6.4, 6.1, 4.1, 7.5, 6.4, 5.9, 7.4, 6.2, 7.5, 7.2, 6.4, 5.7, 6.3, 5.6, 7.0, 8.0, 7.4, 6.1, 8.4, 7.0, 6.6, 6.4, 6.4, 7.4, 7.8, 3.3, 6.3, 7.2, 7.1, 5.3, 5.3, 5.3, 5.8, 5.8, 6.3, 6.4, 8.7, 6.9, 6.9, 4.8]}], \"domain\": {\"x\": [0.0, 1.0], \"y\": [0.0, 1.0]}, \"line\": {\"color\": [2, 2, 2, 12, 33, 54, 2, 2, 2, 33, 67, 67, 68, 2, 68, 2, 67, 2, 2, 77, 2, 67, 68, 65, 2, 67, 68, 25, 33, 15, 2, 2, 67, 33, 67, 2, 2, 2, 67, 33, 2, 67, 68, 68, 67, 43, 2, 68, 67, 12, 2, 45, 68, 33, 2, 67, 33, 2, 68, 2, 68, 33, 2, 68, 67, 12, 2, 2, 68, 74, 33, 33, 2, 67, 33, 74, 2, 33, 2, 67, 35, 68, 12, 2, 23, 2, 67, 2, 33, 74, 2, 67, 43, 33, 33, 2, 68, 74, 35, 33, 67, 68, 2, 67, 33, 54, 68, 67, 68, 33, 12, 2, 2, 2, 68, 73, 68, 67, 33, 2, 63, 2, 33, 67, 14, 6, 2, 33, 68, 67, 33, 68, 2, 68, 2, 33, 33, 2, 50, 67, 25, 75, 2, 51, 2, 33, 67, 68, 33, 67, 74, 2, 33, 68, 2, 12, 43, 12, 2, 33, 12, 2, 68, 2, 12, 23, 67, 72, 2, 68, 2, 74, 45, 67, 2, 33, 65, 67, 23, 33, 43, 41, 67, 33, 74, 33, 2, 68, 67, 2, 46, 2, 74, 2, 68, 67, 74, 68, 2, 2, 68, 33, 2, 67, 68, 74, 33, 25, 23, 33, 25, 41, 67, 74, 2, 67, 68, 68, 74, 64, 33, 74, 43, 25, 2, 29, 0, 67, 54, 74, 68, 33, 33, 74, 67, 2, 2, 33, 67, 68, 74, 43, 67, 12, 2, 74, 2, 74, 33, 68, 2, 27, 2, 37, 2, 43, 12, 65, 42, 2, 67, 2, 67, 68, 2, 2, 23, 74, 2, 67, 6, 25, 73, 23, 74, 33, 68, 2, 33, 68, 2, 33, 2, 2, 33, 68, 43, 33, 67, 2, 74, 74, 68, 2, 2, 25, 68, 67, 67, 68, 69, 68, 67, 68, 2, 12, 67, 2, 67, 33, 23, 27, 74, 2, 2, 19, 68, 68, 2, 67, 74, 74, 67, 68, 33, 64, 2, 74, 2, 56, 74, 2, 2, 74, 2, 74, 2, 67, 9, 2, 74, 39, 2, 74, 20, 33, 2, 68, 67, 4, 43, 56, 2, 67, 2, 33, 12, 74, 67, 73, 33, 2, 8, 68, 74, 35, 33, 74, 23, 67, 54, 45, 74, 22, 68, 2, 67, 75, 2, 33, 44, 68, 33, 74, 67, 2, 47, 68, 2, 74, 2, 2, 23, 67, 2, 68, 36, 23, 67, 75, 33, 2, 2, 33, 68, 33, 74, 68, 28, 74, 33, 68, 2, 33, 36, 68, 33, 74, 68, 68, 2, 67, 2, 74, 12, 2, 67, 2, 30, 68, 67, 2, 74, 68, 2, 67, 23, 68, 33, 2, 67, 74, 15, 43, 33, 74, 2, 67, 2, 33, 2, 74, 23, 2, 74, 2, 33, 74, 67, 74, 2, 67, 2, 74, 68, 2, 33, 33, 9, 2, 67, 74, 2, 23, 40, 2, 46, 67, 74, 2, 68, 74, 2, 67, 68, 2, 23, 2, 40, 74, 2, 67, 74, 2, 24, 2, 68, 35, 74, 67, 74, 2, 1, 2, 68, 19, 74, 33, 67, 33, 68, 2, 67, 74, 2, 67, 2, 33, 59, 68, 2, 74, 31, 68, 67, 68, 67, 2, 74, 33, 74, 2, 68, 2, 67, 74, 23, 67, 74, 67, 7, 2, 33, 68, 2, 12, 74, 2, 74, 66, 2, 48, 2, 52, 74, 61, 2, 67, 74, 74, 74, 19, 47, 67, 33, 79, 68, 74, 33, 74, 33, 2, 74, 67, 2, 65, 74, 54, 2, 35, 71, 2, 74, 68, 41, 74, 74, 33, 33, 2, 74, 67, 68, 74, 2, 2, 74, 74, 2, 2, 74, 68, 74, 16, 33, 2, 67, 80, 74, 2, 35, 74, 1, 67, 2, 2, 74, 67, 68, 2, 74, 2, 74, 9, 2, 67, 74, 33, 21, 74, 74, 67, 54, 19, 74, 23, 2, 33, 33, 74, 34, 74, 2, 78, 68, 49, 68, 74, 2, 74, 74, 68, 74, 67, 2, 38, 68, 74, 12, 2, 74, 67, 11, 2, 74, 12, 74, 2, 2, 36, 74, 74, 41, 74, 74, 74, 67, 68, 2, 74, 74, 2, 38, 2, 39, 25, 2, 74, 2, 2, 67, 2, 74, 2, 2, 74, 67, 68, 67, 68, 74, 74, 23, 2, 74, 2, 74, 74, 74, 67, 2, 68, 74, 74, 35, 2, 68, 33, 74, 74, 57, 71, 2, 74, 68, 25, 74, 35, 74, 33, 68, 74, 2, 9, 68, 2, 74, 2, 67, 74, 67, 38, 74, 67, 33, 23, 74, 67, 2, 74, 67, 74, 33, 79, 67, 2, 2, 70, 74, 74, 2, 74, 67, 2, 74, 74, 74, 74, 67, 74, 74, 2, 68, 74, 74, 10, 33, 67, 74, 68, 74, 2, 2, 74, 74, 74, 2, 74, 74, 74, 2, 74, 2, 74, 67, 74, 67, 9, 12, 2, 66, 74, 74, 74, 68, 2, 74, 49, 1, 74, 67, 2, 74, 2, 74, 74, 2, 74, 74, 35, 74, 68, 74, 74, 2, 74, 18, 74, 2, 33, 74, 2, 2, 2, 74, 74, 41, 2, 19, 2, 32, 74, 2, 2, 74, 2, 74, 74, 74, 35, 74, 74, 67, 2, 74, 74, 38, 2, 68, 2, 74, 2, 2, 74, 25, 67, 74, 68, 2, 2, 2, 74, 2, 8, 2, 33, 33, 2, 74, 68, 68, 2, 68, 67, 2, 33, 8, 74, 2, 35, 76, 33, 2, 60, 62, 11, 19, 50, 1, 54, 59, 20, 13, 23, 43, 74, 9, 25, 68, 63, 47, 17, 45, 53, 3, 58, 14, 5, 67, 26, 55, 65, 29, 36, 73, 12, 79, 64], \"coloraxis\": \"coloraxis\"}, \"name\": \"\", \"type\": \"parcoords\"}],\n",
              "                        {\"coloraxis\": {\"cmid\": 2, \"colorbar\": {\"title\": {\"text\": \"show\"}}, \"colorscale\": [[0.0, \"rgb(0, 147, 146)\"], [0.16666666666666666, \"rgb(114, 170, 161)\"], [0.3333333333333333, \"rgb(177, 199, 179)\"], [0.5, \"rgb(241, 234, 200)\"], [0.6666666666666666, \"rgb(229, 185, 173)\"], [0.8333333333333334, \"rgb(217, 137, 148)\"], [1.0, \"rgb(208, 88, 126)\"]]}, \"legend\": {\"tracegroupgap\": 0}, \"margin\": {\"t\": 60}, \"template\": {\"data\": {\"bar\": [{\"error_x\": {\"color\": \"#2a3f5f\"}, \"error_y\": {\"color\": \"#2a3f5f\"}, \"marker\": {\"line\": {\"color\": \"#E5ECF6\", \"width\": 0.5}}, \"type\": \"bar\"}], \"barpolar\": [{\"marker\": {\"line\": {\"color\": \"#E5ECF6\", \"width\": 0.5}}, \"type\": \"barpolar\"}], \"carpet\": [{\"aaxis\": {\"endlinecolor\": \"#2a3f5f\", \"gridcolor\": \"white\", \"linecolor\": \"white\", \"minorgridcolor\": \"white\", \"startlinecolor\": \"#2a3f5f\"}, \"baxis\": {\"endlinecolor\": \"#2a3f5f\", \"gridcolor\": \"white\", \"linecolor\": \"white\", \"minorgridcolor\": \"white\", \"startlinecolor\": \"#2a3f5f\"}, \"type\": \"carpet\"}], \"choropleth\": [{\"colorbar\": {\"outlinewidth\": 0, \"ticks\": \"\"}, \"type\": \"choropleth\"}], \"contour\": [{\"colorbar\": {\"outlinewidth\": 0, \"ticks\": \"\"}, \"colorscale\": [[0.0, \"#0d0887\"], [0.1111111111111111, \"#46039f\"], [0.2222222222222222, \"#7201a8\"], [0.3333333333333333, \"#9c179e\"], [0.4444444444444444, \"#bd3786\"], [0.5555555555555556, \"#d8576b\"], [0.6666666666666666, \"#ed7953\"], [0.7777777777777778, \"#fb9f3a\"], [0.8888888888888888, \"#fdca26\"], [1.0, \"#f0f921\"]], \"type\": \"contour\"}], \"contourcarpet\": [{\"colorbar\": {\"outlinewidth\": 0, \"ticks\": \"\"}, \"type\": \"contourcarpet\"}], \"heatmap\": [{\"colorbar\": {\"outlinewidth\": 0, \"ticks\": \"\"}, \"colorscale\": [[0.0, \"#0d0887\"], [0.1111111111111111, \"#46039f\"], [0.2222222222222222, \"#7201a8\"], [0.3333333333333333, \"#9c179e\"], [0.4444444444444444, \"#bd3786\"], [0.5555555555555556, \"#d8576b\"], [0.6666666666666666, \"#ed7953\"], [0.7777777777777778, \"#fb9f3a\"], [0.8888888888888888, \"#fdca26\"], [1.0, \"#f0f921\"]], \"type\": \"heatmap\"}], \"heatmapgl\": [{\"colorbar\": {\"outlinewidth\": 0, \"ticks\": \"\"}, \"colorscale\": [[0.0, \"#0d0887\"], [0.1111111111111111, \"#46039f\"], [0.2222222222222222, \"#7201a8\"], [0.3333333333333333, \"#9c179e\"], [0.4444444444444444, \"#bd3786\"], [0.5555555555555556, \"#d8576b\"], [0.6666666666666666, \"#ed7953\"], [0.7777777777777778, \"#fb9f3a\"], [0.8888888888888888, \"#fdca26\"], [1.0, \"#f0f921\"]], \"type\": \"heatmapgl\"}], \"histogram\": [{\"marker\": {\"colorbar\": {\"outlinewidth\": 0, \"ticks\": \"\"}}, \"type\": \"histogram\"}], \"histogram2d\": [{\"colorbar\": {\"outlinewidth\": 0, \"ticks\": \"\"}, \"colorscale\": [[0.0, \"#0d0887\"], [0.1111111111111111, \"#46039f\"], [0.2222222222222222, \"#7201a8\"], [0.3333333333333333, \"#9c179e\"], [0.4444444444444444, \"#bd3786\"], [0.5555555555555556, \"#d8576b\"], [0.6666666666666666, \"#ed7953\"], [0.7777777777777778, \"#fb9f3a\"], [0.8888888888888888, \"#fdca26\"], [1.0, \"#f0f921\"]], \"type\": \"histogram2d\"}], \"histogram2dcontour\": [{\"colorbar\": {\"outlinewidth\": 0, \"ticks\": \"\"}, \"colorscale\": [[0.0, \"#0d0887\"], [0.1111111111111111, \"#46039f\"], [0.2222222222222222, \"#7201a8\"], [0.3333333333333333, \"#9c179e\"], [0.4444444444444444, \"#bd3786\"], [0.5555555555555556, \"#d8576b\"], [0.6666666666666666, \"#ed7953\"], [0.7777777777777778, \"#fb9f3a\"], [0.8888888888888888, \"#fdca26\"], [1.0, \"#f0f921\"]], \"type\": \"histogram2dcontour\"}], \"mesh3d\": [{\"colorbar\": {\"outlinewidth\": 0, \"ticks\": \"\"}, \"type\": \"mesh3d\"}], \"parcoords\": [{\"line\": {\"colorbar\": {\"outlinewidth\": 0, \"ticks\": \"\"}}, \"type\": \"parcoords\"}], \"pie\": [{\"automargin\": true, \"type\": \"pie\"}], \"scatter\": [{\"marker\": {\"colorbar\": {\"outlinewidth\": 0, \"ticks\": \"\"}}, \"type\": \"scatter\"}], \"scatter3d\": [{\"line\": {\"colorbar\": {\"outlinewidth\": 0, \"ticks\": \"\"}}, \"marker\": {\"colorbar\": {\"outlinewidth\": 0, \"ticks\": \"\"}}, \"type\": \"scatter3d\"}], \"scattercarpet\": [{\"marker\": {\"colorbar\": {\"outlinewidth\": 0, \"ticks\": \"\"}}, \"type\": \"scattercarpet\"}], \"scattergeo\": [{\"marker\": {\"colorbar\": {\"outlinewidth\": 0, \"ticks\": \"\"}}, \"type\": \"scattergeo\"}], \"scattergl\": [{\"marker\": {\"colorbar\": {\"outlinewidth\": 0, \"ticks\": \"\"}}, \"type\": \"scattergl\"}], \"scattermapbox\": [{\"marker\": {\"colorbar\": {\"outlinewidth\": 0, \"ticks\": \"\"}}, \"type\": \"scattermapbox\"}], \"scatterpolar\": [{\"marker\": {\"colorbar\": {\"outlinewidth\": 0, \"ticks\": \"\"}}, \"type\": \"scatterpolar\"}], \"scatterpolargl\": [{\"marker\": {\"colorbar\": {\"outlinewidth\": 0, \"ticks\": \"\"}}, \"type\": \"scatterpolargl\"}], \"scatterternary\": [{\"marker\": {\"colorbar\": {\"outlinewidth\": 0, \"ticks\": \"\"}}, \"type\": \"scatterternary\"}], \"surface\": [{\"colorbar\": {\"outlinewidth\": 0, \"ticks\": \"\"}, \"colorscale\": [[0.0, \"#0d0887\"], [0.1111111111111111, \"#46039f\"], [0.2222222222222222, \"#7201a8\"], [0.3333333333333333, \"#9c179e\"], [0.4444444444444444, \"#bd3786\"], [0.5555555555555556, \"#d8576b\"], [0.6666666666666666, \"#ed7953\"], [0.7777777777777778, \"#fb9f3a\"], [0.8888888888888888, \"#fdca26\"], [1.0, \"#f0f921\"]], \"type\": \"surface\"}], \"table\": [{\"cells\": {\"fill\": {\"color\": \"#EBF0F8\"}, \"line\": {\"color\": \"white\"}}, \"header\": {\"fill\": {\"color\": \"#C8D4E3\"}, \"line\": {\"color\": \"white\"}}, \"type\": \"table\"}]}, \"layout\": {\"annotationdefaults\": {\"arrowcolor\": \"#2a3f5f\", \"arrowhead\": 0, \"arrowwidth\": 1}, \"coloraxis\": {\"colorbar\": {\"outlinewidth\": 0, \"ticks\": \"\"}}, \"colorscale\": {\"diverging\": [[0, \"#8e0152\"], [0.1, \"#c51b7d\"], [0.2, \"#de77ae\"], [0.3, \"#f1b6da\"], [0.4, \"#fde0ef\"], [0.5, \"#f7f7f7\"], [0.6, \"#e6f5d0\"], [0.7, \"#b8e186\"], [0.8, \"#7fbc41\"], [0.9, \"#4d9221\"], [1, \"#276419\"]], \"sequential\": [[0.0, \"#0d0887\"], [0.1111111111111111, \"#46039f\"], [0.2222222222222222, \"#7201a8\"], [0.3333333333333333, \"#9c179e\"], [0.4444444444444444, \"#bd3786\"], [0.5555555555555556, \"#d8576b\"], [0.6666666666666666, \"#ed7953\"], [0.7777777777777778, \"#fb9f3a\"], [0.8888888888888888, \"#fdca26\"], [1.0, \"#f0f921\"]], \"sequentialminus\": [[0.0, \"#0d0887\"], [0.1111111111111111, \"#46039f\"], [0.2222222222222222, \"#7201a8\"], [0.3333333333333333, \"#9c179e\"], [0.4444444444444444, \"#bd3786\"], [0.5555555555555556, \"#d8576b\"], [0.6666666666666666, \"#ed7953\"], [0.7777777777777778, \"#fb9f3a\"], [0.8888888888888888, \"#fdca26\"], [1.0, \"#f0f921\"]]}, \"colorway\": [\"#636efa\", \"#EF553B\", \"#00cc96\", \"#ab63fa\", \"#FFA15A\", \"#19d3f3\", \"#FF6692\", \"#B6E880\", \"#FF97FF\", \"#FECB52\"], \"font\": {\"color\": \"#2a3f5f\"}, \"geo\": {\"bgcolor\": \"white\", \"lakecolor\": \"white\", \"landcolor\": \"#E5ECF6\", \"showlakes\": true, \"showland\": true, \"subunitcolor\": \"white\"}, \"hoverlabel\": {\"align\": \"left\"}, \"hovermode\": \"closest\", \"mapbox\": {\"style\": \"light\"}, \"paper_bgcolor\": \"white\", \"plot_bgcolor\": \"#E5ECF6\", \"polar\": {\"angularaxis\": {\"gridcolor\": \"white\", \"linecolor\": \"white\", \"ticks\": \"\"}, \"bgcolor\": \"#E5ECF6\", \"radialaxis\": {\"gridcolor\": \"white\", \"linecolor\": \"white\", \"ticks\": \"\"}}, \"scene\": {\"xaxis\": {\"backgroundcolor\": \"#E5ECF6\", \"gridcolor\": \"white\", \"gridwidth\": 2, \"linecolor\": \"white\", \"showbackground\": true, \"ticks\": \"\", \"zerolinecolor\": \"white\"}, \"yaxis\": {\"backgroundcolor\": \"#E5ECF6\", \"gridcolor\": \"white\", \"gridwidth\": 2, \"linecolor\": \"white\", \"showbackground\": true, \"ticks\": \"\", \"zerolinecolor\": \"white\"}, \"zaxis\": {\"backgroundcolor\": \"#E5ECF6\", \"gridcolor\": \"white\", \"gridwidth\": 2, \"linecolor\": \"white\", \"showbackground\": true, \"ticks\": \"\", \"zerolinecolor\": \"white\"}}, \"shapedefaults\": {\"line\": {\"color\": \"#2a3f5f\"}}, \"ternary\": {\"aaxis\": {\"gridcolor\": \"white\", \"linecolor\": \"white\", \"ticks\": \"\"}, \"baxis\": {\"gridcolor\": \"white\", \"linecolor\": \"white\", \"ticks\": \"\"}, \"bgcolor\": \"#E5ECF6\", \"caxis\": {\"gridcolor\": \"white\", \"linecolor\": \"white\", \"ticks\": \"\"}}, \"title\": {\"x\": 0.05}, \"xaxis\": {\"automargin\": true, \"gridcolor\": \"white\", \"linecolor\": \"white\", \"ticks\": \"\", \"title\": {\"standoff\": 15}, \"zerolinecolor\": \"white\", \"zerolinewidth\": 2}, \"yaxis\": {\"automargin\": true, \"gridcolor\": \"white\", \"linecolor\": \"white\", \"ticks\": \"\", \"title\": {\"standoff\": 15}, \"zerolinecolor\": \"white\", \"zerolinewidth\": 2}}}},\n",
              "                        {\"responsive\": true}\n",
              "                    ).then(function(){\n",
              "                            \n",
              "var gd = document.getElementById('7f6add4c-7e32-412d-8fac-5097a446c5c2');\n",
              "var x = new MutationObserver(function (mutations, observer) {{\n",
              "        var display = window.getComputedStyle(gd).display;\n",
              "        if (!display || display === 'none') {{\n",
              "            console.log([gd, 'removed!']);\n",
              "            Plotly.purge(gd);\n",
              "            observer.disconnect();\n",
              "        }}\n",
              "}});\n",
              "\n",
              "// Listen for the removal of the full notebook cells\n",
              "var notebookContainer = gd.closest('#notebook-container');\n",
              "if (notebookContainer) {{\n",
              "    x.observe(notebookContainer, {childList: true});\n",
              "}}\n",
              "\n",
              "// Listen for the clearing of the current output cell\n",
              "var outputEl = gd.closest('.output');\n",
              "if (outputEl) {{\n",
              "    x.observe(outputEl, {childList: true});\n",
              "}}\n",
              "\n",
              "                        })\n",
              "                };\n",
              "                \n",
              "            </script>\n",
              "        </div>\n",
              "</body>\n",
              "</html>"
            ]
          },
          "metadata": {
            "tags": []
          }
        }
      ]
    },
    {
      "cell_type": "code",
      "metadata": {
        "colab": {
          "base_uri": "https://localhost:8080/"
        },
        "id": "DPxTBbQOKTEf",
        "outputId": "c380971b-8766-47ae-b2a5-7dfdc71c98fd"
      },
      "source": [
        "#sorting the dataframe based on sentiment score \n",
        "\n",
        "df_data = df_data.sort_values('Sentiment_score', ascending=True) \n",
        "df_data.show.nunique()"
      ],
      "execution_count": null,
      "outputs": [
        {
          "output_type": "execute_result",
          "data": {
            "text/plain": [
              "81"
            ]
          },
          "metadata": {
            "tags": []
          },
          "execution_count": 44
        }
      ]
    },
    {
      "cell_type": "markdown",
      "metadata": {
        "id": "ru5FlI_yUZDk"
      },
      "source": [
        "The code below shows toal number of unique users and shows, minimum and maximum sentiment scores in the dataset and minimum and maximum IMDB ratings."
      ]
    },
    {
      "cell_type": "code",
      "metadata": {
        "colab": {
          "base_uri": "https://localhost:8080/"
        },
        "id": "QgFP1HkCKTEf",
        "outputId": "76e1f382-52f3-47c6-e9b6-8e4263e6ed4b"
      },
      "source": [
        "# min and max ratings will be used to normalize the ratings later\n",
        "min_rating = min(df_data[\"IMDB_rating\"])\n",
        "max_rating = max(df_data[\"IMDB_rating\"])\n",
        "\n",
        "min_senti_score = min(df_data[\"Sentiment_score\"])\n",
        "max_senti_score = max(df_data[\"Sentiment_score\"])\n",
        "\n",
        "n_users = len(df_data.user.unique())\n",
        "n_shows = len(df_data.show.unique())\n",
        "n_genre = len(df_data.genre_encoded.unique())\n",
        "print(\n",
        "    \"Number of users: {}, Number of Movies: {}, Min rating: {}, Max rating: {}, Min sentiment score: {}, Max sentiment score: {}, Number of unique Genres: {}\".format(\n",
        "        n_users, n_shows, min_rating, max_rating, min_senti_score, max_senti_score, n_genre\n",
        "    )\n",
        ")"
      ],
      "execution_count": null,
      "outputs": [
        {
          "output_type": "stream",
          "text": [
            "Number of users: 1414, Number of Movies: 81, Min rating: 3.3, Max rating: 8.7, Min sentiment score: 0.042, Max sentiment score: 1.0, Number of unique Genres: 4\n"
          ],
          "name": "stdout"
        }
      ]
    },
    {
      "cell_type": "markdown",
      "metadata": {
        "id": "ze4bobzZs60x"
      },
      "source": [
        "# Model Building\r\n",
        "Data preparation and model creation\r\n",
        "\r\n",
        "Data is split into test and train sets. 25% of data is taken for testing and 75% training. Target variable is Sentiment_score and dependent variables are user ids and show ids.\r\n"
      ]
    },
    {
      "cell_type": "code",
      "metadata": {
        "colab": {
          "base_uri": "https://localhost:8080/"
        },
        "id": "1My5-AlsKTEg",
        "outputId": "a4cb0620-f6d7-49b4-945b-29528a308b97"
      },
      "source": [
        "# Create testing and training datasets.\n",
        "\n",
        "df_data.sample(frac=1, random_state=42)\n",
        "\n",
        "#Normalize the IMDB ratings to the range 0 to 1\n",
        "df_data['rating'] = df_data[['IMDB_rating']].apply(lambda x: (x - min_rating) / (max_rating - min_rating)).values\n",
        "\n",
        "X = df_data[['show', 'user', 'rating', 'genre_encoded']].values\n",
        "y = df_data['Sentiment_score'].values\n",
        "\n",
        "#Split to test and train\n",
        "X_train, X_test, y_train, y_test = train_test_split(X, y, test_size=0.25, random_state=42)\n",
        "\n",
        "X_train.shape, X_test.shape, y_train.shape, y_test.shape\n"
      ],
      "execution_count": null,
      "outputs": [
        {
          "output_type": "execute_result",
          "data": {
            "text/plain": [
              "((1064, 4), (355, 4), (1064,), (355,))"
            ]
          },
          "metadata": {
            "tags": []
          },
          "execution_count": 46
        }
      ]
    },
    {
      "cell_type": "code",
      "metadata": {
        "id": "5deMLbfSKTEg"
      },
      "source": [
        "# Create numpy array of dependent variables (show ids and user ids)\n",
        "n_factors = 10\n",
        "\n",
        "X_train_array = [X_train[:, 0], X_train[:, 1]]\n",
        "X_test_array = [X_test[:, 0], X_test[:, 1]]\n"
      ],
      "execution_count": null,
      "outputs": []
    },
    {
      "cell_type": "code",
      "metadata": {
        "colab": {
          "base_uri": "https://localhost:8080/",
          "height": 294
        },
        "id": "BDa9v0CaKTEg",
        "outputId": "a59116d1-786e-4c19-cc75-82770e5fd008"
      },
      "source": [
        "#Describe the training dataset\n",
        "df_describe = pd.DataFrame(X_train)\n",
        "df_describe.describe()"
      ],
      "execution_count": null,
      "outputs": [
        {
          "output_type": "execute_result",
          "data": {
            "text/html": [
              "<div>\n",
              "<style scoped>\n",
              "    .dataframe tbody tr th:only-of-type {\n",
              "        vertical-align: middle;\n",
              "    }\n",
              "\n",
              "    .dataframe tbody tr th {\n",
              "        vertical-align: top;\n",
              "    }\n",
              "\n",
              "    .dataframe thead th {\n",
              "        text-align: right;\n",
              "    }\n",
              "</style>\n",
              "<table border=\"1\" class=\"dataframe\">\n",
              "  <thead>\n",
              "    <tr style=\"text-align: right;\">\n",
              "      <th></th>\n",
              "      <th>0</th>\n",
              "      <th>1</th>\n",
              "      <th>2</th>\n",
              "      <th>3</th>\n",
              "    </tr>\n",
              "  </thead>\n",
              "  <tbody>\n",
              "    <tr>\n",
              "      <th>count</th>\n",
              "      <td>1064.000000</td>\n",
              "      <td>1064.000000</td>\n",
              "      <td>1064.000000</td>\n",
              "      <td>1064.000000</td>\n",
              "    </tr>\n",
              "    <tr>\n",
              "      <th>mean</th>\n",
              "      <td>40.671992</td>\n",
              "      <td>696.062970</td>\n",
              "      <td>0.573326</td>\n",
              "      <td>1.343045</td>\n",
              "    </tr>\n",
              "    <tr>\n",
              "      <th>std</th>\n",
              "      <td>29.842839</td>\n",
              "      <td>408.674975</td>\n",
              "      <td>0.130322</td>\n",
              "      <td>1.387957</td>\n",
              "    </tr>\n",
              "    <tr>\n",
              "      <th>min</th>\n",
              "      <td>0.000000</td>\n",
              "      <td>0.000000</td>\n",
              "      <td>0.000000</td>\n",
              "      <td>0.000000</td>\n",
              "    </tr>\n",
              "    <tr>\n",
              "      <th>25%</th>\n",
              "      <td>2.000000</td>\n",
              "      <td>339.500000</td>\n",
              "      <td>0.518519</td>\n",
              "      <td>0.000000</td>\n",
              "    </tr>\n",
              "    <tr>\n",
              "      <th>50%</th>\n",
              "      <td>36.000000</td>\n",
              "      <td>681.500000</td>\n",
              "      <td>0.574074</td>\n",
              "      <td>0.000000</td>\n",
              "    </tr>\n",
              "    <tr>\n",
              "      <th>75%</th>\n",
              "      <td>68.000000</td>\n",
              "      <td>1041.250000</td>\n",
              "      <td>0.611111</td>\n",
              "      <td>3.000000</td>\n",
              "    </tr>\n",
              "    <tr>\n",
              "      <th>max</th>\n",
              "      <td>80.000000</td>\n",
              "      <td>1413.000000</td>\n",
              "      <td>1.000000</td>\n",
              "      <td>3.000000</td>\n",
              "    </tr>\n",
              "  </tbody>\n",
              "</table>\n",
              "</div>"
            ],
            "text/plain": [
              "                 0            1            2            3\n",
              "count  1064.000000  1064.000000  1064.000000  1064.000000\n",
              "mean     40.671992   696.062970     0.573326     1.343045\n",
              "std      29.842839   408.674975     0.130322     1.387957\n",
              "min       0.000000     0.000000     0.000000     0.000000\n",
              "25%       2.000000   339.500000     0.518519     0.000000\n",
              "50%      36.000000   681.500000     0.574074     0.000000\n",
              "75%      68.000000  1041.250000     0.611111     3.000000\n",
              "max      80.000000  1413.000000     1.000000     3.000000"
            ]
          },
          "metadata": {
            "tags": []
          },
          "execution_count": 48
        }
      ]
    },
    {
      "cell_type": "markdown",
      "metadata": {
        "id": "_dNV8MOcXkD2"
      },
      "source": [
        "Plot shows distribution of sentiment scores in the training data. It is clear from the plot that sentiment score of 1 that is highly postive scores are more in number compared to other scores. less postive scores such as 0, 0.2 are also present in significant amount. However, we couldn't find any negative sentiment scores."
      ]
    },
    {
      "cell_type": "code",
      "metadata": {
        "colab": {
          "base_uri": "https://localhost:8080/",
          "height": 447
        },
        "id": "kxpMW_6lKTEg",
        "outputId": "b7679283-a943-4ec0-80ba-632f27f055c4"
      },
      "source": [
        "# Graph to show the count of sentiment scores\n",
        "\n",
        "import seaborn as sns\n",
        "\n",
        "sns.set(style='whitegrid', palette=\"deep\", font_scale=1.1, rc={\"figure.figsize\": [8, 5]})\n",
        "sns.distplot(\n",
        "    y_train, norm_hist=False, kde=False, bins=20, hist_kws={\"alpha\": 1}\n",
        ").set(xlabel='Sentiment_score', ylabel='Count', title = 'Count of sentiment scores');"
      ],
      "execution_count": null,
      "outputs": [
        {
          "output_type": "stream",
          "text": [
            "/usr/local/lib/python3.6/dist-packages/seaborn/distributions.py:2551: FutureWarning:\n",
            "\n",
            "`distplot` is a deprecated function and will be removed in a future version. Please adapt your code to use either `displot` (a figure-level function with similar flexibility) or `histplot` (an axes-level function for histograms).\n",
            "\n"
          ],
          "name": "stderr"
        },
        {
          "output_type": "display_data",
          "data": {
            "image/png": "[encoded data removed]",
            "text/plain": [
              "<Figure size 576x360 with 1 Axes>"
            ]
          },
          "metadata": {
            "tags": []
          }
        }
      ]
    },
    {
      "cell_type": "markdown",
      "metadata": {
        "id": "WJ4a14CuYWda"
      },
      "source": [
        "Plot below shows the distribution of IMDB ratings in the dataset. Ratings are plotted after normalization and hence rangle is from 0 to 1 where 0 indicates poor rating and 1 indicates very high rating. we could find that most shows had an average rating and very less number of movies had very high rating."
      ]
    },
    {
      "cell_type": "code",
      "metadata": {
        "colab": {
          "base_uri": "https://localhost:8080/",
          "height": 447
        },
        "id": "xFrcoLrRKTEg",
        "outputId": "46d6c313-4684-42fe-c5ab-28e1a61d82ff"
      },
      "source": [
        "# Graph to show the count of IMDB_ratings\n",
        "\n",
        "sns.set(style='whitegrid', palette=\"deep\", font_scale=1.1, rc={\"figure.figsize\": [8, 5]})\n",
        "sns.distplot(\n",
        "     X_train[:, 2], norm_hist=False, kde=False, bins=20, hist_kws={\"alpha\": 1}\n",
        ").set(xlabel='IMDB_ratings', ylabel='Count', title=\"Count of IMDB ratings\");"
      ],
      "execution_count": null,
      "outputs": [
        {
          "output_type": "stream",
          "text": [
            "/usr/local/lib/python3.6/dist-packages/seaborn/distributions.py:2551: FutureWarning:\n",
            "\n",
            "`distplot` is a deprecated function and will be removed in a future version. Please adapt your code to use either `displot` (a figure-level function with similar flexibility) or `histplot` (an axes-level function for histograms).\n",
            "\n"
          ],
          "name": "stderr"
        },
        {
          "output_type": "display_data",
          "data": {
            "image/png": "[encoded data removed]",
            "text/plain": [
              "<Figure size 576x360 with 1 Axes>"
            ]
          },
          "metadata": {
            "tags": []
          }
        }
      ]
    },
    {
      "cell_type": "markdown",
      "metadata": {
        "id": "aIC-W2okZEQh"
      },
      "source": [
        "Plot shows distribution of four genres in the dataset. Most movies are of the genre Action and there are very small number of movies in comedy genre."
      ]
    },
    {
      "cell_type": "code",
      "metadata": {
        "colab": {
          "base_uri": "https://localhost:8080/",
          "height": 443
        },
        "id": "yWimZfMcKTEg",
        "outputId": "65ee2fec-b586-4067-e517-10ae7d82278c"
      },
      "source": [
        "# Graph to show the count of each Genre\n",
        "\n",
        "sns.countplot(X_train[:, 3]);\n",
        "plt.title(\"Count Genres in train data\", fontsize = 10)\n",
        "plt.xlabel(\"Genre: 0-Action, 1-Comedy, 2-Horror, 3-Romance\", fontsize = 10)\n",
        "plt.ylabel(\"Count\", fontsize = 10)\n",
        "plt.show()"
      ],
      "execution_count": null,
      "outputs": [
        {
          "output_type": "stream",
          "text": [
            "/usr/local/lib/python3.6/dist-packages/seaborn/_decorators.py:43: FutureWarning:\n",
            "\n",
            "Pass the following variable as a keyword arg: x. From version 0.12, the only valid positional argument will be `data`, and passing other arguments without an explicit keyword will result in an error or misinterpretation.\n",
            "\n"
          ],
          "name": "stderr"
        },
        {
          "output_type": "display_data",
          "data": {
            "image/png": "[encoded data removed]",
            "text/plain": [
              "<Figure size 576x360 with 1 Axes>"
            ]
          },
          "metadata": {
            "tags": []
          }
        }
      ]
    },
    {
      "cell_type": "markdown",
      "metadata": {
        "id": "KgylPQR4aIF4"
      },
      "source": [
        "Sentiment scores are discretized into 3 bins using Kbindiscretizer. This helps to reduce fluctuations in the data and to improve model performance. The bins are then visualized to check the count."
      ]
    },
    {
      "cell_type": "code",
      "metadata": {
        "colab": {
          "base_uri": "https://localhost:8080/",
          "height": 447
        },
        "id": "EgPwupssKTEg",
        "outputId": "83b0fd73-6c85-4137-a7a7-e4d86cbde86a"
      },
      "source": [
        "#Discretizing the target variable into 3 bins\n",
        "\n",
        "from sklearn.preprocessing import KBinsDiscretizer\n",
        "\n",
        "kbins = KBinsDiscretizer(n_bins=3, encode='ordinal', strategy='uniform')\n",
        "y_train = y_train.reshape(-1,1)\n",
        "data_trans = kbins.fit_transform(y_train)\n",
        "\n",
        "kbins = KBinsDiscretizer(n_bins=3, encode='ordinal', strategy='uniform')\n",
        "y_test = y_test.reshape(-1,1)\n",
        "data_trans_test = kbins.fit_transform(y_test)\n",
        "\n",
        "sns.set(style='whitegrid', palette=\"deep\", font_scale=1.1, rc={\"figure.figsize\": [8, 5]})\n",
        "sns.distplot(\n",
        "    data_trans, norm_hist=False, kde=False, bins=20, hist_kws={\"alpha\": 1}\n",
        ").set(xlabel='Bin classes', ylabel='Count', title=\"Count of bins (sentiment_scores)\");"
      ],
      "execution_count": null,
      "outputs": [
        {
          "output_type": "stream",
          "text": [
            "/usr/local/lib/python3.6/dist-packages/seaborn/distributions.py:2551: FutureWarning:\n",
            "\n",
            "`distplot` is a deprecated function and will be removed in a future version. Please adapt your code to use either `displot` (a figure-level function with similar flexibility) or `histplot` (an axes-level function for histograms).\n",
            "\n"
          ],
          "name": "stderr"
        },
        {
          "output_type": "display_data",
          "data": {
            "image/png": "[encoded data removed]",
            "text/plain": [
              "<Figure size 576x360 with 1 Axes>"
            ]
          },
          "metadata": {
            "tags": []
          }
        }
      ]
    },
    {
      "cell_type": "markdown",
      "metadata": {
        "id": "e1-GH1WtndJd"
      },
      "source": [
        "## **Single Layer Model**\r\n",
        "\r\n",
        "\r\n",
        "First we build a single layer fully connected model with dropout of 50%. Show ids and user ids are embedded to create vectors. The show vector and user vector are multiplied to create user-item interaction matrix. Model is then compiled and evaluated."
      ]
    },
    {
      "cell_type": "code",
      "metadata": {
        "id": "v6X6FeorKTEj"
      },
      "source": [
        "#Single Layer Model\n",
        "\n",
        "def get_model_1(n_shows, n_users):\n",
        "    dim_embedddings = 30\n",
        "    bias = 3\n",
        "    # inputs\n",
        "    s_inputs = Input(shape=(1,), dtype='int32')\n",
        "    show = Embedding(n_shows+1, dim_embedddings, name=\"show\")(s_inputs)\n",
        "\n",
        "    # context\n",
        "    u_inputs = Input(shape=(1,), dtype='int32')\n",
        "    user = Embedding(n_users+1, dim_embedddings, name=\"user\")(u_inputs)\n",
        "    o = multiply([show, user])\n",
        "    o = Dropout(0.5)(o)\n",
        "    o = Flatten()(o)\n",
        "    o = Dense(1)(o)\n",
        "\n",
        "    rec_model = Model(inputs=[s_inputs, u_inputs], outputs=o)\n",
        "    #rec_model.summary()\n",
        "    rec_model.compile(loss='mse', optimizer='adam', metrics=[\"mse\", \"accuracy\"])\n",
        "\n",
        "    return rec_model"
      ],
      "execution_count": null,
      "outputs": []
    },
    {
      "cell_type": "code",
      "metadata": {
        "id": "yMRG-s8hKTEj",
        "colab": {
          "base_uri": "https://localhost:8080/"
        },
        "outputId": "a6087eb5-9926-404d-c009-3b125dd7c708"
      },
      "source": [
        "# Fitting of the data and predicting test data\n",
        "\n",
        "from sklearn.metrics import mean_absolute_error\n",
        "from keras.layers.merge import Dot, multiply, concatenate\n",
        "\n",
        "model = get_model_1(n_shows, n_users)\n",
        "\n",
        "history = model.fit([X_train[:, 0], X_train[:, 1]], data_trans, epochs=10,\n",
        "                    validation_split=0.2, verbose=1)\n",
        "\n",
        "\n",
        "predictions = model.predict([X_test[:, 0], X_test[:, 1]])\n",
        "\n",
        "test_performance = mean_absolute_error(data_trans_test, predictions)\n",
        "\n",
        "print(\" Test Mse model 1 : %s \" % test_performance)"
      ],
      "execution_count": null,
      "outputs": [
        {
          "output_type": "stream",
          "text": [
            "Epoch 1/10\n",
            "27/27 [==============================] - 1s 9ms/step - loss: 0.9615 - mse: 0.9615 - accuracy: 0.6528 - val_loss: 0.9982 - val_mse: 0.9982 - val_accuracy: 0.6338\n",
            "Epoch 2/10\n",
            "27/27 [==============================] - 0s 3ms/step - loss: 0.9297 - mse: 0.9297 - accuracy: 0.6566 - val_loss: 0.9702 - val_mse: 0.9702 - val_accuracy: 0.6338\n",
            "Epoch 3/10\n",
            "27/27 [==============================] - 0s 3ms/step - loss: 0.9298 - mse: 0.9298 - accuracy: 0.6476 - val_loss: 0.9442 - val_mse: 0.9442 - val_accuracy: 0.6338\n",
            "Epoch 4/10\n",
            "27/27 [==============================] - 0s 3ms/step - loss: 0.9261 - mse: 0.9261 - accuracy: 0.6511 - val_loss: 0.9204 - val_mse: 0.9204 - val_accuracy: 0.6338\n",
            "Epoch 5/10\n",
            "27/27 [==============================] - 0s 3ms/step - loss: 0.9595 - mse: 0.9595 - accuracy: 0.6274 - val_loss: 0.8979 - val_mse: 0.8979 - val_accuracy: 0.6338\n",
            "Epoch 6/10\n",
            "27/27 [==============================] - 0s 3ms/step - loss: 0.8667 - mse: 0.8667 - accuracy: 0.6606 - val_loss: 0.8776 - val_mse: 0.8776 - val_accuracy: 0.6338\n",
            "Epoch 7/10\n",
            "27/27 [==============================] - 0s 3ms/step - loss: 0.7461 - mse: 0.7461 - accuracy: 0.6801 - val_loss: 0.8592 - val_mse: 0.8592 - val_accuracy: 0.6338\n",
            "Epoch 8/10\n",
            "27/27 [==============================] - 0s 3ms/step - loss: 0.7413 - mse: 0.7413 - accuracy: 0.6790 - val_loss: 0.8414 - val_mse: 0.8414 - val_accuracy: 0.6338\n",
            "Epoch 9/10\n",
            "27/27 [==============================] - 0s 3ms/step - loss: 0.7550 - mse: 0.7550 - accuracy: 0.6544 - val_loss: 0.8250 - val_mse: 0.8250 - val_accuracy: 0.6338\n",
            "Epoch 10/10\n",
            "27/27 [==============================] - 0s 3ms/step - loss: 0.7164 - mse: 0.7164 - accuracy: 0.6485 - val_loss: 0.8096 - val_mse: 0.8096 - val_accuracy: 0.6338\n",
            " Test Mse model 1 : 0.6372242530047054 \n"
          ],
          "name": "stdout"
        }
      ]
    },
    {
      "cell_type": "markdown",
      "metadata": {
        "id": "SFI70uIkpuDu"
      },
      "source": [
        "**Evaluation of Single Layer Model**\r\n",
        "\r\n",
        "Evaluation of model is done with the test data\r\n",
        "\r\n",
        "*   List item\r\n",
        "*   List item\r\n",
        "\r\n",
        "\r\n",
        "\r\n",
        "Test loss (MSE) =\r\n",
        "Test accuracy ="
      ]
    },
    {
      "cell_type": "code",
      "metadata": {
        "colab": {
          "base_uri": "https://localhost:8080/"
        },
        "id": "pflfSwz9xcFi",
        "outputId": "90ceef2f-9df8-4bab-fbe3-6c289c2c7369"
      },
      "source": [
        "# Final evaluation of the model\r\n",
        "\r\n",
        "scores = model.evaluate(X_test_array, data_trans_test,  verbose=1) # testing data\r\n",
        "scores"
      ],
      "execution_count": null,
      "outputs": [
        {
          "output_type": "stream",
          "text": [
            "12/12 [==============================] - 0s 1ms/step - loss: 0.7923 - mse: 0.7923 - accuracy: 0.6507\n"
          ],
          "name": "stdout"
        },
        {
          "output_type": "execute_result",
          "data": {
            "text/plain": [
              "[0.7922865152359009, 0.7922866344451904, 0.6507042050361633]"
            ]
          },
          "metadata": {
            "tags": []
          },
          "execution_count": 215
        }
      ]
    },
    {
      "cell_type": "code",
      "metadata": {
        "id": "_IeKFk-6KTEj",
        "colab": {
          "base_uri": "https://localhost:8080/",
          "height": 358
        },
        "outputId": "64d28136-be6d-41b3-f8e8-bcfc4a4fad7c"
      },
      "source": [
        "# Plot to show model loss\n",
        "\n",
        "plt.plot(history.history[\"loss\"])\n",
        "plt.plot(history.history[\"val_loss\"])\n",
        "plt.title(\"model loss\")\n",
        "plt.ylabel(\"loss (mse)\")\n",
        "plt.xlabel(\"epoch\")\n",
        "plt.legend([\"train\", \"test\"], loc=\"upper left\")\n",
        "plt.show()"
      ],
      "execution_count": null,
      "outputs": [
        {
          "output_type": "display_data",
          "data": {
            "image/png": "[encoded data removed]",
            "text/plain": [
              "<Figure size 576x360 with 1 Axes>"
            ]
          },
          "metadata": {
            "tags": []
          }
        }
      ]
    },
    {
      "cell_type": "markdown",
      "metadata": {
        "id": "-H4nT0qCpL1X"
      },
      "source": [
        "Next, we build a single layer fully connected model with bias and compiled with loss function MSE and evaluated using metrics MSE and accuarcy."
      ]
    },
    {
      "cell_type": "code",
      "metadata": {
        "id": "ZiOkIhgEKTEk"
      },
      "source": [
        "# Single layer model with bias \n",
        "\n",
        "def get_model_2(n_shows, n_users):\n",
        "    dim_embedddings = 30\n",
        "    bias = 1\n",
        "    # inputs\n",
        "    s_inputs = Input(shape=(1,), dtype='int32')\n",
        "    s = Embedding(n_shows+1, dim_embedddings, name=\"show\")(s_inputs)\n",
        "    s_bis = Embedding(n_shows + 1, bias, name=\"showbias\")(s_inputs)\n",
        "\n",
        "    # context\n",
        "    u_inputs = Input(shape=(1,), dtype='int32')\n",
        "    u = Embedding(n_users+1, dim_embedddings, name=\"user\")(u_inputs)\n",
        "    u_bis = Embedding(n_users + 1, bias, name=\"userbias\")(u_inputs)\n",
        "    o = multiply([s, u])\n",
        "    o = concatenate([o, u_bis, s_bis])\n",
        "    o = Dropout(0.5)(o)\n",
        "    o = Flatten()(o)\n",
        "    o = Dense(1)(o)\n",
        "\n",
        "    rec_model = Model(inputs=[s_inputs, u_inputs], outputs=o)\n",
        "    #rec_model.summary()\n",
        "    rec_model.compile(loss='mae', optimizer='adam', metrics=[\"mae\", \"accuracy\"])\n",
        "\n",
        "    return rec_model"
      ],
      "execution_count": null,
      "outputs": []
    },
    {
      "cell_type": "code",
      "metadata": {
        "id": "iA1NgZmxKTEk",
        "colab": {
          "base_uri": "https://localhost:8080/"
        },
        "outputId": "44ced43f-8863-4c4c-8ab8-8c894f4f52e1"
      },
      "source": [
        "# Fitting of the data and making prediction\n",
        "\n",
        "from sklearn.metrics import mean_absolute_error\n",
        "from keras.layers.merge import Dot, multiply, concatenate\n",
        "\n",
        "model = get_model_2(n_shows, n_users)\n",
        "\n",
        "history = model.fit([X_train[:, 0], X_train[:, 1]], data_trans, epochs=10,\n",
        "                    validation_split=0.2, verbose=1)\n",
        "\n",
        "#model.save_weights(\"model_1.h5\")\n",
        "\n",
        "predictions = model.predict([X_test[:, 0], X_test[:, 1]])\n",
        "\n",
        "test_performance = mean_absolute_error(data_trans_test, predictions)\n",
        "\n",
        "print(\" Test Mae model 2 : %s \" % test_performance)"
      ],
      "execution_count": null,
      "outputs": [
        {
          "output_type": "stream",
          "text": [
            "Epoch 1/10\n",
            "27/27 [==============================] - 1s 9ms/step - loss: 0.5326 - mae: 0.5326 - accuracy: 0.6725 - val_loss: 0.5892 - val_mae: 0.5892 - val_accuracy: 0.6338\n",
            "Epoch 2/10\n",
            "27/27 [==============================] - 0s 3ms/step - loss: 0.5358 - mae: 0.5358 - accuracy: 0.6664 - val_loss: 0.5881 - val_mae: 0.5881 - val_accuracy: 0.6338\n",
            "Epoch 3/10\n",
            "27/27 [==============================] - 0s 3ms/step - loss: 0.5451 - mae: 0.5451 - accuracy: 0.6606 - val_loss: 0.5877 - val_mae: 0.5877 - val_accuracy: 0.6338\n",
            "Epoch 4/10\n",
            "27/27 [==============================] - 0s 3ms/step - loss: 0.5418 - mae: 0.5418 - accuracy: 0.6617 - val_loss: 0.5876 - val_mae: 0.5876 - val_accuracy: 0.6338\n",
            "Epoch 5/10\n",
            "27/27 [==============================] - 0s 14ms/step - loss: 0.5038 - mae: 0.5038 - accuracy: 0.6837 - val_loss: 0.5874 - val_mae: 0.5874 - val_accuracy: 0.6338\n",
            "Epoch 6/10\n",
            "27/27 [==============================] - 0s 4ms/step - loss: 0.5111 - mae: 0.5111 - accuracy: 0.6816 - val_loss: 0.5876 - val_mae: 0.5876 - val_accuracy: 0.6338\n",
            "Epoch 7/10\n",
            "27/27 [==============================] - 0s 3ms/step - loss: 0.5531 - mae: 0.5531 - accuracy: 0.6588 - val_loss: 0.5882 - val_mae: 0.5882 - val_accuracy: 0.6338\n",
            "Epoch 8/10\n",
            "27/27 [==============================] - 0s 3ms/step - loss: 0.5299 - mae: 0.5299 - accuracy: 0.6602 - val_loss: 0.5889 - val_mae: 0.5889 - val_accuracy: 0.6338\n",
            "Epoch 9/10\n",
            "27/27 [==============================] - 0s 3ms/step - loss: 0.4907 - mae: 0.4907 - accuracy: 0.6784 - val_loss: 0.5907 - val_mae: 0.5907 - val_accuracy: 0.6338\n",
            "Epoch 10/10\n",
            "27/27 [==============================] - 0s 3ms/step - loss: 0.5121 - mae: 0.5121 - accuracy: 0.6789 - val_loss: 0.5926 - val_mae: 0.5926 - val_accuracy: 0.6338\n",
            " Test Mae model 2 : 0.5732368406380566 \n"
          ],
          "name": "stdout"
        }
      ]
    },
    {
      "cell_type": "markdown",
      "metadata": {
        "id": "znpJ6NLQp8nK"
      },
      "source": [
        "Evaluation of model is done with the test data\r\n",
        "\r\n",
        "\r\n",
        "*   Test loss (MSE) \r\n",
        "*   Test accuracy \r\n",
        "\r\n"
      ]
    },
    {
      "cell_type": "code",
      "metadata": {
        "colab": {
          "base_uri": "https://localhost:8080/"
        },
        "id": "vqC0jzZRp8nM",
        "outputId": "415607f2-0846-4224-c295-1635cbfea022"
      },
      "source": [
        "# Final evaluation of the single layer model\r\n",
        "\r\n",
        "scores = model.evaluate(X_test_array, data_trans_test,  verbose=1) # testing data\r\n",
        "scores"
      ],
      "execution_count": null,
      "outputs": [
        {
          "output_type": "stream",
          "text": [
            "12/12 [==============================] - 0s 1ms/step - loss: 0.5732 - mae: 0.5732 - accuracy: 0.6507\n"
          ],
          "name": "stdout"
        },
        {
          "output_type": "execute_result",
          "data": {
            "text/plain": [
              "[0.573236882686615, 0.573236882686615, 0.6507042050361633]"
            ]
          },
          "metadata": {
            "tags": []
          },
          "execution_count": 219
        }
      ]
    },
    {
      "cell_type": "code",
      "metadata": {
        "id": "45afI22VKTEk",
        "colab": {
          "base_uri": "https://localhost:8080/",
          "height": 358
        },
        "outputId": "367faba1-304d-430f-c38e-145057f69a54"
      },
      "source": [
        "# Plot to show model loss\n",
        "\n",
        "plt.plot(history.history[\"loss\"])\n",
        "plt.plot(history.history[\"val_loss\"])\n",
        "plt.title(\"Single layer model loss with bias\")\n",
        "plt.ylabel(\"loss\")\n",
        "plt.xlabel(\"epoch\")\n",
        "plt.legend([\"train\", \"test\"], loc=\"upper left\")\n",
        "plt.show()"
      ],
      "execution_count": null,
      "outputs": [
        {
          "output_type": "display_data",
          "data": {
            "image/png": "[encoded data removed]",
            "text/plain": [
              "<Figure size 576x360 with 1 Axes>"
            ]
          },
          "metadata": {
            "tags": []
          }
        }
      ]
    },
    {
      "cell_type": "markdown",
      "metadata": {
        "id": "0Bt1NjWbQmAF"
      },
      "source": [
        "From the above evaluation, we can see that there is no change in performance after adding bias and activation function hence we have improved the model by adding more layers to it and making it a multi layer model for getting more accurate predictions. \r\n",
        "\r\n"
      ]
    },
    {
      "cell_type": "markdown",
      "metadata": {
        "id": "x7fayYeoeL6V"
      },
      "source": [
        "## **Multi Layer Perceptron Model**\r\n",
        "\r\n",
        "Following codes are for creating a deep learning MLP model using keras. Show ids and user ids are vectorized by embedding with an embedding size of 10. The embedded vectors are then concatenated and fed into the model"
      ]
    },
    {
      "cell_type": "code",
      "metadata": {
        "id": "TrpnaxflKTEg"
      },
      "source": [
        "#Model building using keras\n",
        "\n",
        "embedding_size = 30\n",
        "\n",
        "# Both inputs are 1-dimensional\n",
        "show = Input(name = 'show_id', shape = [1])\n",
        "user = Input(name = 'user', shape = [1])\n",
        "genre = Input(name = 'genre_encoded', shape = [1])\n",
        "    \n",
        "    \n",
        "# Embedding show (shape will be (None, 1, 10))\n",
        "show_embedding = Embedding(name = 'show_embedding',\n",
        "                               input_dim = n_shows + 1,\n",
        "                               output_dim = embedding_size)(show)\n",
        "flatten_s = keras.layers.Flatten()(show_embedding)\n",
        "   \n",
        "# Embedding user (shape will be (None, 1, 10))\n",
        "user_embedding = Embedding(name = 'user_embedding',\n",
        "                               input_dim = n_users + 1,\n",
        "                               output_dim = embedding_size)(user)\n",
        "flatten_u = keras.layers.Flatten()(user_embedding)\n",
        "\n",
        "#genre_embedding = Embedding(name = 'genre_embedding',\n",
        "                              # input_dim = n_genre + 1,\n",
        "                              # output_dim = 2)(genre)\n",
        "#flatten_g = keras.layers.Flatten()(genre_embedding)\n",
        "\n",
        "\n",
        "#continuous_input = Input(name = 'rating', shape=(1, ), dtype='float32')\n",
        "#continuous_input = keras.layers.Input(shape=(l,))\n",
        "\n",
        "\n",
        "# Concatenate embedding inputs\n",
        "concat = keras.layers.multiply([flatten_s, flatten_u])\n",
        "\n"
      ],
      "execution_count": null,
      "outputs": []
    },
    {
      "cell_type": "markdown",
      "metadata": {
        "id": "D5NwfjeiiM89"
      },
      "source": [
        "Here we are defining the MLP model with 4 neurons each on 2 dense layers. Dropout of 40 % is added to reduce overfitting. Rectilinear activation function is used. Optimizer user id Adam optimizer and model is compiled with loss function of MSE and metrics analyzed are MSE and accuracy."
      ]
    },
    {
      "cell_type": "code",
      "metadata": {
        "id": "VkN5XUiEKTEg"
      },
      "source": [
        "# Define the model\n",
        "from keras.optimizers import Adam\n",
        "\n",
        "units=4\n",
        "dense1 = Dense(units=units, activation='relu')(concat)\n",
        "dense1 = Dropout(0.4)(concat) # adding droup out layer\n",
        "dense2 = Dense(4, activation='relu')(dense1) # adding activation function to dense \n",
        "dense2 = Dropout(0.4)(dense1)\n",
        "predictions = Dense(1)(dense1) # output layer\n",
        "\n",
        "model_mlp = Model(inputs=[show, user], outputs=predictions)\n",
        "opt = Adam(lr=0.001)\n"
      ],
      "execution_count": null,
      "outputs": []
    },
    {
      "cell_type": "code",
      "metadata": {
        "id": "0Oo-7IVgFu2F",
        "colab": {
          "base_uri": "https://localhost:8080/"
        },
        "outputId": "e609c6c2-06eb-4a80-8fa1-ce79370def89"
      },
      "source": [
        "# Compile the model\r\n",
        "model_mlp.compile(loss='mean_squared_error', optimizer=opt, metrics = ['mse', 'accuracy'] )\r\n",
        "model_mlp.summary()"
      ],
      "execution_count": null,
      "outputs": [
        {
          "output_type": "stream",
          "text": [
            "Model: \"model_17\"\n",
            "__________________________________________________________________________________________________\n",
            "Layer (type)                    Output Shape         Param #     Connected to                     \n",
            "==================================================================================================\n",
            "show_id (InputLayer)            [(None, 1)]          0                                            \n",
            "__________________________________________________________________________________________________\n",
            "user (InputLayer)               [(None, 1)]          0                                            \n",
            "__________________________________________________________________________________________________\n",
            "show_embedding (Embedding)      (None, 1, 30)        2460        show_id[0][0]                    \n",
            "__________________________________________________________________________________________________\n",
            "user_embedding (Embedding)      (None, 1, 30)        42450       user[0][0]                       \n",
            "__________________________________________________________________________________________________\n",
            "flatten_25 (Flatten)            (None, 30)           0           show_embedding[0][0]             \n",
            "__________________________________________________________________________________________________\n",
            "flatten_26 (Flatten)            (None, 30)           0           user_embedding[0][0]             \n",
            "__________________________________________________________________________________________________\n",
            "multiply_14 (Multiply)          (None, 30)           0           flatten_25[0][0]                 \n",
            "                                                                 flatten_26[0][0]                 \n",
            "__________________________________________________________________________________________________\n",
            "dropout_25 (Dropout)            (None, 30)           0           multiply_14[0][0]                \n",
            "__________________________________________________________________________________________________\n",
            "dense_37 (Dense)                (None, 1)            31          dropout_25[0][0]                 \n",
            "==================================================================================================\n",
            "Total params: 44,941\n",
            "Trainable params: 44,941\n",
            "Non-trainable params: 0\n",
            "__________________________________________________________________________________________________\n"
          ],
          "name": "stdout"
        }
      ]
    },
    {
      "cell_type": "code",
      "metadata": {
        "colab": {
          "base_uri": "https://localhost:8080/"
        },
        "id": "CYzYf_WEKTEg",
        "outputId": "c3e27a28-4e8b-411f-c700-6ed7d3d5bb62"
      },
      "source": [
        "#Fit the model to the training value and train for 15 epoch for a batch size of 50\n",
        "\n",
        "history_1 = model_mlp.fit(x=X_train_array, y= data_trans , batch_size=50, epochs= 15,\n",
        "                    verbose=1, validation_data=(X_test_array, data_trans_test))"
      ],
      "execution_count": null,
      "outputs": [
        {
          "output_type": "stream",
          "text": [
            "Epoch 1/15\n",
            "22/22 [==============================] - 0s 6ms/step - loss: 0.6632 - mse: 0.6632 - accuracy: 0.6570 - val_loss: 0.8015 - val_mse: 0.8015 - val_accuracy: 0.6507\n",
            "Epoch 2/15\n",
            "22/22 [==============================] - 0s 4ms/step - loss: 0.6065 - mse: 0.6065 - accuracy: 0.6598 - val_loss: 0.7890 - val_mse: 0.7890 - val_accuracy: 0.6507\n",
            "Epoch 3/15\n",
            "22/22 [==============================] - 0s 4ms/step - loss: 0.5443 - mse: 0.5443 - accuracy: 0.7180 - val_loss: 0.7774 - val_mse: 0.7774 - val_accuracy: 0.6507\n",
            "Epoch 4/15\n",
            "22/22 [==============================] - 0s 4ms/step - loss: 0.4843 - mse: 0.4843 - accuracy: 0.7697 - val_loss: 0.7667 - val_mse: 0.7667 - val_accuracy: 0.6507\n",
            "Epoch 5/15\n",
            "22/22 [==============================] - 0s 4ms/step - loss: 0.4181 - mse: 0.4181 - accuracy: 0.7773 - val_loss: 0.7572 - val_mse: 0.7572 - val_accuracy: 0.6507\n",
            "Epoch 6/15\n",
            "22/22 [==============================] - 0s 4ms/step - loss: 0.3649 - mse: 0.3649 - accuracy: 0.7810 - val_loss: 0.7486 - val_mse: 0.7486 - val_accuracy: 0.6507\n",
            "Epoch 7/15\n",
            "22/22 [==============================] - 0s 4ms/step - loss: 0.3042 - mse: 0.3042 - accuracy: 0.7857 - val_loss: 0.7414 - val_mse: 0.7414 - val_accuracy: 0.6507\n",
            "Epoch 8/15\n",
            "22/22 [==============================] - 0s 3ms/step - loss: 0.2546 - mse: 0.2546 - accuracy: 0.7885 - val_loss: 0.7351 - val_mse: 0.7351 - val_accuracy: 0.6507\n",
            "Epoch 9/15\n",
            "22/22 [==============================] - 0s 4ms/step - loss: 0.2104 - mse: 0.2104 - accuracy: 0.7904 - val_loss: 0.7297 - val_mse: 0.7297 - val_accuracy: 0.6479\n",
            "Epoch 10/15\n",
            "22/22 [==============================] - 0s 4ms/step - loss: 0.1707 - mse: 0.1707 - accuracy: 0.7904 - val_loss: 0.7251 - val_mse: 0.7251 - val_accuracy: 0.6479\n",
            "Epoch 11/15\n",
            "22/22 [==============================] - 0s 4ms/step - loss: 0.1450 - mse: 0.1450 - accuracy: 0.7904 - val_loss: 0.7214 - val_mse: 0.7214 - val_accuracy: 0.6479\n",
            "Epoch 12/15\n",
            "22/22 [==============================] - 0s 4ms/step - loss: 0.1154 - mse: 0.1154 - accuracy: 0.7904 - val_loss: 0.7185 - val_mse: 0.7185 - val_accuracy: 0.6451\n",
            "Epoch 13/15\n",
            "22/22 [==============================] - 0s 4ms/step - loss: 0.1010 - mse: 0.1010 - accuracy: 0.7904 - val_loss: 0.7161 - val_mse: 0.7161 - val_accuracy: 0.6394\n",
            "Epoch 14/15\n",
            "22/22 [==============================] - 0s 4ms/step - loss: 0.0824 - mse: 0.0824 - accuracy: 0.7904 - val_loss: 0.7140 - val_mse: 0.7140 - val_accuracy: 0.6366\n",
            "Epoch 15/15\n",
            "22/22 [==============================] - 0s 4ms/step - loss: 0.0664 - mse: 0.0664 - accuracy: 0.7904 - val_loss: 0.7123 - val_mse: 0.7123 - val_accuracy: 0.6366\n"
          ],
          "name": "stdout"
        }
      ]
    },
    {
      "cell_type": "markdown",
      "metadata": {
        "id": "SQJEIyKkjPTU"
      },
      "source": [
        "**Evaluation of Multi Layer Model**\r\n",
        "\r\n",
        "Evaluation of model is done with the test data\r\n",
        "\r\n",
        "\r\n",
        "\r\n",
        "1.   Test loss (MSE) \r\n",
        "2.   Test accuracy \r\n",
        "\r\n",
        "\r\n",
        "\r\n"
      ]
    },
    {
      "cell_type": "code",
      "metadata": {
        "colab": {
          "base_uri": "https://localhost:8080/"
        },
        "id": "waoMwepBKTEh",
        "outputId": "7029ce9e-e470-48f8-8652-bc94010ab091"
      },
      "source": [
        "# Model evaluation score for test data\n",
        "\n",
        "scores_1 = model_mlp.evaluate(X_test_array, data_trans_test,  verbose=0) # testing data\n",
        "scores_1\n",
        "\n"
      ],
      "execution_count": null,
      "outputs": [
        {
          "output_type": "execute_result",
          "data": {
            "text/plain": [
              "[0.7122902274131775, 0.7122902274131775, 0.6366197466850281]"
            ]
          },
          "metadata": {
            "tags": []
          },
          "execution_count": 226
        }
      ]
    },
    {
      "cell_type": "code",
      "metadata": {
        "colab": {
          "base_uri": "https://localhost:8080/",
          "height": 358
        },
        "id": "eWNKrl2XKTEh",
        "outputId": "781244c9-204b-428c-977b-2a11721a25af"
      },
      "source": [
        "# Plot to show model loss\n",
        "\n",
        "plt.plot(history_1.history[\"loss\"])\n",
        "plt.plot(history_1.history[\"val_loss\"])\n",
        "plt.title(\"MLP model loss\")\n",
        "plt.ylabel(\"loss (mse)\")\n",
        "plt.xlabel(\"epoch\")\n",
        "plt.legend([\"Training set\", \"Validation set\"])\n",
        "plt.show()"
      ],
      "execution_count": null,
      "outputs": [
        {
          "output_type": "display_data",
          "data": {
            "image/png": "[encoded data removed]",
            "text/plain": [
              "<Figure size 576x360 with 1 Axes>"
            ]
          },
          "metadata": {
            "tags": []
          }
        }
      ]
    },
    {
      "cell_type": "markdown",
      "metadata": {
        "id": "S4esl7k0qjJX"
      },
      "source": [
        "A MLP model with bias included for show and user ids. Model is then compiled and evaluated.\r\n",
        "\r\n",
        "\r\n"
      ]
    },
    {
      "cell_type": "code",
      "metadata": {
        "colab": {
          "base_uri": "https://localhost:8080/"
        },
        "id": "Ij1NWEOOKTEh",
        "outputId": "eecd1bdc-b273-41ae-fa28-ddb6c51f44b5"
      },
      "source": [
        "#MLP Model with bias\n",
        "from keras.layers import Add, Activation, Lambda\n",
        "\n",
        "class EmbeddingLayer:\n",
        "    def __init__(self, n_items, n_factors):\n",
        "        self.n_items = n_items\n",
        "        self.n_factors = n_factors\n",
        "    \n",
        "    def __call__(self, x):\n",
        "        x = Embedding(self.n_items, self.n_factors, embeddings_initializer='he_normal',\n",
        "                      embeddings_regularizer=l2(1e-6))(x)\n",
        "        x = Reshape((self.n_factors,))(x)\n",
        "        return x\n",
        " \n",
        "\n",
        "user = keras.Input(shape=(1,), name='n_users')\n",
        "u = EmbeddingLayer(n_users, n_factors)(user)\n",
        "ub = EmbeddingLayer(n_users, 1)(user)\n",
        "\n",
        "movie = keras.Input(shape=(1,), name='n_movies')    \n",
        "m = EmbeddingLayer(n_movies, n_factors)(movie)\n",
        "mb = EmbeddingLayer(n_movies, 1)(movie)\n",
        "    \n",
        "x = keras.layers.Concatenate()([ub, mb])\n",
        "   \n",
        "x = Activation('relu')(x)\n",
        "x = Lambda(lambda x: (x - min_senti_score) / (max_senti_score - min_senti_score))(x)\n",
        "model = Model(inputs=[movie,user], outputs=x)\n",
        "opt = Adam(lr=0.001)\n",
        "model.compile(loss='mean_squared_error', optimizer='adam', metrics=['mse'])\n",
        "  \n",
        "    \n",
        "model.summary()"
      ],
      "execution_count": null,
      "outputs": [
        {
          "output_type": "stream",
          "text": [
            "Model: \"model_11\"\n",
            "__________________________________________________________________________________________________\n",
            "Layer (type)                    Output Shape         Param #     Connected to                     \n",
            "==================================================================================================\n",
            "n_users (InputLayer)            [(None, 1)]          0                                            \n",
            "__________________________________________________________________________________________________\n",
            "n_movies (InputLayer)           [(None, 1)]          0                                            \n",
            "__________________________________________________________________________________________________\n",
            "embedding_5 (Embedding)         (None, 1, 1)         1414        n_users[0][0]                    \n",
            "__________________________________________________________________________________________________\n",
            "embedding_7 (Embedding)         (None, 1, 1)         81          n_movies[0][0]                   \n",
            "__________________________________________________________________________________________________\n",
            "reshape_5 (Reshape)             (None, 1)            0           embedding_5[0][0]                \n",
            "__________________________________________________________________________________________________\n",
            "reshape_7 (Reshape)             (None, 1)            0           embedding_7[0][0]                \n",
            "__________________________________________________________________________________________________\n",
            "concatenate_4 (Concatenate)     (None, 2)            0           reshape_5[0][0]                  \n",
            "                                                                 reshape_7[0][0]                  \n",
            "__________________________________________________________________________________________________\n",
            "activation_1 (Activation)       (None, 2)            0           concatenate_4[0][0]              \n",
            "__________________________________________________________________________________________________\n",
            "lambda_1 (Lambda)               (None, 2)            0           activation_1[0][0]               \n",
            "==================================================================================================\n",
            "Total params: 1,495\n",
            "Trainable params: 1,495\n",
            "Non-trainable params: 0\n",
            "__________________________________________________________________________________________________\n"
          ],
          "name": "stdout"
        }
      ]
    },
    {
      "cell_type": "code",
      "metadata": {
        "colab": {
          "base_uri": "https://localhost:8080/"
        },
        "id": "Ekrt9EEQKTEh",
        "outputId": "0cbf30e0-2476-4aae-f5b4-45ea76e3fda0"
      },
      "source": [
        "# Fitting the data to the model with bias\n",
        "\n",
        "history_2 = model.fit(x=X_train_array, y=data_trans, batch_size=50, epochs=10,\n",
        "                    verbose=1, validation_data=(X_test_array, data_trans_test))"
      ],
      "execution_count": null,
      "outputs": [
        {
          "output_type": "stream",
          "text": [
            "Epoch 1/10\n",
            "22/22 [==============================] - 1s 11ms/step - loss: 0.9361 - mse: 0.9361 - val_loss: 0.9605 - val_mse: 0.9605\n",
            "Epoch 2/10\n",
            "22/22 [==============================] - 0s 3ms/step - loss: 0.9781 - mse: 0.9781 - val_loss: 0.9550 - val_mse: 0.9550\n",
            "Epoch 3/10\n",
            "22/22 [==============================] - 0s 4ms/step - loss: 0.9096 - mse: 0.9096 - val_loss: 0.9499 - val_mse: 0.9499\n",
            "Epoch 4/10\n",
            "22/22 [==============================] - 0s 3ms/step - loss: 0.8964 - mse: 0.8964 - val_loss: 0.9457 - val_mse: 0.9457\n",
            "Epoch 5/10\n",
            "22/22 [==============================] - 0s 3ms/step - loss: 0.9689 - mse: 0.9689 - val_loss: 0.9416 - val_mse: 0.9416\n",
            "Epoch 6/10\n",
            "22/22 [==============================] - 0s 3ms/step - loss: 0.9210 - mse: 0.9210 - val_loss: 0.9380 - val_mse: 0.9380\n",
            "Epoch 7/10\n",
            "22/22 [==============================] - 0s 3ms/step - loss: 0.9558 - mse: 0.9558 - val_loss: 0.9346 - val_mse: 0.9346\n",
            "Epoch 8/10\n",
            "22/22 [==============================] - 0s 3ms/step - loss: 0.8536 - mse: 0.8536 - val_loss: 0.9316 - val_mse: 0.9316\n",
            "Epoch 9/10\n",
            "22/22 [==============================] - 0s 4ms/step - loss: 0.9372 - mse: 0.9372 - val_loss: 0.9284 - val_mse: 0.9284\n",
            "Epoch 10/10\n",
            "22/22 [==============================] - 0s 3ms/step - loss: 0.8763 - mse: 0.8763 - val_loss: 0.9258 - val_mse: 0.9258\n"
          ],
          "name": "stdout"
        }
      ]
    },
    {
      "cell_type": "code",
      "metadata": {
        "colab": {
          "base_uri": "https://localhost:8080/"
        },
        "id": "IrBbYjBeKTEh",
        "outputId": "e7cf262b-daa0-4dc1-fc6a-4f531ed9c3c1"
      },
      "source": [
        "# Final evaluation of the model\n",
        "\n",
        "scores_2 = model.evaluate(X_test_array, data_trans_test,  verbose=1) # testing data\n",
        "scores_2"
      ],
      "execution_count": null,
      "outputs": [
        {
          "output_type": "stream",
          "text": [
            "12/12 [==============================] - 0s 1ms/step - loss: 0.9258 - mse: 0.9258\n"
          ],
          "name": "stdout"
        },
        {
          "output_type": "execute_result",
          "data": {
            "text/plain": [
              "[0.9258191585540771, 0.9258154630661011]"
            ]
          },
          "metadata": {
            "tags": []
          },
          "execution_count": 156
        }
      ]
    },
    {
      "cell_type": "code",
      "metadata": {
        "colab": {
          "base_uri": "https://localhost:8080/",
          "height": 358
        },
        "id": "ccFkMHxcKTEh",
        "outputId": "e6fe46b1-67a9-4c26-9f98-a86ad46abb2c"
      },
      "source": [
        "# Model loss with bias \n",
        "\n",
        "import numpy as np\n",
        "import pandas as pd\n",
        "import matplotlib.pyplot as plt\n",
        "\n",
        "plt.plot(history_2.history[\"loss\"])\n",
        "plt.plot(history_2.history[\"val_loss\"])\n",
        "plt.title(\"model loss\")\n",
        "plt.ylabel(\"loss\")\n",
        "plt.xlabel(\"epoch\")\n",
        "plt.legend([\"train\", \"test\"], loc=\"upper left\")\n",
        "plt.show()"
      ],
      "execution_count": null,
      "outputs": [
        {
          "output_type": "display_data",
          "data": {
            "image/png": "[encoded data removed]",
            "text/plain": [
              "<Figure size 576x360 with 1 Axes>"
            ]
          },
          "metadata": {
            "tags": []
          }
        }
      ]
    },
    {
      "cell_type": "markdown",
      "metadata": {
        "id": "25I2b5carEz_"
      },
      "source": [
        "**Cross Validation**"
      ]
    },
    {
      "cell_type": "code",
      "metadata": {
        "id": "hY7MwWGUYJqe"
      },
      "source": [
        "# Taking 20% of sample data from the model data for cross validation \n",
        "# Since the data is large , it is computationally expensive to do cross validation so we have \n",
        "# taken a portion of the data for cross validation\n",
        "\n",
        "def frac(dataframe, fraction, other_info=None):\n",
        "    \"\"\"Returns fraction of data\"\"\"\n",
        "    return dataframe.sample(frac=fraction)\n",
        "\n",
        "\n",
        "df_data_1 = frac(df_data, 0.2) # Taking 20% of the model data \n"
      ],
      "execution_count": null,
      "outputs": []
    },
    {
      "cell_type": "code",
      "metadata": {
        "id": "3WtcrmyqAsja",
        "colab": {
          "base_uri": "https://localhost:8080/"
        },
        "outputId": "a0e7064a-9af1-4e22-a838-dc54d9cc10aa"
      },
      "source": [
        "## Cross validation \n",
        "# Cross Validation Regression MAE\n",
        "\n",
        "\n",
        "# evaluate a logistic regression model using k-fold cross-validation\n",
        "from sklearn.model_selection import RepeatedKFold, cross_val_score\n",
        "from tensorflow.keras.models import * \n",
        "from tensorflow.keras.layers import * \n",
        "from tensorflow.keras.wrappers.scikit_learn import KerasRegressor\n",
        "\n",
        "x = df_data_1.iloc[:, [0, 1]]\n",
        "y = df_data_1.Sentiment_score\n",
        "\n",
        "# Building the model with activation function and fitting the data for each fold\n",
        "def buildmodel():\n",
        "    model= Sequential([\n",
        "        Dense(4, activation=\"relu\"),\n",
        "        Dense(4, activation=\"relu\"),\n",
        "        Dense(1)\n",
        "    ])\n",
        "    model.compile(optimizer='adam', loss='mse', metrics=['accuracy'])\n",
        "    return(model)\n",
        "\n",
        "estimator= KerasRegressor(build_fn=buildmodel, epochs=100, batch_size=100, verbose=1)\n",
        "kfold= RepeatedKFold(n_splits=5, n_repeats=10)\n",
        "results= cross_val_score(estimator, x, y, cv=kfold, n_jobs=2, scoring='neg_mean_squared_error')  # 2 cpus\n",
        "results"
      ],
      "execution_count": 301,
      "outputs": [
        {
          "output_type": "execute_result",
          "data": {
            "text/plain": [
              "array([-3.23994863e-01, -1.38047516e-01, -1.46058798e+04, -1.26714929e+01,\n",
              "       -2.56231738e+01, -4.58691814e+00, -1.98747776e+02, -6.91470609e+02,\n",
              "       -2.78896086e+04, -1.88942181e+02, -1.56996057e+03, -1.02470652e+03,\n",
              "       -9.17543177e-02, -1.26333410e-01, -1.76833891e+02, -2.53802331e+00,\n",
              "       -2.47415936e+02, -4.21803588e+01, -6.95877567e-02, -1.35942830e-01,\n",
              "       -1.54343760e+01, -7.05155616e+01, -2.40075634e-01, -2.24817871e+02,\n",
              "       -6.39988097e-02, -4.13315627e+03, -3.55045045e-01, -4.76791558e+01,\n",
              "       -1.29076482e+02, -1.10703901e+02, -1.45629600e+04, -1.31511641e+00,\n",
              "       -2.06772766e-01, -2.43781758e+03, -4.21461404e+02, -4.57110476e+01,\n",
              "       -1.03991089e-01, -1.25331259e-01, -6.86823276e+03, -1.07144280e-01,\n",
              "       -1.10062118e-01, -4.40441239e+00, -9.23073287e-02, -9.82572727e-02,\n",
              "       -1.54191856e-01, -1.09825812e+00, -2.24450535e-01, -6.27174344e+00,\n",
              "       -3.28236115e+01, -3.69605991e-01])"
            ]
          },
          "metadata": {
            "tags": []
          },
          "execution_count": 301
        }
      ]
    },
    {
      "cell_type": "code",
      "metadata": {
        "id": "kcM6dx4WKTEi",
        "colab": {
          "base_uri": "https://localhost:8080/"
        },
        "outputId": "af49d80c-f23d-48f9-e49e-846971d553f6"
      },
      "source": [
        "# Sentiment score for the test data using mlp model\n",
        "\n",
        "s_scores = model_mlp.predict(X_test_array)\n",
        "s_scores\n"
      ],
      "execution_count": null,
      "outputs": [
        {
          "output_type": "execute_result",
          "data": {
            "text/plain": [
              "array([[0.35345426],\n",
              "       [0.416772  ],\n",
              "       [0.35542116],\n",
              "       [0.36380157],\n",
              "       [0.43506745],\n",
              "       [0.33816984],\n",
              "       [0.33915836],\n",
              "       [0.32127783],\n",
              "       [0.35379648],\n",
              "       [0.42762563],\n",
              "       [0.34416857],\n",
              "       [0.40171653],\n",
              "       [0.36469668],\n",
              "       [0.40765435],\n",
              "       [0.41291362],\n",
              "       [0.43319514],\n",
              "       [0.28713048],\n",
              "       [0.33465397],\n",
              "       [0.39075962],\n",
              "       [0.40247622],\n",
              "       [0.42463043],\n",
              "       [0.3665867 ],\n",
              "       [0.44473866],\n",
              "       [0.3965224 ],\n",
              "       [0.26834357],\n",
              "       [0.5023664 ],\n",
              "       [0.37191302],\n",
              "       [0.37505835],\n",
              "       [0.30576095],\n",
              "       [0.30522084],\n",
              "       [0.3515712 ],\n",
              "       [0.4212662 ],\n",
              "       [0.4162337 ],\n",
              "       [0.46423793],\n",
              "       [0.41716453],\n",
              "       [0.36214313],\n",
              "       [0.3941342 ],\n",
              "       [0.39841577],\n",
              "       [0.5249151 ],\n",
              "       [0.4533829 ],\n",
              "       [0.35879785],\n",
              "       [0.38338736],\n",
              "       [0.42640987],\n",
              "       [0.41259828],\n",
              "       [0.3223138 ],\n",
              "       [0.45971978],\n",
              "       [0.2944419 ],\n",
              "       [0.27642915],\n",
              "       [0.33521524],\n",
              "       [0.37545487],\n",
              "       [0.33919027],\n",
              "       [0.37863165],\n",
              "       [0.44919032],\n",
              "       [0.35262406],\n",
              "       [0.4223337 ],\n",
              "       [0.47516185],\n",
              "       [0.52190876],\n",
              "       [0.4306325 ],\n",
              "       [0.27680457],\n",
              "       [0.3862572 ],\n",
              "       [0.4715142 ],\n",
              "       [0.41943455],\n",
              "       [0.5980452 ],\n",
              "       [0.36470595],\n",
              "       [0.38370073],\n",
              "       [0.51630753],\n",
              "       [0.36257362],\n",
              "       [0.3940966 ],\n",
              "       [0.37496763],\n",
              "       [0.31360537],\n",
              "       [0.42838347],\n",
              "       [0.3713952 ],\n",
              "       [0.39508474],\n",
              "       [0.42955774],\n",
              "       [0.41658825],\n",
              "       [0.38727084],\n",
              "       [0.41347215],\n",
              "       [0.2651833 ],\n",
              "       [0.47308272],\n",
              "       [0.33450216],\n",
              "       [0.4087046 ],\n",
              "       [0.34617385],\n",
              "       [0.3137344 ],\n",
              "       [0.42916167],\n",
              "       [0.4636777 ],\n",
              "       [0.40430996],\n",
              "       [0.42811865],\n",
              "       [0.4124694 ],\n",
              "       [0.3480971 ],\n",
              "       [0.378926  ],\n",
              "       [0.36631775],\n",
              "       [0.3840112 ],\n",
              "       [0.415221  ],\n",
              "       [0.33237118],\n",
              "       [0.44335723],\n",
              "       [0.5128597 ],\n",
              "       [0.29907957],\n",
              "       [0.4836616 ],\n",
              "       [0.42217988],\n",
              "       [0.38726398],\n",
              "       [0.3446056 ],\n",
              "       [0.363001  ],\n",
              "       [0.3910098 ],\n",
              "       [0.3857147 ],\n",
              "       [0.3049059 ],\n",
              "       [0.34988374],\n",
              "       [0.24398981],\n",
              "       [0.3019588 ],\n",
              "       [0.43988702],\n",
              "       [0.28526634],\n",
              "       [0.40564376],\n",
              "       [0.39614314],\n",
              "       [0.38544068],\n",
              "       [0.39140218],\n",
              "       [0.45081967],\n",
              "       [0.45066205],\n",
              "       [0.35334155],\n",
              "       [0.29967204],\n",
              "       [0.39177933],\n",
              "       [0.42653203],\n",
              "       [0.4186487 ],\n",
              "       [0.4068058 ],\n",
              "       [0.37017605],\n",
              "       [0.37716565],\n",
              "       [0.5163223 ],\n",
              "       [0.5070386 ],\n",
              "       [0.4140129 ],\n",
              "       [0.3283512 ],\n",
              "       [0.33592924],\n",
              "       [0.36145934],\n",
              "       [0.3775639 ],\n",
              "       [0.4013378 ],\n",
              "       [0.3850373 ],\n",
              "       [0.42537346],\n",
              "       [0.4536775 ],\n",
              "       [0.41736034],\n",
              "       [0.318187  ],\n",
              "       [0.37195438],\n",
              "       [0.38735357],\n",
              "       [0.36930496],\n",
              "       [0.41664988],\n",
              "       [0.38685483],\n",
              "       [0.3338074 ],\n",
              "       [0.39115548],\n",
              "       [0.45859468],\n",
              "       [0.40598863],\n",
              "       [0.4060597 ],\n",
              "       [0.4133784 ],\n",
              "       [0.41466582],\n",
              "       [0.57255936],\n",
              "       [0.3511535 ],\n",
              "       [0.39807236],\n",
              "       [0.28789267],\n",
              "       [0.36936674],\n",
              "       [0.43088347],\n",
              "       [0.4601553 ],\n",
              "       [0.25186896],\n",
              "       [0.40224832],\n",
              "       [0.3592997 ],\n",
              "       [0.40068087],\n",
              "       [0.36473694],\n",
              "       [0.4706199 ],\n",
              "       [0.295058  ],\n",
              "       [0.41380164],\n",
              "       [0.3974387 ],\n",
              "       [0.37232208],\n",
              "       [0.3649601 ],\n",
              "       [0.4080658 ],\n",
              "       [0.41831446],\n",
              "       [0.39454892],\n",
              "       [0.32025093],\n",
              "       [0.45129895],\n",
              "       [0.37006345],\n",
              "       [0.4763313 ],\n",
              "       [0.3336776 ],\n",
              "       [0.3785676 ],\n",
              "       [0.44791454],\n",
              "       [0.40211138],\n",
              "       [0.38899663],\n",
              "       [0.52834266],\n",
              "       [0.33910748],\n",
              "       [0.33351573],\n",
              "       [0.43309963],\n",
              "       [0.39489856],\n",
              "       [0.47859633],\n",
              "       [0.33666354],\n",
              "       [0.41672462],\n",
              "       [0.39447173],\n",
              "       [0.4158643 ],\n",
              "       [0.4137024 ],\n",
              "       [0.3901876 ],\n",
              "       [0.32954583],\n",
              "       [0.39758292],\n",
              "       [0.3622091 ],\n",
              "       [0.33939075],\n",
              "       [0.3319397 ],\n",
              "       [0.46202725],\n",
              "       [0.34333625],\n",
              "       [0.5251624 ],\n",
              "       [0.40208352],\n",
              "       [0.40822452],\n",
              "       [0.40631863],\n",
              "       [0.40589288],\n",
              "       [0.3762655 ],\n",
              "       [0.42930058],\n",
              "       [0.38785747],\n",
              "       [0.4418783 ],\n",
              "       [0.33124265],\n",
              "       [0.48018324],\n",
              "       [0.4087934 ],\n",
              "       [0.36118075],\n",
              "       [0.41387895],\n",
              "       [0.46855038],\n",
              "       [0.35165292],\n",
              "       [0.44558394],\n",
              "       [0.27854335],\n",
              "       [0.29439607],\n",
              "       [0.4178461 ],\n",
              "       [0.3371451 ],\n",
              "       [0.47467807],\n",
              "       [0.44715348],\n",
              "       [0.42812082],\n",
              "       [0.46081287],\n",
              "       [0.39020514],\n",
              "       [0.43091583],\n",
              "       [0.39918268],\n",
              "       [0.38990796],\n",
              "       [0.4813227 ],\n",
              "       [0.4183961 ],\n",
              "       [0.4234243 ],\n",
              "       [0.39199752],\n",
              "       [0.41517487],\n",
              "       [0.427955  ],\n",
              "       [0.44555306],\n",
              "       [0.46366146],\n",
              "       [0.32449436],\n",
              "       [0.39362815],\n",
              "       [0.37427613],\n",
              "       [0.18919538],\n",
              "       [0.35352024],\n",
              "       [0.32255775],\n",
              "       [0.43874365],\n",
              "       [0.51034147],\n",
              "       [0.38196442],\n",
              "       [0.424455  ],\n",
              "       [0.38588813],\n",
              "       [0.3941564 ],\n",
              "       [0.40462095],\n",
              "       [0.38796675],\n",
              "       [0.4096065 ],\n",
              "       [0.42657077],\n",
              "       [0.35963058],\n",
              "       [0.42184925],\n",
              "       [0.5024091 ],\n",
              "       [0.31374675],\n",
              "       [0.41479254],\n",
              "       [0.38540927],\n",
              "       [0.32098365],\n",
              "       [0.39247653],\n",
              "       [0.3842389 ],\n",
              "       [0.40287802],\n",
              "       [0.23315515],\n",
              "       [0.37205836],\n",
              "       [0.4117926 ],\n",
              "       [0.3424563 ],\n",
              "       [0.3912131 ],\n",
              "       [0.38423437],\n",
              "       [0.35497853],\n",
              "       [0.35605597],\n",
              "       [0.37342057],\n",
              "       [0.3943296 ],\n",
              "       [0.42543334],\n",
              "       [0.3850249 ],\n",
              "       [0.34517494],\n",
              "       [0.39043218],\n",
              "       [0.352856  ],\n",
              "       [0.41441834],\n",
              "       [0.3088587 ],\n",
              "       [0.4878109 ],\n",
              "       [0.24377525],\n",
              "       [0.3360988 ],\n",
              "       [0.4215429 ],\n",
              "       [0.3132691 ],\n",
              "       [0.32845297],\n",
              "       [0.39462638],\n",
              "       [0.46091986],\n",
              "       [0.35563564],\n",
              "       [0.39725712],\n",
              "       [0.36052522],\n",
              "       [0.46511158],\n",
              "       [0.456137  ],\n",
              "       [0.3529744 ],\n",
              "       [0.3520589 ],\n",
              "       [0.41046575],\n",
              "       [0.42931324],\n",
              "       [0.40636942],\n",
              "       [0.42450362],\n",
              "       [0.47961175],\n",
              "       [0.49923337],\n",
              "       [0.30142745],\n",
              "       [0.40330353],\n",
              "       [0.43076992],\n",
              "       [0.3618539 ],\n",
              "       [0.4082353 ],\n",
              "       [0.35212493],\n",
              "       [0.43644026],\n",
              "       [0.5593792 ],\n",
              "       [0.3892109 ],\n",
              "       [0.3205507 ],\n",
              "       [0.4522408 ],\n",
              "       [0.36108685],\n",
              "       [0.35250643],\n",
              "       [0.39558724],\n",
              "       [0.30438322],\n",
              "       [0.37650433],\n",
              "       [0.38582203],\n",
              "       [0.29302114],\n",
              "       [0.42909652],\n",
              "       [0.39638236],\n",
              "       [0.37273708],\n",
              "       [0.38361585],\n",
              "       [0.2974691 ],\n",
              "       [0.37491566],\n",
              "       [0.33015603],\n",
              "       [0.3873959 ],\n",
              "       [0.39811486],\n",
              "       [0.41765144],\n",
              "       [0.35220188],\n",
              "       [0.44028014],\n",
              "       [0.50938517],\n",
              "       [0.26104906],\n",
              "       [0.44740936],\n",
              "       [0.3993637 ],\n",
              "       [0.3820114 ],\n",
              "       [0.3798082 ],\n",
              "       [0.40182924],\n",
              "       [0.31293112],\n",
              "       [0.4049393 ],\n",
              "       [0.3504416 ],\n",
              "       [0.44367015],\n",
              "       [0.40648845],\n",
              "       [0.3764783 ],\n",
              "       [0.33889452],\n",
              "       [0.46415257],\n",
              "       [0.37570807],\n",
              "       [0.42839387],\n",
              "       [0.28608596],\n",
              "       [0.4053645 ],\n",
              "       [0.4360133 ],\n",
              "       [0.4264695 ],\n",
              "       [0.3860308 ],\n",
              "       [0.48520473],\n",
              "       [0.27633774],\n",
              "       [0.40861174],\n",
              "       [0.35051256]], dtype=float32)"
            ]
          },
          "metadata": {
            "tags": []
          },
          "execution_count": 251
        }
      ]
    },
    {
      "cell_type": "code",
      "metadata": {
        "id": "sCSyo_ygKTEi",
        "colab": {
          "base_uri": "https://localhost:8080/",
          "height": 202
        },
        "outputId": "f682e101-2f27-40cd-f187-041fc82a2039"
      },
      "source": [
        "# Filtering the model data for the recommendation\n",
        "\n",
        "df_model_data1 = df_model_data[['show_id', 'title', 'IMDB_rating', 'genre_encoded', 'Sentiment_score']]\n",
        "df_model_data = df_model_data.drop_duplicates().reset_index(drop=True)\n",
        "df_model_data1 = df_model_data1.drop_duplicates().reset_index(drop=True)\n",
        "df_model_data1.head()\n",
        "df_model_data.head()"
      ],
      "execution_count": null,
      "outputs": [
        {
          "output_type": "execute_result",
          "data": {
            "text/html": [
              "<div>\n",
              "<style scoped>\n",
              "    .dataframe tbody tr th:only-of-type {\n",
              "        vertical-align: middle;\n",
              "    }\n",
              "\n",
              "    .dataframe tbody tr th {\n",
              "        vertical-align: top;\n",
              "    }\n",
              "\n",
              "    .dataframe thead th {\n",
              "        text-align: right;\n",
              "    }\n",
              "</style>\n",
              "<table border=\"1\" class=\"dataframe\">\n",
              "  <thead>\n",
              "    <tr style=\"text-align: right;\">\n",
              "      <th></th>\n",
              "      <th>show_id</th>\n",
              "      <th>title</th>\n",
              "      <th>user_id</th>\n",
              "      <th>Genre</th>\n",
              "      <th>Sentiment_score</th>\n",
              "      <th>IMDB_rating</th>\n",
              "      <th>genre_encoded</th>\n",
              "      <th>user</th>\n",
              "      <th>show</th>\n",
              "    </tr>\n",
              "  </thead>\n",
              "  <tbody>\n",
              "    <tr>\n",
              "      <th>0</th>\n",
              "      <td>81049578</td>\n",
              "      <td>Tango</td>\n",
              "      <td>17904615</td>\n",
              "      <td>Romance</td>\n",
              "      <td>0.082</td>\n",
              "      <td>7.1</td>\n",
              "      <td>3</td>\n",
              "      <td>25</td>\n",
              "      <td>77</td>\n",
              "    </tr>\n",
              "    <tr>\n",
              "      <th>1</th>\n",
              "      <td>80169549</td>\n",
              "      <td>Incomplete</td>\n",
              "      <td>41304774</td>\n",
              "      <td>Romance</td>\n",
              "      <td>0.133</td>\n",
              "      <td>5.4</td>\n",
              "      <td>3</td>\n",
              "      <td>108</td>\n",
              "      <td>51</td>\n",
              "    </tr>\n",
              "    <tr>\n",
              "      <th>2</th>\n",
              "      <td>81021831</td>\n",
              "      <td>Sabrina</td>\n",
              "      <td>84945789</td>\n",
              "      <td>Horror</td>\n",
              "      <td>0.139</td>\n",
              "      <td>6.6</td>\n",
              "      <td>2</td>\n",
              "      <td>158</td>\n",
              "      <td>72</td>\n",
              "    </tr>\n",
              "    <tr>\n",
              "      <th>3</th>\n",
              "      <td>915927</td>\n",
              "      <td>Rocky</td>\n",
              "      <td>1146429722</td>\n",
              "      <td>Action</td>\n",
              "      <td>0.159</td>\n",
              "      <td>8.1</td>\n",
              "      <td>0</td>\n",
              "      <td>527</td>\n",
              "      <td>0</td>\n",
              "    </tr>\n",
              "    <tr>\n",
              "      <th>4</th>\n",
              "      <td>80082969</td>\n",
              "      <td>Delirium</td>\n",
              "      <td>2682146265</td>\n",
              "      <td>Horror</td>\n",
              "      <td>0.166</td>\n",
              "      <td>5.7</td>\n",
              "      <td>2</td>\n",
              "      <td>642</td>\n",
              "      <td>37</td>\n",
              "    </tr>\n",
              "  </tbody>\n",
              "</table>\n",
              "</div>"
            ],
            "text/plain": [
              "    show_id       title     user_id  ... genre_encoded  user  show\n",
              "0  81049578       Tango    17904615  ...             3    25    77\n",
              "1  80169549  Incomplete    41304774  ...             3   108    51\n",
              "2  81021831     Sabrina    84945789  ...             2   158    72\n",
              "3    915927       Rocky  1146429722  ...             0   527     0\n",
              "4  80082969    Delirium  2682146265  ...             2   642    37\n",
              "\n",
              "[5 rows x 9 columns]"
            ]
          },
          "metadata": {
            "tags": []
          },
          "execution_count": 252
        }
      ]
    },
    {
      "cell_type": "code",
      "metadata": {
        "id": "4Fon-3gVKTEi"
      },
      "source": [
        "# Removing duplicates and sorting the sentiment score for each shows \n",
        "df_model_array = df_model_data[['show', 'IMDB_rating', 'genre_encoded']].drop_duplicates().reset_index(drop=True)\n",
        "\n",
        "df_model_data = df_model_data.sort_values('Sentiment_score').drop_duplicates(subset=['show', 'genre_encoded', 'IMDB_rating', ], keep='last').reset_index(drop=True)\n"
      ],
      "execution_count": 328,
      "outputs": []
    },
    {
      "cell_type": "code",
      "metadata": {
        "id": "7bT2qRv0KTEi",
        "colab": {
          "base_uri": "https://localhost:8080/"
        },
        "outputId": "e51c64d6-697d-452d-cada-057156beb7ce"
      },
      "source": [
        "# Taking a sample twitter user from the model data for the recommendation\n",
        "\n",
        "df_model_array = df_model_array.to_numpy() \n",
        "df_model_array[:, 0]\n",
        "\n",
        "user = df_model_data.user.sample(1).iloc[0]\n",
        "user"
      ],
      "execution_count": 329,
      "outputs": [
        {
          "output_type": "execute_result",
          "data": {
            "text/plain": [
              "238"
            ]
          },
          "metadata": {
            "tags": []
          },
          "execution_count": 329
        }
      ]
    },
    {
      "cell_type": "code",
      "metadata": {
        "id": "h8TXeOEIahAb",
        "colab": {
          "base_uri": "https://localhost:8080/",
          "height": 79
        },
        "outputId": "35f634eb-9cc7-4129-ba41-e60bf2d0bfe9"
      },
      "source": [
        "# Checking the user details from our analyzed data\r\n",
        "\r\n",
        "df_model_data.loc[df_model_data['user'] == user]"
      ],
      "execution_count": 330,
      "outputs": [
        {
          "output_type": "execute_result",
          "data": {
            "text/html": [
              "<div>\n",
              "<style scoped>\n",
              "    .dataframe tbody tr th:only-of-type {\n",
              "        vertical-align: middle;\n",
              "    }\n",
              "\n",
              "    .dataframe tbody tr th {\n",
              "        vertical-align: top;\n",
              "    }\n",
              "\n",
              "    .dataframe thead th {\n",
              "        text-align: right;\n",
              "    }\n",
              "</style>\n",
              "<table border=\"1\" class=\"dataframe\">\n",
              "  <thead>\n",
              "    <tr style=\"text-align: right;\">\n",
              "      <th></th>\n",
              "      <th>show_id</th>\n",
              "      <th>title</th>\n",
              "      <th>user_id</th>\n",
              "      <th>Genre</th>\n",
              "      <th>Sentiment_score</th>\n",
              "      <th>IMDB_rating</th>\n",
              "      <th>genre_encoded</th>\n",
              "      <th>user</th>\n",
              "      <th>show</th>\n",
              "    </tr>\n",
              "  </thead>\n",
              "  <tbody>\n",
              "    <tr>\n",
              "      <th>40</th>\n",
              "      <td>80091879</td>\n",
              "      <td>Hush</td>\n",
              "      <td>202480252</td>\n",
              "      <td>Horror</td>\n",
              "      <td>0.651</td>\n",
              "      <td>6.6</td>\n",
              "      <td>2</td>\n",
              "      <td>238</td>\n",
              "      <td>38</td>\n",
              "    </tr>\n",
              "  </tbody>\n",
              "</table>\n",
              "</div>"
            ],
            "text/plain": [
              "     show_id title    user_id   Genre  ...  IMDB_rating  genre_encoded  user  show\n",
              "40  80091879  Hush  202480252  Horror  ...          6.6              2   238    38\n",
              "\n",
              "[1 rows x 9 columns]"
            ]
          },
          "metadata": {
            "tags": []
          },
          "execution_count": 330
        }
      ]
    },
    {
      "cell_type": "code",
      "metadata": {
        "id": "Z5DbEonVKTEi",
        "colab": {
          "base_uri": "https://localhost:8080/",
          "height": 238
        },
        "outputId": "fe842319-4188-44b7-f68f-55841109ad57"
      },
      "source": [
        "# Locating the user to check tweets and it's corresponding sentiment score \r\n",
        "\r\n",
        "#df_data.loc[df_data['user'] == user]\r\n",
        "usr = 202480252\r\n",
        "data_clean.loc[data_clean['user_id'] == usr]\r\n"
      ],
      "execution_count": 331,
      "outputs": [
        {
          "output_type": "execute_result",
          "data": {
            "text/html": [
              "<div>\n",
              "<style scoped>\n",
              "    .dataframe tbody tr th:only-of-type {\n",
              "        vertical-align: middle;\n",
              "    }\n",
              "\n",
              "    .dataframe tbody tr th {\n",
              "        vertical-align: top;\n",
              "    }\n",
              "\n",
              "    .dataframe thead th {\n",
              "        text-align: right;\n",
              "    }\n",
              "</style>\n",
              "<table border=\"1\" class=\"dataframe\">\n",
              "  <thead>\n",
              "    <tr style=\"text-align: right;\">\n",
              "      <th></th>\n",
              "      <th>user_id</th>\n",
              "      <th>title</th>\n",
              "      <th>text</th>\n",
              "      <th>Genre</th>\n",
              "      <th>show_id</th>\n",
              "      <th>created</th>\n",
              "      <th>pol_sub</th>\n",
              "      <th>text_clean</th>\n",
              "      <th>Sentiment_score</th>\n",
              "    </tr>\n",
              "  </thead>\n",
              "  <tbody>\n",
              "    <tr>\n",
              "      <th>828</th>\n",
              "      <td>202480252</td>\n",
              "      <td>Hush</td>\n",
              "      <td>HUSH (2016) REVIEW! on Netflix \\n-WOOOW this is an AMAZING thriller/realistic horror movie 😱\\n-use headphones to real… https://t.co/gt3OdclWi1</td>\n",
              "      <td>Horror</td>\n",
              "      <td>80091879</td>\n",
              "      <td>2020-10-14 04:27:14</td>\n",
              "      <td>(0.6000000000000001, 0.9)</td>\n",
              "      <td>hush  review on netflix wooow this is an amazing thrillerrealistic horror movie use headphones to real</td>\n",
              "      <td>0.651</td>\n",
              "    </tr>\n",
              "  </tbody>\n",
              "</table>\n",
              "</div>"
            ],
            "text/plain": [
              "       user_id  ... Sentiment_score\n",
              "828  202480252  ...           0.651\n",
              "\n",
              "[1 rows x 9 columns]"
            ]
          },
          "metadata": {
            "tags": []
          },
          "execution_count": 331
        }
      ]
    },
    {
      "cell_type": "code",
      "metadata": {
        "id": "iMBLxn79KTEi",
        "colab": {
          "base_uri": "https://localhost:8080/",
          "height": 79
        },
        "outputId": "c225908b-60bd-4c67-d60c-4aad05204bd0"
      },
      "source": [
        "# User details before data encoding \r\n",
        "\r\n",
        "df_model_data.loc[df_model_data['user'] == user]"
      ],
      "execution_count": 332,
      "outputs": [
        {
          "output_type": "execute_result",
          "data": {
            "text/html": [
              "<div>\n",
              "<style scoped>\n",
              "    .dataframe tbody tr th:only-of-type {\n",
              "        vertical-align: middle;\n",
              "    }\n",
              "\n",
              "    .dataframe tbody tr th {\n",
              "        vertical-align: top;\n",
              "    }\n",
              "\n",
              "    .dataframe thead th {\n",
              "        text-align: right;\n",
              "    }\n",
              "</style>\n",
              "<table border=\"1\" class=\"dataframe\">\n",
              "  <thead>\n",
              "    <tr style=\"text-align: right;\">\n",
              "      <th></th>\n",
              "      <th>show_id</th>\n",
              "      <th>title</th>\n",
              "      <th>user_id</th>\n",
              "      <th>Genre</th>\n",
              "      <th>Sentiment_score</th>\n",
              "      <th>IMDB_rating</th>\n",
              "      <th>genre_encoded</th>\n",
              "      <th>user</th>\n",
              "      <th>show</th>\n",
              "    </tr>\n",
              "  </thead>\n",
              "  <tbody>\n",
              "    <tr>\n",
              "      <th>40</th>\n",
              "      <td>80091879</td>\n",
              "      <td>Hush</td>\n",
              "      <td>202480252</td>\n",
              "      <td>Horror</td>\n",
              "      <td>0.651</td>\n",
              "      <td>6.6</td>\n",
              "      <td>2</td>\n",
              "      <td>238</td>\n",
              "      <td>38</td>\n",
              "    </tr>\n",
              "  </tbody>\n",
              "</table>\n",
              "</div>"
            ],
            "text/plain": [
              "     show_id title    user_id   Genre  ...  IMDB_rating  genre_encoded  user  show\n",
              "40  80091879  Hush  202480252  Horror  ...          6.6              2   238    38\n",
              "\n",
              "[1 rows x 9 columns]"
            ]
          },
          "metadata": {
            "tags": []
          },
          "execution_count": 332
        }
      ]
    },
    {
      "cell_type": "code",
      "metadata": {
        "id": "VwKLqny_KTEi",
        "colab": {
          "base_uri": "https://localhost:8080/"
        },
        "outputId": "d9c47a36-d84b-4002-cfdb-197bff31b8ec"
      },
      "source": [
        "# Taking one user array with same length as show details for the sample user for prediction \n",
        "\n",
        "user = np.array([user for i in range(len(df_model_array[:, 0]))])\n",
        "user"
      ],
      "execution_count": 333,
      "outputs": [
        {
          "output_type": "execute_result",
          "data": {
            "text/plain": [
              "array([238, 238, 238, 238, 238, 238, 238, 238, 238, 238, 238, 238, 238,\n",
              "       238, 238, 238, 238, 238, 238, 238, 238, 238, 238, 238, 238, 238,\n",
              "       238, 238, 238, 238, 238, 238, 238, 238, 238, 238, 238, 238, 238,\n",
              "       238, 238, 238, 238, 238, 238, 238, 238, 238, 238, 238, 238, 238,\n",
              "       238, 238, 238, 238, 238, 238, 238, 238, 238, 238, 238, 238, 238,\n",
              "       238, 238, 238, 238, 238, 238, 238, 238, 238, 238, 238, 238, 238,\n",
              "       238, 238, 238])"
            ]
          },
          "metadata": {
            "tags": []
          },
          "execution_count": 333
        }
      ]
    },
    {
      "cell_type": "code",
      "metadata": {
        "id": "TEvY0yPlKTEi"
      },
      "source": [
        "# Prediction for a single user\n",
        "pred = model_mlp.predict([df_model_array[:, 0], user])\n",
        "#pred"
      ],
      "execution_count": 345,
      "outputs": []
    },
    {
      "cell_type": "code",
      "metadata": {
        "id": "jr8bBQBnKTEi",
        "colab": {
          "base_uri": "https://localhost:8080/"
        },
        "outputId": "9f24f0bb-7360-4a14-84a5-1fb66f6747c2"
      },
      "source": [
        "## Get the index ids of top 5 sentiment scores\n",
        "pred = pred.reshape(-1) #reshape to single dimension\n",
        "pred_ids = (-pred).argsort()[1:11]\n",
        "pred_ids\n",
        "\n"
      ],
      "execution_count": 362,
      "outputs": [
        {
          "output_type": "execute_result",
          "data": {
            "text/plain": [
              "array([40, 63, 77, 72, 29, 45, 52,  2, 74, 12])"
            ]
          },
          "metadata": {
            "tags": []
          },
          "execution_count": 362
        }
      ]
    },
    {
      "cell_type": "code",
      "metadata": {
        "id": "S0QucTDRKTEj",
        "colab": {
          "base_uri": "https://localhost:8080/",
          "height": 355
        },
        "outputId": "9b4f3841-ec2f-4485-c3bc-71ebf0392870"
      },
      "source": [
        "#Sentiment score predicted values\n",
        "\n",
        "df_model_data1.iloc[pred_ids]"
      ],
      "execution_count": 363,
      "outputs": [
        {
          "output_type": "execute_result",
          "data": {
            "text/html": [
              "<div>\n",
              "<style scoped>\n",
              "    .dataframe tbody tr th:only-of-type {\n",
              "        vertical-align: middle;\n",
              "    }\n",
              "\n",
              "    .dataframe tbody tr th {\n",
              "        vertical-align: top;\n",
              "    }\n",
              "\n",
              "    .dataframe thead th {\n",
              "        text-align: right;\n",
              "    }\n",
              "</style>\n",
              "<table border=\"1\" class=\"dataframe\">\n",
              "  <thead>\n",
              "    <tr style=\"text-align: right;\">\n",
              "      <th></th>\n",
              "      <th>show_id</th>\n",
              "      <th>title</th>\n",
              "      <th>IMDB_rating</th>\n",
              "      <th>genre_encoded</th>\n",
              "      <th>Sentiment_score</th>\n",
              "    </tr>\n",
              "  </thead>\n",
              "  <tbody>\n",
              "    <tr>\n",
              "      <th>40</th>\n",
              "      <td>80091879</td>\n",
              "      <td>Hush</td>\n",
              "      <td>6.6</td>\n",
              "      <td>2</td>\n",
              "      <td>0.651</td>\n",
              "    </tr>\n",
              "    <tr>\n",
              "      <th>63</th>\n",
              "      <td>80158104</td>\n",
              "      <td>Taken</td>\n",
              "      <td>7.8</td>\n",
              "      <td>0</td>\n",
              "      <td>1.000</td>\n",
              "    </tr>\n",
              "    <tr>\n",
              "      <th>77</th>\n",
              "      <td>60028294</td>\n",
              "      <td>Popeye</td>\n",
              "      <td>5.3</td>\n",
              "      <td>0</td>\n",
              "      <td>1.000</td>\n",
              "    </tr>\n",
              "    <tr>\n",
              "      <th>72</th>\n",
              "      <td>70001082</td>\n",
              "      <td>Run</td>\n",
              "      <td>8.4</td>\n",
              "      <td>0</td>\n",
              "      <td>1.000</td>\n",
              "    </tr>\n",
              "    <tr>\n",
              "      <th>29</th>\n",
              "      <td>81087094</td>\n",
              "      <td>Lifechanger</td>\n",
              "      <td>5.4</td>\n",
              "      <td>2</td>\n",
              "      <td>0.321</td>\n",
              "    </tr>\n",
              "    <tr>\n",
              "      <th>45</th>\n",
              "      <td>81168340</td>\n",
              "      <td>Medium</td>\n",
              "      <td>6.9</td>\n",
              "      <td>2</td>\n",
              "      <td>1.000</td>\n",
              "    </tr>\n",
              "    <tr>\n",
              "      <th>52</th>\n",
              "      <td>80207371</td>\n",
              "      <td>Close</td>\n",
              "      <td>5.7</td>\n",
              "      <td>0</td>\n",
              "      <td>1.000</td>\n",
              "    </tr>\n",
              "    <tr>\n",
              "      <th>2</th>\n",
              "      <td>81021831</td>\n",
              "      <td>Sabrina</td>\n",
              "      <td>6.6</td>\n",
              "      <td>2</td>\n",
              "      <td>0.139</td>\n",
              "    </tr>\n",
              "    <tr>\n",
              "      <th>74</th>\n",
              "      <td>80022605</td>\n",
              "      <td>Remember</td>\n",
              "      <td>7.5</td>\n",
              "      <td>0</td>\n",
              "      <td>1.000</td>\n",
              "    </tr>\n",
              "    <tr>\n",
              "      <th>12</th>\n",
              "      <td>80141767</td>\n",
              "      <td>Tiger</td>\n",
              "      <td>6.4</td>\n",
              "      <td>0</td>\n",
              "      <td>0.214</td>\n",
              "    </tr>\n",
              "  </tbody>\n",
              "</table>\n",
              "</div>"
            ],
            "text/plain": [
              "     show_id        title  IMDB_rating  genre_encoded  Sentiment_score\n",
              "40  80091879         Hush          6.6              2            0.651\n",
              "63  80158104        Taken          7.8              0            1.000\n",
              "77  60028294       Popeye          5.3              0            1.000\n",
              "72  70001082          Run          8.4              0            1.000\n",
              "29  81087094  Lifechanger          5.4              2            0.321\n",
              "45  81168340       Medium          6.9              2            1.000\n",
              "52  80207371        Close          5.7              0            1.000\n",
              "2   81021831      Sabrina          6.6              2            0.139\n",
              "74  80022605     Remember          7.5              0            1.000\n",
              "12  80141767        Tiger          6.4              0            0.214"
            ]
          },
          "metadata": {
            "tags": []
          },
          "execution_count": 363
        }
      ]
    },
    {
      "cell_type": "markdown",
      "metadata": {
        "id": "OWsLzvq5aE0D"
      },
      "source": [
        "For the user id 238, the user tweeted about the movie 'Hush' and the sentiment score for the tweet is 0.651\t. The model predicted top 10 netflix shows for this user as above. Among these 10 suggestions, we can see that the model is recommending the user four horror genre movies i.e. same category of the movie he tweeted about. Based on the user's interaction and tweeted data, we can say that he will find one of these recommendations useful."
      ]
    },
    {
      "cell_type": "code",
      "metadata": {
        "id": "r-MACWV1KTEi"
      },
      "source": [
        "#since model_mlp performance is better than other models \n",
        "#checking prediction results for test data \n",
        "\n",
        "X_test_s = pd.DataFrame(X_test[:, 0]) # sentiment score \n",
        "X_test_u = pd.DataFrame(X_test[:, 1]) # user ids \n",
        "\n",
        "y_df = pd.DataFrame(y_test)\n",
        "\n",
        "# sentiment score prediction\n",
        "s_scores = pd.DataFrame(model_mlp.predict(X_test_array))\n",
        "\n",
        "X_test_df = pd.concat([X_test_s, X_test_u, y_df ,s_scores], axis=1)\n",
        "#s_scores\n",
        "\n",
        "#test_df = pd.concat([X_test_df, s_scores], axis=1)\n",
        "#test_df\n",
        "\n"
      ],
      "execution_count": 364,
      "outputs": []
    },
    {
      "cell_type": "code",
      "metadata": {
        "id": "vio1ZnFzYHE_"
      },
      "source": [
        "X_test_df.columns = ['show_Id', 'user_Id', 'actual_ss', 'r_predictions']"
      ],
      "execution_count": 365,
      "outputs": []
    },
    {
      "cell_type": "code",
      "metadata": {
        "colab": {
          "base_uri": "https://localhost:8080/",
          "height": 415
        },
        "id": "fHEsPyIjaVQq",
        "outputId": "e29a8bb9-950f-4385-c635-52527793d0c3"
      },
      "source": [
        "# Checking the actual sentiment score and the predicted score data using MLP model\r\n",
        "\r\n",
        "X_test_df"
      ],
      "execution_count": null,
      "outputs": [
        {
          "output_type": "execute_result",
          "data": {
            "text/html": [
              "<div>\n",
              "<style scoped>\n",
              "    .dataframe tbody tr th:only-of-type {\n",
              "        vertical-align: middle;\n",
              "    }\n",
              "\n",
              "    .dataframe tbody tr th {\n",
              "        vertical-align: top;\n",
              "    }\n",
              "\n",
              "    .dataframe thead th {\n",
              "        text-align: right;\n",
              "    }\n",
              "</style>\n",
              "<table border=\"1\" class=\"dataframe\">\n",
              "  <thead>\n",
              "    <tr style=\"text-align: right;\">\n",
              "      <th></th>\n",
              "      <th>show_Id</th>\n",
              "      <th>user_Id</th>\n",
              "      <th>actual_ss</th>\n",
              "      <th>r_predictions</th>\n",
              "    </tr>\n",
              "  </thead>\n",
              "  <tbody>\n",
              "    <tr>\n",
              "      <th>0</th>\n",
              "      <td>43.0</td>\n",
              "      <td>448.0</td>\n",
              "      <td>0.097</td>\n",
              "      <td>0.353454</td>\n",
              "    </tr>\n",
              "    <tr>\n",
              "      <th>1</th>\n",
              "      <td>2.0</td>\n",
              "      <td>629.0</td>\n",
              "      <td>0.158</td>\n",
              "      <td>0.416772</td>\n",
              "    </tr>\n",
              "    <tr>\n",
              "      <th>2</th>\n",
              "      <td>68.0</td>\n",
              "      <td>1141.0</td>\n",
              "      <td>0.268</td>\n",
              "      <td>0.355421</td>\n",
              "    </tr>\n",
              "    <tr>\n",
              "      <th>3</th>\n",
              "      <td>68.0</td>\n",
              "      <td>89.0</td>\n",
              "      <td>0.423</td>\n",
              "      <td>0.363802</td>\n",
              "    </tr>\n",
              "    <tr>\n",
              "      <th>4</th>\n",
              "      <td>2.0</td>\n",
              "      <td>431.0</td>\n",
              "      <td>0.179</td>\n",
              "      <td>0.435067</td>\n",
              "    </tr>\n",
              "    <tr>\n",
              "      <th>...</th>\n",
              "      <td>...</td>\n",
              "      <td>...</td>\n",
              "      <td>...</td>\n",
              "      <td>...</td>\n",
              "    </tr>\n",
              "    <tr>\n",
              "      <th>350</th>\n",
              "      <td>74.0</td>\n",
              "      <td>907.0</td>\n",
              "      <td>1.000</td>\n",
              "      <td>0.386031</td>\n",
              "    </tr>\n",
              "    <tr>\n",
              "      <th>351</th>\n",
              "      <td>33.0</td>\n",
              "      <td>130.0</td>\n",
              "      <td>0.121</td>\n",
              "      <td>0.485205</td>\n",
              "    </tr>\n",
              "    <tr>\n",
              "      <th>352</th>\n",
              "      <td>74.0</td>\n",
              "      <td>427.0</td>\n",
              "      <td>0.454</td>\n",
              "      <td>0.276338</td>\n",
              "    </tr>\n",
              "    <tr>\n",
              "      <th>353</th>\n",
              "      <td>2.0</td>\n",
              "      <td>65.0</td>\n",
              "      <td>1.000</td>\n",
              "      <td>0.408612</td>\n",
              "    </tr>\n",
              "    <tr>\n",
              "      <th>354</th>\n",
              "      <td>2.0</td>\n",
              "      <td>1206.0</td>\n",
              "      <td>0.251</td>\n",
              "      <td>0.350513</td>\n",
              "    </tr>\n",
              "  </tbody>\n",
              "</table>\n",
              "<p>355 rows × 4 columns</p>\n",
              "</div>"
            ],
            "text/plain": [
              "     show_Id  user_Id  actual_ss  r_predictions\n",
              "0       43.0    448.0      0.097       0.353454\n",
              "1        2.0    629.0      0.158       0.416772\n",
              "2       68.0   1141.0      0.268       0.355421\n",
              "3       68.0     89.0      0.423       0.363802\n",
              "4        2.0    431.0      0.179       0.435067\n",
              "..       ...      ...        ...            ...\n",
              "350     74.0    907.0      1.000       0.386031\n",
              "351     33.0    130.0      0.121       0.485205\n",
              "352     74.0    427.0      0.454       0.276338\n",
              "353      2.0     65.0      1.000       0.408612\n",
              "354      2.0   1206.0      0.251       0.350513\n",
              "\n",
              "[355 rows x 4 columns]"
            ]
          },
          "metadata": {
            "tags": []
          },
          "execution_count": 289
        }
      ]
    },
    {
      "cell_type": "code",
      "metadata": {
        "colab": {
          "base_uri": "https://localhost:8080/"
        },
        "id": "He1trRGrbiv2",
        "outputId": "9e66f733-88be-44a3-beb8-c8b97ca3a087"
      },
      "source": [
        "##Evaluation using MSE, MAE and RMSE\n",
        "from sklearn import metrics\n",
        "\n",
        "print(\"MSE: \", metrics.mean_squared_error(X_test_df.actual_ss, X_test_df.r_predictions))\n",
        "print(\"MAE: \", metrics.mean_absolute_error(X_test_df.actual_ss, X_test_df.r_predictions))\n",
        "print(\"RMSE: \", np.sqrt(metrics.mean_squared_error(X_test_df.actual_ss, X_test_df.r_predictions)))"
      ],
      "execution_count": null,
      "outputs": [
        {
          "output_type": "stream",
          "text": [
            "MSE:  0.10506618873807119\n",
            "MAE:  0.2590484098498251\n",
            "RMSE:  0.3241391502704837\n"
          ],
          "name": "stdout"
        }
      ]
    },
    {
      "cell_type": "markdown",
      "metadata": {
        "id": "KojygvkoTavD"
      },
      "source": [
        "From the above evaluation details we can see that the mean squared error , mean absolute error and root mean squared errors are very less. So there is very less difference between the actual data and predicted data in test data set."
      ]
    }
  ]
}